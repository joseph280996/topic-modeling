{
  "cells": [
    {
      "cell_type": "markdown",
      "metadata": {
        "id": "wRbqovbSk2Kw"
      },
      "source": [
        "# Topic Modeling for Fun and Profit\n",
        "\n",
        "[Source](https://radimrehurek.com/topic_modeling_tutorial/2%20-%20Topic%20Modeling.html)\n",
        "\n",
        "In this notebook we'll\n",
        "\n",
        "* vectorize a streamed corpus\n",
        "* run topic modeling on streamed vectors, using gensim\n",
        "* explore how to choose, evaluate and tweak topic modeling parameters\n",
        "* persist trained models to disk, for later re-use\n",
        "* In the [previous notebook 1 - Streamed Corpora](https://radimrehurek.com/gensim_3.8.3/auto_examples/howtos/run_compare_lda.html) we used the 20newsgroups corpus to demonstrate data preprocessing and streaming.\n",
        "\n",
        "Now we'll switch to the English Wikipedia and do some topic modeling. Link: https://radimrehurek.com/gensim/auto_examples/core/run_corpora_and_vector_spaces.html#sphx-glr-auto-examples-core-run-corpora-and-vector-spaces-py"
      ]
    },
    {
      "cell_type": "code",
      "execution_count": null,
      "metadata": {
        "colab": {
          "base_uri": "https://localhost:8080/"
        },
        "id": "57ncQLTfjZ6V",
        "outputId": "df45eec7-d867-46b9-f277-cca0ed457430"
      },
      "outputs": [
        {
          "output_type": "stream",
          "name": "stdout",
          "text": [
            "Begun at 2024-04-10 03:43:05.685010\n"
          ]
        }
      ],
      "source": [
        "from datetime import datetime\n",
        "\n",
        "# datetime object containing current date and time\n",
        "now = datetime.now()\n",
        "\n",
        "print(\"Begun at\", now)"
      ]
    },
    {
      "cell_type": "code",
      "execution_count": null,
      "metadata": {
        "colab": {
          "base_uri": "https://localhost:8080/"
        },
        "id": "RqamHsJEzxkI",
        "outputId": "3099143d-6dda-4d05-8866-fce2b205bd0d"
      },
      "outputs": [
        {
          "output_type": "stream",
          "name": "stdout",
          "text": [
            "Requirement already satisfied: six in /usr/local/lib/python3.10/dist-packages (1.16.0)\n",
            "Requirement already satisfied: cython in /usr/local/lib/python3.10/dist-packages (3.0.10)\n",
            "Requirement already satisfied: numpy in /usr/local/lib/python3.10/dist-packages (1.25.2)\n",
            "Requirement already satisfied: scipy in /usr/local/lib/python3.10/dist-packages (1.11.4)\n",
            "Requirement already satisfied: ipython[notebook] in /usr/local/lib/python3.10/dist-packages (7.34.0)\n",
            "Requirement already satisfied: setuptools>=18.5 in /usr/local/lib/python3.10/dist-packages (from ipython[notebook]) (67.7.2)\n",
            "Collecting jedi>=0.16 (from ipython[notebook])\n",
            "  Downloading jedi-0.19.1-py2.py3-none-any.whl (1.6 MB)\n",
            "\u001b[2K     \u001b[90m━━━━━━━━━━━━━━━━━━━━━━━━━━━━━━━━━━━━━━━━\u001b[0m \u001b[32m1.6/1.6 MB\u001b[0m \u001b[31m7.2 MB/s\u001b[0m eta \u001b[36m0:00:00\u001b[0m\n",
            "\u001b[?25hRequirement already satisfied: decorator in /usr/local/lib/python3.10/dist-packages (from ipython[notebook]) (4.4.2)\n",
            "Requirement already satisfied: pickleshare in /usr/local/lib/python3.10/dist-packages (from ipython[notebook]) (0.7.5)\n",
            "Requirement already satisfied: traitlets>=4.2 in /usr/local/lib/python3.10/dist-packages (from ipython[notebook]) (5.7.1)\n",
            "Requirement already satisfied: prompt-toolkit!=3.0.0,!=3.0.1,<3.1.0,>=2.0.0 in /usr/local/lib/python3.10/dist-packages (from ipython[notebook]) (3.0.43)\n",
            "Requirement already satisfied: pygments in /usr/local/lib/python3.10/dist-packages (from ipython[notebook]) (2.16.1)\n",
            "Requirement already satisfied: backcall in /usr/local/lib/python3.10/dist-packages (from ipython[notebook]) (0.2.0)\n",
            "Requirement already satisfied: matplotlib-inline in /usr/local/lib/python3.10/dist-packages (from ipython[notebook]) (0.1.6)\n",
            "Requirement already satisfied: pexpect>4.3 in /usr/local/lib/python3.10/dist-packages (from ipython[notebook]) (4.9.0)\n",
            "Requirement already satisfied: notebook in /usr/local/lib/python3.10/dist-packages (from ipython[notebook]) (6.5.5)\n",
            "Requirement already satisfied: ipywidgets in /usr/local/lib/python3.10/dist-packages (from ipython[notebook]) (7.7.1)\n",
            "Requirement already satisfied: parso<0.9.0,>=0.8.3 in /usr/local/lib/python3.10/dist-packages (from jedi>=0.16->ipython[notebook]) (0.8.3)\n",
            "Requirement already satisfied: ptyprocess>=0.5 in /usr/local/lib/python3.10/dist-packages (from pexpect>4.3->ipython[notebook]) (0.7.0)\n",
            "Requirement already satisfied: wcwidth in /usr/local/lib/python3.10/dist-packages (from prompt-toolkit!=3.0.0,!=3.0.1,<3.1.0,>=2.0.0->ipython[notebook]) (0.2.13)\n",
            "Requirement already satisfied: ipykernel>=4.5.1 in /usr/local/lib/python3.10/dist-packages (from ipywidgets->ipython[notebook]) (5.5.6)\n",
            "Requirement already satisfied: ipython-genutils~=0.2.0 in /usr/local/lib/python3.10/dist-packages (from ipywidgets->ipython[notebook]) (0.2.0)\n",
            "Requirement already satisfied: widgetsnbextension~=3.6.0 in /usr/local/lib/python3.10/dist-packages (from ipywidgets->ipython[notebook]) (3.6.6)\n",
            "Requirement already satisfied: jupyterlab-widgets>=1.0.0 in /usr/local/lib/python3.10/dist-packages (from ipywidgets->ipython[notebook]) (3.0.10)\n",
            "Requirement already satisfied: jinja2 in /usr/local/lib/python3.10/dist-packages (from notebook->ipython[notebook]) (3.1.3)\n",
            "Requirement already satisfied: tornado>=6.1 in /usr/local/lib/python3.10/dist-packages (from notebook->ipython[notebook]) (6.3.3)\n",
            "Requirement already satisfied: pyzmq<25,>=17 in /usr/local/lib/python3.10/dist-packages (from notebook->ipython[notebook]) (23.2.1)\n",
            "Requirement already satisfied: argon2-cffi in /usr/local/lib/python3.10/dist-packages (from notebook->ipython[notebook]) (23.1.0)\n",
            "Requirement already satisfied: jupyter-core>=4.6.1 in /usr/local/lib/python3.10/dist-packages (from notebook->ipython[notebook]) (5.7.2)\n",
            "Requirement already satisfied: jupyter-client<8,>=5.3.4 in /usr/local/lib/python3.10/dist-packages (from notebook->ipython[notebook]) (6.1.12)\n",
            "Requirement already satisfied: nbformat in /usr/local/lib/python3.10/dist-packages (from notebook->ipython[notebook]) (5.10.3)\n",
            "Requirement already satisfied: nbconvert>=5 in /usr/local/lib/python3.10/dist-packages (from notebook->ipython[notebook]) (6.5.4)\n",
            "Requirement already satisfied: nest-asyncio>=1.5 in /usr/local/lib/python3.10/dist-packages (from notebook->ipython[notebook]) (1.6.0)\n",
            "Requirement already satisfied: Send2Trash>=1.8.0 in /usr/local/lib/python3.10/dist-packages (from notebook->ipython[notebook]) (1.8.2)\n",
            "Requirement already satisfied: terminado>=0.8.3 in /usr/local/lib/python3.10/dist-packages (from notebook->ipython[notebook]) (0.18.1)\n",
            "Requirement already satisfied: prometheus-client in /usr/local/lib/python3.10/dist-packages (from notebook->ipython[notebook]) (0.20.0)\n",
            "Requirement already satisfied: nbclassic>=0.4.7 in /usr/local/lib/python3.10/dist-packages (from notebook->ipython[notebook]) (1.0.0)\n",
            "Requirement already satisfied: python-dateutil>=2.1 in /usr/local/lib/python3.10/dist-packages (from jupyter-client<8,>=5.3.4->notebook->ipython[notebook]) (2.8.2)\n",
            "Requirement already satisfied: platformdirs>=2.5 in /usr/local/lib/python3.10/dist-packages (from jupyter-core>=4.6.1->notebook->ipython[notebook]) (4.2.0)\n",
            "Requirement already satisfied: jupyter-server>=1.8 in /usr/local/lib/python3.10/dist-packages (from nbclassic>=0.4.7->notebook->ipython[notebook]) (1.24.0)\n",
            "Requirement already satisfied: notebook-shim>=0.2.3 in /usr/local/lib/python3.10/dist-packages (from nbclassic>=0.4.7->notebook->ipython[notebook]) (0.2.4)\n",
            "Requirement already satisfied: lxml in /usr/local/lib/python3.10/dist-packages (from nbconvert>=5->notebook->ipython[notebook]) (4.9.4)\n",
            "Requirement already satisfied: beautifulsoup4 in /usr/local/lib/python3.10/dist-packages (from nbconvert>=5->notebook->ipython[notebook]) (4.12.3)\n",
            "Requirement already satisfied: bleach in /usr/local/lib/python3.10/dist-packages (from nbconvert>=5->notebook->ipython[notebook]) (6.1.0)\n",
            "Requirement already satisfied: defusedxml in /usr/local/lib/python3.10/dist-packages (from nbconvert>=5->notebook->ipython[notebook]) (0.7.1)\n",
            "Requirement already satisfied: entrypoints>=0.2.2 in /usr/local/lib/python3.10/dist-packages (from nbconvert>=5->notebook->ipython[notebook]) (0.4)\n",
            "Requirement already satisfied: jupyterlab-pygments in /usr/local/lib/python3.10/dist-packages (from nbconvert>=5->notebook->ipython[notebook]) (0.3.0)\n",
            "Requirement already satisfied: MarkupSafe>=2.0 in /usr/local/lib/python3.10/dist-packages (from nbconvert>=5->notebook->ipython[notebook]) (2.1.5)\n",
            "Requirement already satisfied: mistune<2,>=0.8.1 in /usr/local/lib/python3.10/dist-packages (from nbconvert>=5->notebook->ipython[notebook]) (0.8.4)\n",
            "Requirement already satisfied: nbclient>=0.5.0 in /usr/local/lib/python3.10/dist-packages (from nbconvert>=5->notebook->ipython[notebook]) (0.10.0)\n",
            "Requirement already satisfied: packaging in /usr/local/lib/python3.10/dist-packages (from nbconvert>=5->notebook->ipython[notebook]) (24.0)\n",
            "Requirement already satisfied: pandocfilters>=1.4.1 in /usr/local/lib/python3.10/dist-packages (from nbconvert>=5->notebook->ipython[notebook]) (1.5.1)\n",
            "Requirement already satisfied: tinycss2 in /usr/local/lib/python3.10/dist-packages (from nbconvert>=5->notebook->ipython[notebook]) (1.2.1)\n",
            "Requirement already satisfied: fastjsonschema in /usr/local/lib/python3.10/dist-packages (from nbformat->notebook->ipython[notebook]) (2.19.1)\n",
            "Requirement already satisfied: jsonschema>=2.6 in /usr/local/lib/python3.10/dist-packages (from nbformat->notebook->ipython[notebook]) (4.19.2)\n",
            "Requirement already satisfied: argon2-cffi-bindings in /usr/local/lib/python3.10/dist-packages (from argon2-cffi->notebook->ipython[notebook]) (21.2.0)\n",
            "Requirement already satisfied: attrs>=22.2.0 in /usr/local/lib/python3.10/dist-packages (from jsonschema>=2.6->nbformat->notebook->ipython[notebook]) (23.2.0)\n",
            "Requirement already satisfied: jsonschema-specifications>=2023.03.6 in /usr/local/lib/python3.10/dist-packages (from jsonschema>=2.6->nbformat->notebook->ipython[notebook]) (2023.12.1)\n",
            "Requirement already satisfied: referencing>=0.28.4 in /usr/local/lib/python3.10/dist-packages (from jsonschema>=2.6->nbformat->notebook->ipython[notebook]) (0.34.0)\n",
            "Requirement already satisfied: rpds-py>=0.7.1 in /usr/local/lib/python3.10/dist-packages (from jsonschema>=2.6->nbformat->notebook->ipython[notebook]) (0.18.0)\n",
            "Requirement already satisfied: anyio<4,>=3.1.0 in /usr/local/lib/python3.10/dist-packages (from jupyter-server>=1.8->nbclassic>=0.4.7->notebook->ipython[notebook]) (3.7.1)\n",
            "Requirement already satisfied: websocket-client in /usr/local/lib/python3.10/dist-packages (from jupyter-server>=1.8->nbclassic>=0.4.7->notebook->ipython[notebook]) (1.7.0)\n",
            "Requirement already satisfied: cffi>=1.0.1 in /usr/local/lib/python3.10/dist-packages (from argon2-cffi-bindings->argon2-cffi->notebook->ipython[notebook]) (1.16.0)\n",
            "Requirement already satisfied: soupsieve>1.2 in /usr/local/lib/python3.10/dist-packages (from beautifulsoup4->nbconvert>=5->notebook->ipython[notebook]) (2.5)\n",
            "Requirement already satisfied: webencodings in /usr/local/lib/python3.10/dist-packages (from bleach->nbconvert>=5->notebook->ipython[notebook]) (0.5.1)\n",
            "Requirement already satisfied: idna>=2.8 in /usr/local/lib/python3.10/dist-packages (from anyio<4,>=3.1.0->jupyter-server>=1.8->nbclassic>=0.4.7->notebook->ipython[notebook]) (3.6)\n",
            "Requirement already satisfied: sniffio>=1.1 in /usr/local/lib/python3.10/dist-packages (from anyio<4,>=3.1.0->jupyter-server>=1.8->nbclassic>=0.4.7->notebook->ipython[notebook]) (1.3.1)\n",
            "Requirement already satisfied: exceptiongroup in /usr/local/lib/python3.10/dist-packages (from anyio<4,>=3.1.0->jupyter-server>=1.8->nbclassic>=0.4.7->notebook->ipython[notebook]) (1.2.0)\n",
            "Requirement already satisfied: pycparser in /usr/local/lib/python3.10/dist-packages (from cffi>=1.0.1->argon2-cffi-bindings->argon2-cffi->notebook->ipython[notebook]) (2.22)\n",
            "Installing collected packages: jedi\n",
            "Successfully installed jedi-0.19.1\n",
            "Requirement already satisfied: nltk in /usr/local/lib/python3.10/dist-packages (3.8.1)\n",
            "Requirement already satisfied: gensim in /usr/local/lib/python3.10/dist-packages (4.3.2)\n",
            "Collecting pattern\n",
            "  Downloading Pattern-3.6.0.tar.gz (22.2 MB)\n",
            "\u001b[2K     \u001b[90m━━━━━━━━━━━━━━━━━━━━━━━━━━━━━━━━━━━━━━━━\u001b[0m \u001b[32m22.2/22.2 MB\u001b[0m \u001b[31m36.9 MB/s\u001b[0m eta \u001b[36m0:00:00\u001b[0m\n",
            "\u001b[?25h  Preparing metadata (setup.py) ... \u001b[?25l\u001b[?25hdone\n",
            "Requirement already satisfied: requests in /usr/local/lib/python3.10/dist-packages (2.31.0)\n",
            "Requirement already satisfied: textblob in /usr/local/lib/python3.10/dist-packages (0.17.1)\n",
            "Requirement already satisfied: click in /usr/local/lib/python3.10/dist-packages (from nltk) (8.1.7)\n",
            "Requirement already satisfied: joblib in /usr/local/lib/python3.10/dist-packages (from nltk) (1.3.2)\n",
            "Requirement already satisfied: regex>=2021.8.3 in /usr/local/lib/python3.10/dist-packages (from nltk) (2023.12.25)\n",
            "Requirement already satisfied: tqdm in /usr/local/lib/python3.10/dist-packages (from nltk) (4.66.2)\n",
            "Requirement already satisfied: numpy>=1.18.5 in /usr/local/lib/python3.10/dist-packages (from gensim) (1.25.2)\n",
            "Requirement already satisfied: scipy>=1.7.0 in /usr/local/lib/python3.10/dist-packages (from gensim) (1.11.4)\n",
            "Requirement already satisfied: smart-open>=1.8.1 in /usr/local/lib/python3.10/dist-packages (from gensim) (6.4.0)\n",
            "Requirement already satisfied: future in /usr/local/lib/python3.10/dist-packages (from pattern) (0.18.3)\n",
            "Collecting backports.csv (from pattern)\n",
            "  Downloading backports.csv-1.0.7-py2.py3-none-any.whl (12 kB)\n",
            "Collecting mysqlclient (from pattern)\n",
            "  Downloading mysqlclient-2.2.4.tar.gz (90 kB)\n",
            "\u001b[2K     \u001b[90m━━━━━━━━━━━━━━━━━━━━━━━━━━━━━━━━━━━━━━━━\u001b[0m \u001b[32m90.4/90.4 kB\u001b[0m \u001b[31m7.3 MB/s\u001b[0m eta \u001b[36m0:00:00\u001b[0m\n",
            "\u001b[?25h  Installing build dependencies ... \u001b[?25l\u001b[?25hdone\n",
            "  Getting requirements to build wheel ... \u001b[?25l\u001b[?25hdone\n",
            "  Installing backend dependencies ... \u001b[?25l\u001b[?25hdone\n",
            "  Preparing metadata (pyproject.toml) ... \u001b[?25l\u001b[?25hdone\n",
            "Requirement already satisfied: beautifulsoup4 in /usr/local/lib/python3.10/dist-packages (from pattern) (4.12.3)\n",
            "Requirement already satisfied: lxml in /usr/local/lib/python3.10/dist-packages (from pattern) (4.9.4)\n",
            "Collecting feedparser (from pattern)\n",
            "  Downloading feedparser-6.0.11-py3-none-any.whl (81 kB)\n",
            "\u001b[2K     \u001b[90m━━━━━━━━━━━━━━━━━━━━━━━━━━━━━━━━━━━━━━━━\u001b[0m \u001b[32m81.3/81.3 kB\u001b[0m \u001b[31m8.8 MB/s\u001b[0m eta \u001b[36m0:00:00\u001b[0m\n",
            "\u001b[?25hCollecting pdfminer.six (from pattern)\n",
            "  Downloading pdfminer.six-20231228-py3-none-any.whl (5.6 MB)\n",
            "\u001b[2K     \u001b[90m━━━━━━━━━━━━━━━━━━━━━━━━━━━━━━━━━━━━━━━━\u001b[0m \u001b[32m5.6/5.6 MB\u001b[0m \u001b[31m64.6 MB/s\u001b[0m eta \u001b[36m0:00:00\u001b[0m\n",
            "\u001b[?25hCollecting python-docx (from pattern)\n",
            "  Downloading python_docx-1.1.0-py3-none-any.whl (239 kB)\n",
            "\u001b[2K     \u001b[90m━━━━━━━━━━━━━━━━━━━━━━━━━━━━━━━━━━━━━━━━\u001b[0m \u001b[32m239.6/239.6 kB\u001b[0m \u001b[31m21.8 MB/s\u001b[0m eta \u001b[36m0:00:00\u001b[0m\n",
            "\u001b[?25hCollecting cherrypy (from pattern)\n",
            "  Downloading CherryPy-18.9.0-py3-none-any.whl (348 kB)\n",
            "\u001b[2K     \u001b[90m━━━━━━━━━━━━━━━━━━━━━━━━━━━━━━━━━━━━━━━━\u001b[0m \u001b[32m348.8/348.8 kB\u001b[0m \u001b[31m34.3 MB/s\u001b[0m eta \u001b[36m0:00:00\u001b[0m\n",
            "\u001b[?25hRequirement already satisfied: charset-normalizer<4,>=2 in /usr/local/lib/python3.10/dist-packages (from requests) (3.3.2)\n",
            "Requirement already satisfied: idna<4,>=2.5 in /usr/local/lib/python3.10/dist-packages (from requests) (3.6)\n",
            "Requirement already satisfied: urllib3<3,>=1.21.1 in /usr/local/lib/python3.10/dist-packages (from requests) (2.0.7)\n",
            "Requirement already satisfied: certifi>=2017.4.17 in /usr/local/lib/python3.10/dist-packages (from requests) (2024.2.2)\n",
            "Requirement already satisfied: soupsieve>1.2 in /usr/local/lib/python3.10/dist-packages (from beautifulsoup4->pattern) (2.5)\n",
            "Collecting cheroot>=8.2.1 (from cherrypy->pattern)\n",
            "  Downloading cheroot-10.0.0-py3-none-any.whl (101 kB)\n",
            "\u001b[2K     \u001b[90m━━━━━━━━━━━━━━━━━━━━━━━━━━━━━━━━━━━━━━━━\u001b[0m \u001b[32m101.6/101.6 kB\u001b[0m \u001b[31m12.5 MB/s\u001b[0m eta \u001b[36m0:00:00\u001b[0m\n",
            "\u001b[?25hCollecting portend>=2.1.1 (from cherrypy->pattern)\n",
            "  Downloading portend-3.2.0-py3-none-any.whl (5.3 kB)\n",
            "Requirement already satisfied: more-itertools in /usr/local/lib/python3.10/dist-packages (from cherrypy->pattern) (10.1.0)\n",
            "Collecting zc.lockfile (from cherrypy->pattern)\n",
            "  Downloading zc.lockfile-3.0.post1-py3-none-any.whl (9.8 kB)\n",
            "Collecting jaraco.collections (from cherrypy->pattern)\n",
            "  Downloading jaraco.collections-5.0.0-py3-none-any.whl (10 kB)\n",
            "Collecting sgmllib3k (from feedparser->pattern)\n",
            "  Downloading sgmllib3k-1.0.0.tar.gz (5.8 kB)\n",
            "  Preparing metadata (setup.py) ... \u001b[?25l\u001b[?25hdone\n",
            "Requirement already satisfied: cryptography>=36.0.0 in /usr/local/lib/python3.10/dist-packages (from pdfminer.six->pattern) (42.0.5)\n",
            "Requirement already satisfied: typing-extensions in /usr/local/lib/python3.10/dist-packages (from python-docx->pattern) (4.10.0)\n",
            "Collecting jaraco.functools (from cheroot>=8.2.1->cherrypy->pattern)\n",
            "  Downloading jaraco.functools-4.0.0-py3-none-any.whl (9.8 kB)\n",
            "Requirement already satisfied: cffi>=1.12 in /usr/local/lib/python3.10/dist-packages (from cryptography>=36.0.0->pdfminer.six->pattern) (1.16.0)\n",
            "Collecting tempora>=1.8 (from portend>=2.1.1->cherrypy->pattern)\n",
            "  Downloading tempora-5.5.1-py3-none-any.whl (13 kB)\n",
            "Collecting jaraco.text (from jaraco.collections->cherrypy->pattern)\n",
            "  Downloading jaraco.text-3.12.0-py3-none-any.whl (11 kB)\n",
            "Requirement already satisfied: setuptools in /usr/local/lib/python3.10/dist-packages (from zc.lockfile->cherrypy->pattern) (67.7.2)\n",
            "Requirement already satisfied: pycparser in /usr/local/lib/python3.10/dist-packages (from cffi>=1.12->cryptography>=36.0.0->pdfminer.six->pattern) (2.22)\n",
            "Requirement already satisfied: pytz in /usr/local/lib/python3.10/dist-packages (from tempora>=1.8->portend>=2.1.1->cherrypy->pattern) (2023.4)\n",
            "Collecting jaraco.context>=4.1 (from jaraco.text->jaraco.collections->cherrypy->pattern)\n",
            "  Downloading jaraco.context-5.3.0-py3-none-any.whl (6.5 kB)\n",
            "Collecting autocommand (from jaraco.text->jaraco.collections->cherrypy->pattern)\n",
            "  Downloading autocommand-2.2.2-py3-none-any.whl (19 kB)\n",
            "Requirement already satisfied: inflect in /usr/local/lib/python3.10/dist-packages (from jaraco.text->jaraco.collections->cherrypy->pattern) (7.0.0)\n",
            "Collecting backports.tarfile (from jaraco.context>=4.1->jaraco.text->jaraco.collections->cherrypy->pattern)\n",
            "  Downloading backports.tarfile-1.0.0-py3-none-any.whl (28 kB)\n",
            "Requirement already satisfied: pydantic>=1.9.1 in /usr/local/lib/python3.10/dist-packages (from inflect->jaraco.text->jaraco.collections->cherrypy->pattern) (2.6.4)\n",
            "Requirement already satisfied: annotated-types>=0.4.0 in /usr/local/lib/python3.10/dist-packages (from pydantic>=1.9.1->inflect->jaraco.text->jaraco.collections->cherrypy->pattern) (0.6.0)\n",
            "Requirement already satisfied: pydantic-core==2.16.3 in /usr/local/lib/python3.10/dist-packages (from pydantic>=1.9.1->inflect->jaraco.text->jaraco.collections->cherrypy->pattern) (2.16.3)\n",
            "Building wheels for collected packages: pattern, mysqlclient, sgmllib3k\n",
            "  Building wheel for pattern (setup.py) ... \u001b[?25l\u001b[?25hdone\n",
            "  Created wheel for pattern: filename=Pattern-3.6-py3-none-any.whl size=22332702 sha256=cd640656aa62119d34cc6895adbe07cc9e1c7ce4d6e535270e5081d48e3db2b6\n",
            "  Stored in directory: /root/.cache/pip/wheels/d1/8f/40/fe23abd593ef60be5bfaf3e02154d3484df42aa947bbf4d499\n",
            "  Building wheel for mysqlclient (pyproject.toml) ... \u001b[?25l\u001b[?25hdone\n",
            "  Created wheel for mysqlclient: filename=mysqlclient-2.2.4-cp310-cp310-linux_x86_64.whl size=124731 sha256=e9bbf113d106482f2e6acb8c1fba3b53a05d70cff09dff6fec300b2d40b075f4\n",
            "  Stored in directory: /root/.cache/pip/wheels/ac/96/ac/2a4d8cb58a4d95de1dffc3f8b0ea42e0e5b63ab97640edbda3\n",
            "  Building wheel for sgmllib3k (setup.py) ... \u001b[?25l\u001b[?25hdone\n",
            "  Created wheel for sgmllib3k: filename=sgmllib3k-1.0.0-py3-none-any.whl size=6049 sha256=76266718d1f7de0fbeeb62a2b390e28fe5bdb25a05be73e8de95ff6a00d62603\n",
            "  Stored in directory: /root/.cache/pip/wheels/f0/69/93/a47e9d621be168e9e33c7ce60524393c0b92ae83cf6c6e89c5\n",
            "Successfully built pattern mysqlclient sgmllib3k\n",
            "Installing collected packages: sgmllib3k, backports.csv, zc.lockfile, python-docx, mysqlclient, jaraco.functools, feedparser, backports.tarfile, autocommand, tempora, jaraco.context, cheroot, portend, pdfminer.six, jaraco.text, jaraco.collections, cherrypy, pattern\n",
            "Successfully installed autocommand-2.2.2 backports.csv-1.0.7 backports.tarfile-1.0.0 cheroot-10.0.0 cherrypy-18.9.0 feedparser-6.0.11 jaraco.collections-5.0.0 jaraco.context-5.3.0 jaraco.functools-4.0.0 jaraco.text-3.12.0 mysqlclient-2.2.4 pattern-3.6 pdfminer.six-20231228 portend-3.2.0 python-docx-1.1.0 sgmllib3k-1.0.0 tempora-5.5.1 zc.lockfile-3.0.post1\n",
            "[nltk_data] Downloading package brown to /root/nltk_data...\n",
            "[nltk_data]   Unzipping corpora/brown.zip.\n",
            "[nltk_data] Downloading package punkt to /root/nltk_data...\n",
            "[nltk_data]   Unzipping tokenizers/punkt.zip.\n",
            "[nltk_data] Downloading package wordnet to /root/nltk_data...\n",
            "[nltk_data] Downloading package averaged_perceptron_tagger to\n",
            "[nltk_data]     /root/nltk_data...\n",
            "[nltk_data]   Unzipping taggers/averaged_perceptron_tagger.zip.\n",
            "Finished.\n",
            "Requirement already satisfied: gensim in /usr/local/lib/python3.10/dist-packages (4.3.2)\n",
            "Requirement already satisfied: numpy>=1.18.5 in /usr/local/lib/python3.10/dist-packages (from gensim) (1.25.2)\n",
            "Requirement already satisfied: scipy>=1.7.0 in /usr/local/lib/python3.10/dist-packages (from gensim) (1.11.4)\n",
            "Requirement already satisfied: smart-open>=1.8.1 in /usr/local/lib/python3.10/dist-packages (from gensim) (6.4.0)\n",
            "Requirement already satisfied: smart_open in /usr/local/lib/python3.10/dist-packages (6.4.0)\n",
            "Collecting smart_open\n",
            "  Downloading smart_open-7.0.4-py3-none-any.whl (61 kB)\n",
            "\u001b[2K     \u001b[90m━━━━━━━━━━━━━━━━━━━━━━━━━━━━━━━━━━━━━━━━\u001b[0m \u001b[32m61.2/61.2 kB\u001b[0m \u001b[31m1.9 MB/s\u001b[0m eta \u001b[36m0:00:00\u001b[0m\n",
            "\u001b[?25hRequirement already satisfied: wrapt in /usr/local/lib/python3.10/dist-packages (from smart_open) (1.14.1)\n",
            "Installing collected packages: smart_open\n",
            "  Attempting uninstall: smart_open\n",
            "    Found existing installation: smart-open 6.4.0\n",
            "    Uninstalling smart-open-6.4.0:\n",
            "      Successfully uninstalled smart-open-6.4.0\n",
            "\u001b[31mERROR: pip's dependency resolver does not currently take into account all the packages that are installed. This behaviour is the source of the following dependency conflicts.\n",
            "spacy 3.7.4 requires smart-open<7.0.0,>=5.2.1, but you have smart-open 7.0.4 which is incompatible.\n",
            "weasel 0.3.4 requires smart-open<7.0.0,>=5.2.1, but you have smart-open 7.0.4 which is incompatible.\u001b[0m\u001b[31m\n",
            "\u001b[0mSuccessfully installed smart_open-7.0.4\n"
          ]
        }
      ],
      "source": [
        "!pip install six cython numpy scipy ipython[notebook]\n",
        "!pip install nltk gensim pattern requests textblob\n",
        "!python -m textblob.download_corpora lite\n",
        "!pip install --upgrade gensim\n",
        "!pip install --upgrade smart_open"
      ]
    },
    {
      "cell_type": "code",
      "execution_count": null,
      "metadata": {
        "colab": {
          "base_uri": "https://localhost:8080/"
        },
        "id": "WYJ7tKzj77MC",
        "outputId": "b4c1068d-91bb-4827-b466-f2c3d1b320a1"
      },
      "outputs": [
        {
          "output_type": "stream",
          "name": "stdout",
          "text": [
            "--2024-04-10 03:44:28--  https://raw.githubusercontent.com/piskvorky/topic_modeling_tutorial/master/download_data.py\n",
            "Resolving raw.githubusercontent.com (raw.githubusercontent.com)... 185.199.108.133, 185.199.109.133, 185.199.110.133, ...\n",
            "Connecting to raw.githubusercontent.com (raw.githubusercontent.com)|185.199.108.133|:443... connected.\n",
            "HTTP request sent, awaiting response... 200 OK\n",
            "Length: 2101 (2.1K) [text/plain]\n",
            "Saving to: ‘download_data.py’\n",
            "\n",
            "\rdownload_data.py      0%[                    ]       0  --.-KB/s               \rdownload_data.py    100%[===================>]   2.05K  --.-KB/s    in 0s      \n",
            "\n",
            "2024-04-10 03:44:28 (19.4 MB/s) - ‘download_data.py’ saved [2101/2101]\n",
            "\n"
          ]
        }
      ],
      "source": [
        "!rm -f download_data.py && wget 'https://raw.githubusercontent.com/piskvorky/topic_modeling_tutorial/master/download_data.py'\n",
        "#\n",
        "# The older datasets are no longer available, use the latest one.\n",
        "!sed -i 's/20140623/latest/g' download_data.py\n",
        "#\n",
        "# wikimedia sometimes refuses to connect due to excessive load\n",
        "# use a mirror site instead. see https://dumps.wikimedia.org/mirrors.html\n",
        "!sed -i 's|dumps.wikimedia.org|dumps.wikimedia.your.org|g' download_data.py"
      ]
    },
    {
      "cell_type": "code",
      "execution_count": null,
      "metadata": {
        "colab": {
          "base_uri": "https://localhost:8080/"
        },
        "id": "BrjMhI9J9U3y",
        "outputId": "f05c4cbe-f7ef-42f5-9fb9-db66a38996fb"
      },
      "outputs": [
        {
          "output_type": "stream",
          "name": "stdout",
          "text": [
            "2024-04-10 03:44:29,633 : MainThread : INFO : running download_data.py ./data\n",
            "2024-04-10 03:44:29,634 : MainThread : INFO : downloading http://people.csail.mit.edu/jrennie/20Newsgroups/20news-bydate.tar.gz into ./data/20news-bydate.tar.gz\n",
            "2024-04-10 03:44:30,728 : MainThread : INFO : downloaded 14464277 bytes\n",
            "2024-04-10 03:44:30,728 : MainThread : INFO : downloading http://dumps.wikimedia.your.org/simplewiki/latest/simplewiki-latest-pages-articles.xml.bz2 into ./data/simplewiki-latest-pages-articles.xml.bz2\n",
            "2024-04-10 03:44:34,527 : MainThread : INFO : downloaded 235367506 bytes\n",
            "2024-04-10 03:44:34,528 : MainThread : INFO : finished running download_data.py\n"
          ]
        }
      ],
      "source": [
        "!rm -rf ./data\n",
        "!mkdir ./data\n",
        "!python download_data.py ./data"
      ]
    },
    {
      "cell_type": "code",
      "execution_count": null,
      "metadata": {
        "id": "wT2qidy64FPH"
      },
      "outputs": [],
      "source": [
        "# import and setup modules we'll be using in this notebook\n",
        "import logging\n",
        "import itertools\n",
        "\n",
        "import numpy as np\n",
        "import gensim\n",
        "\n",
        "logging.basicConfig(format='%(levelname)s : %(message)s', level=logging.INFO)\n",
        "logging.root.level = logging.INFO  # ipython sometimes messes up the logging setup; restore\n",
        "\n",
        "def head(stream, n=10):\n",
        "    \"\"\"Convenience fnc: return the first `n` elements of the stream, as plain list.\"\"\"\n",
        "    return list(itertools.islice(stream, n))"
      ]
    },
    {
      "cell_type": "code",
      "execution_count": null,
      "metadata": {
        "id": "uKw4VgXOhg7K"
      },
      "outputs": [],
      "source": [
        "# import and setup modules we'll be using in this notebook\n",
        "import logging\n",
        "import itertools\n",
        "\n",
        "import numpy as np\n",
        "import gensim\n",
        "\n",
        "logging.basicConfig(format='%(levelname)s : %(message)s', level=logging.INFO)\n",
        "logging.root.level = logging.INFO  # ipython sometimes messes up the logging setup; restore\n",
        "\n",
        "def head(stream, n=10):\n",
        "    \"\"\"Convenience fnc: return the first `n` elements of the stream, as plain list.\"\"\"\n",
        "    return list(itertools.islice(stream, n))"
      ]
    },
    {
      "cell_type": "code",
      "execution_count": null,
      "metadata": {
        "colab": {
          "base_uri": "https://localhost:8080/"
        },
        "id": "UnDbQQvxryxg",
        "outputId": "8ada7c0e-dda1-423e-875d-c9993fc1e50c"
      },
      "outputs": [
        {
          "output_type": "stream",
          "name": "stderr",
          "text": [
            "INFO:gensim.corpora.dictionary:adding document #0 to Dictionary<0 unique tokens: []>\n",
            "INFO:gensim.corpora.dictionary:built Dictionary<12 unique tokens: ['computer', 'human', 'interface', 'response', 'survey']...> from 9 documents (total 29 corpus positions)\n",
            "INFO:gensim.utils:Dictionary lifecycle event {'msg': \"built Dictionary<12 unique tokens: ['computer', 'human', 'interface', 'response', 'survey']...> from 9 documents (total 29 corpus positions)\", 'datetime': '2024-04-10T03:44:36.509490', 'gensim': '4.3.2', 'python': '3.10.12 (main, Nov 20 2023, 15:14:05) [GCC 11.4.0]', 'platform': 'Linux-6.1.58+-x86_64-with-glibc2.35', 'event': 'created'}\n",
            "INFO:gensim.corpora.dictionary:adding document #0 to Dictionary<0 unique tokens: []>\n",
            "INFO:gensim.corpora.wikicorpus:finished iterating over Wikipedia corpus of 106 documents with 452944 positions (total 206 articles, 453267 positions before pruning articles shorter than 50 words)\n",
            "INFO:gensim.corpora.dictionary:built Dictionary<34212 unique tokens: ['abandoned', 'abandoning', 'abandonment', 'ability', 'able']...> from 106 documents (total 452944 corpus positions)\n",
            "INFO:gensim.utils:Dictionary lifecycle event {'msg': \"built Dictionary<34212 unique tokens: ['abandoned', 'abandoning', 'abandonment', 'ability', 'able']...> from 106 documents (total 452944 corpus positions)\", 'datetime': '2024-04-10T03:44:46.945651', 'gensim': '4.3.2', 'python': '3.10.12 (main, Nov 20 2023, 15:14:05) [GCC 11.4.0]', 'platform': 'Linux-6.1.58+-x86_64-with-glibc2.35', 'event': 'created'}\n",
            "INFO:gensim.corpora.mmcorpus:storing corpus in Matrix Market format to /tmp/tmpi8r6e9f4/wiki-corpus.mm\n",
            "INFO:gensim.matutils:saving sparse matrix to /tmp/tmpi8r6e9f4/wiki-corpus.mm\n",
            "INFO:gensim.matutils:PROGRESS: saving document #0\n",
            "INFO:gensim.corpora.wikicorpus:finished iterating over Wikipedia corpus of 106 documents with 452944 positions (total 206 articles, 453267 positions before pruning articles shorter than 50 words)\n",
            "INFO:gensim.matutils:saved 106x34212 matrix, density=3.537% (128253/3626472)\n",
            "INFO:gensim.corpora.indexedcorpus:saving MmCorpus index to /tmp/tmpi8r6e9f4/wiki-corpus.mm.index\n",
            "INFO:gensim.corpora.wikicorpus:finished iterating over Wikipedia corpus of 106 documents with 452944 positions (total 206 articles, 453267 positions before pruning articles shorter than 50 words)\n"
          ]
        },
        {
          "output_type": "stream",
          "name": "stdout",
          "text": [
            "anarchism is political philosophy that advocates self governed societies based on voluntary institutions these are often described as stateless societies although several authors have defined them more specifically as institutions based on non hierarchical free associations anarchism considers the state to be undesirable unnecessary and harmful while anti statism is central anarchism entails opposing authority or hierarchical organisation in the conduct of all human relations including but not limited to the state system anarchism draws on many currents of thought and strategy anarchism does not offer fixed body of doctrine from single particular world view instead fluxing and flowing as philosophy many types and traditions of anarchism exist not all of which are mutually exclusive anarchist schools of thought can differ fundamentally supporting anything from extreme individualism to complete collectivism strains of anarchism have often been divided into the categories of social and individualist anarchism or similar dual classifications anarchism is usually considered radical left wing ideology and much of anarchist economics and anarchist legal philosophy reflect anti authoritarian interpretations of communism collectivism syndicalism mutualism or participatory economics etymology and terminology the term anarchism is compound word composed from the word anarchy and the suffix ism themselves derived respectively from the greek anarchy from anarchos meaning one without rulers from the privative prefix ἀν an without and archos leader ruler cf archon or arkhē authority sovereignty realm magistracy and the suffix or ismos isma from the verbal infinitive suffix ίζειν izein the first known use of this word was in various factions within the french revolution labelled opponents as anarchists as robespierre did the hébertists although few shared many views of later anarchists there would be many revolutionaries of the early nineteenth century who contributed to the anarchist doctrines of the next generation such as william godwin and wilhelm weitling but they did not use the word anarchist or anarchism in describing themselves or their beliefs the first political philosopher to call himself an anarchist was pierre joseph proudhon marking the formal birth of anarchism in the mid nineteenth century since the and beginning in france the term libertarianism has often been used as synonym for anarchism and was used almost exclusively in this sense until the in the united states its use as synonym is still common outside the united states on the other hand some use libertarianism to refer to individualistic free market philosophy only referring to free market anarchism as libertarian anarchism history origins woodcut from diggers document by william everard the earliest anarchist themes can be found in the th century bc among the works of taoist philosopher laozi and in later centuries by zhuangzi and bao jingyan zhuangzi philosophy has been described by various sources as anarchist zhuangzi wrote petty thief is put in jail great brigand becomes ruler of nation diogenes of sinope and the cynics their contemporary zeno of citium the founder of stoicism also introduced similar topics jesus is sometimes considered the first anarchist in the christian anarchist tradition georges lechartier wrote that the true founder of anarchy was jesus christ and the first anarchist society was that of the apostles in early islamic history some manifestations of anarchic thought are found during the islamic civil war over the caliphate where the kharijites insisted that the imamate is right for each individual within the islamic society later some muslim scholars such as amer al basri and abu hanifa led movements of boycotting the rulers paving the way to the waqf endowments tradition which served as an alternative to and asylum from the centralized authorities of the emirs but such interpretations reverberates subversive religious conceptions like the aforementioned seemingly anarchistic taoist teachings and that of other anti authoritarian religious traditions creating complex relationship regarding the question as to whether or not anarchism and religion are compatible this is exemplified when the glorification of the state is viewed as form of sinful idolatry the french renaissance political philosopher étienne de la boétie wrote in his most famous work the discourse on voluntary servitude what some historians consider an important anarchist precedent the radical protestant christian gerrard winstanley and his group the diggers are cited by various authors as proposing anarchist social measures in the th century in england the term anarchist first entered the english language in during the english civil war as term of abuse used by royalists against their roundhead opponents by the time of the french revolution some such as the enragés began to use the term positively in opposition to jacobin centralisation of power seeing revolutionary government as oxymoronic by the turn of the th century the english word anarchism had lost its initial negative connotation modern anarchism sprang from the secular or religious thought of the enlightenment particularly jean jacques rousseau arguments for the moral centrality of freedom as part of the political turmoil of the in the wake of the french revolution william godwin developed the first expression of modern anarchist thought godwin was according to peter kropotkin the first to formulate the political and economical conceptions of anarchism even though he did not give that name to the ideas developed in his work while godwin attached his anarchist ideas to an early edmund burke william godwin the first to formulate the political and economical conceptions of anarchism even though he did not give that name to the ideas developed in his work godwin is generally regarded as the founder of the school of thought known as philosophical anarchism he argued in political justice that government has an inherently malevolent influence on society and that it perpetuates dependency and ignorance he thought that the spread of the use of reason to the masses would eventually cause government to wither away as an unnecessary force although he did not accord the state with moral legitimacy he was against the use of revolutionary tactics for removing the government from power rather he advocated for its replacement through process of peaceful evolution his aversion to the imposition of rules based society led him to denounce as manifestation of the people mental enslavement the foundations of law property rights and even the institution of marriage he considered the basic foundations of society as constraining the natural development of individuals to use their powers of reasoning to arrive at mutually beneficial method of social organization in each case government and its institutions are shown to constrain the development of our capacity to live wholly in accordance with the full and free exercise of private judgment the french pierre joseph proudhon is regarded as the first self proclaimed anarchist label he adopted in his groundbreaking work what is property published in it is for this reason that some claim proudhon as the founder of modern anarchist theory he developed the theory of spontaneous order in society where organisation emerges without central coordinator imposing its own idea of order against the wills of individuals acting in their own interests his famous quote on the matter is liberty is the mother not the daughter of order in what is property proudhon answers with the famous accusation property is theft in this work he opposed the institution of decreed property propriété where owners have complete rights to use and abuse their property as they wish he contrasted this with what he called possession or limited ownership of resources and goods only while in more or less continuous use later however proudhon added that property is liberty and argued that it was bulwark against state power his opposition to the state organised religion and certain capitalist practices inspired subsequent anarchists and made him one of the leading social thinkers of his time the anarcho communist joseph déjacque was the first person to describe himself as libertarian unlike pierre joseph proudhon he argued that it is not the product of his or her labour that the worker has right to but to the satisfaction of his or her needs whatever may be their nature in in germany the post hegelian philosopher max stirner published the book the ego and its own which would later be considered an influential early text of individualist anarchism french anarchists active in the revolution included anselme bellegarrigue ernest coeurderoy joseph déjacque and pierre joseph proudhon first international and the paris commune collectivist anarchist mikhail bakunin opposed the marxist aim of dictatorship of the proletariat in favour of universal rebellion and allied himself with the federalists in the first international before his expulsion by the marxists in europe harsh reaction followed the revolutions of during which ten countries had experienced brief or long term social upheaval as groups carried out nationalist uprisings after most of these attempts at systematic change ended in failure conservative elements took advantage of the divided groups of socialists anarchists liberals and nationalists to prevent further revolt in spain ramón de la sagra established the anarchist journal el porvenir in la coruña in which was inspired by proudhon ideas the catalan politician francesc pi margall became the principal translator of proudhon works into spanish and later briefly became president of spain in while being the leader of the democratic republican federal party according to george woodcock these translations were to have profound and lasting effect on the development of spanish anarchism after but before that time proudhonian ideas as interpreted by pi already provided much of the inspiration for the federalist movement which sprang up in the early according to the encyclopedia britannica during the spanish revolution of pi margall attempted to establish decentralized or cantonalist political system on proudhonian lines in the international workingmen association sometimes called the first international united diverse revolutionary currents including french followers of proudhon blanquists philadelphes english trade unionists socialists and social democrats due to its links to active workers movements the international became significant organisation karl marx became leading figure in the international and member of its general council proudhon followers the mutualists opposed marx state socialism advocating political abstentionism and small property holdings woodcock also reports that the american individualist anarchists lysander spooner and william greene had been members of the first international in following their unsuccessful participation in the league of peace and freedom lpf russian revolutionary mikhail bakunin and his collectivist anarchist associates joined the first international which had decided not to get involved with the lpf they allied themselves with the federalist socialist sections of the international who advocated the revolutionary overthrow of the state and the of property at first the collectivists worked with the marxists to push the first international in more revolutionary socialist direction subsequently the international became polarised into two camps with marx and bakunin as their respective figureheads bakunin characterised marx ideas as centralist and predicted that if marxist party came to power its leaders would simply take the place of the ruling class they had fought against anarchist historian george woodcock reports that the annual congress of the international had not taken place in owing to the outbreak of the paris commune and in the general council called only special conference in london one delegate was able to attend from spain and none from italy while technical excuse that they had split away from the fédération romande was used to avoid inviting bakunin swiss supporters thus only tiny minority of anarchists was present and the general council resolutions passed almost unanimously most of them were clearly directed against bakunin and his followers in the conflict climaxed with final split between the two groups at the hague congress where bakunin and james guillaume were expelled from the international and its headquarters were transferred to new york in response the federalist sections formed their own international at the st imier congress adopting revolutionary anarchist program the paris commune was government that briefly ruled paris from march more formally from march to may the commune was the result of an uprising in paris after france was defeated in the franco prussian war anarchists participated actively in the establishment of the paris commune they included george woodcock states organised labour the anti authoritarian sections of the first international were the precursors of the anarcho syndicalists seeking to replace the privilege and authority of the state with the free and spontaneous organisation of labour in the federation of organized trades and labor unions fotlu of the united states and canada unanimously set may as the date by which the eight hour work day would become standard sympathetic engraving by walter crane of the executed anarchists of chicago after the haymarket affair the haymarket affair is generally considered the most significant event for the origin of international may day observances in response unions across the united states prepared general strike in support of the event on may in chicago fight broke out when strikebreakers attempted to cross the picket line and two workers died when police opened fire upon the crowd the next day may anarchists staged rally at chicago haymarket square bomb was thrown by an unknown party near the conclusion of the rally killing an officer in the ensuing panic police opened fire on the crowd and each other seven police officers and at least four workers were killed eight anarchists directly and indirectly related to the organisers of the rally were arrested and charged with the murder of the deceased officer the men became international political celebrities among the labour movement four of the men were executed and fifth committed suicide prior to his own execution the incident became known as the haymarket affair and was setback for the labour movement and the struggle for the eight hour day in second attempt this time international in scope to organise for the eight hour day was made the event also had the secondary purpose of memorializing workers killed as result of the haymarket affair although it had initially been conceived as once off event by the following year the celebration of international workers day on may day had become firmly established as an international worker holiday in the international anarchist congress of amsterdam gathered delegates from different countries among which important figures of the anarchist movement including errico malatesta pierre monatte luigi fabbri benoît broutchoux emma goldman rudolf rocker and christiaan cornelissen various themes were treated during the congress in particular concerning the organisation of the anarchist movement popular education issues the general strike or antimilitarism central debate concerned the relation between anarchism and syndicalism or trade unionism malatesta and monatte were in particular disagreement themselves on this issue as the latter thought that syndicalism was revolutionary and would create the conditions of social revolution while malatesta did not consider syndicalism by itself sufficient he thought that the trade union movement was reformist and even conservative citing as essentially bourgeois and anti worker the phenomenon of professional union officials malatesta warned that the syndicalists aims were in perpetuating syndicalism itself whereas anarchists must always have anarchy as their end and consequently refrain from committing to any particular method of achieving it the spanish workers federation in was the first major anarcho syndicalist movement anarchist trade union federations were of special importance in spain the most successful was the confederación nacional del trabajo national confederation of labour cnt founded in before the the cnt was the major force in spanish working class politics attracting million members at one point and playing major role in the spanish civil war the cnt was affiliated with the international workers association federation of anarcho syndicalist trade unions founded in with delegates representing two million workers from countries in europe and latin america in latin america in particular the anarchists quickly became active in organizing craft and industrial workers throughout south and central america and until the early most of the trade unions in mexico brazil peru chile and argentina were anarcho syndicalist in general outlook the prestige of the spanish as revolutionary organization was undoubtedly to great extent responsible for this situation the largest and most militant of these organizations was the federación obrera regional argentina it grew quickly to membership of nearly quarter of million which dwarfed the rival unions propaganda of the deed and illegalism italian american anarchist luigi galleani his followers known as galleanists carried out series of bombings and assassination attempts from to in what they saw as attacks on tyrants and enemies of the people some anarchists such as johann most advocated publicizing violent acts of retaliation against counter revolutionaries because we preach not only action in and for itself but also action as propaganda by the people inside and outside the anarchist movement began to use the slogan propaganda of the deed to refer to individual bombings regicides and tyrannicides from onwards the russian counterparts of these anti syndicalist anarchist communists become partisans of economic terrorism and illegal expropriations illegalism as practice emerged and within it the acts of the anarchist bombers and assassins propaganda by the deed and the anarchist burglars individual reappropriation expressed their desperation and their personal violent rejection of an intolerable society moreover they were clearly meant to be exemplary invitations to revolt france bonnot gang was the most famous group to embrace illegalism however as soon as important figures in the anarchist movement distanced themselves from such individual acts peter kropotkin thus wrote that year in le révolté that structure based on centuries of history cannot be destroyed with few kilos of dynamite variety of anarchists advocated the abandonment of these sorts of tactics in favour of collective revolutionary action for example through the trade union movement the anarcho syndicalist fernand pelloutier argued in for renewed anarchist involvement in the labour movement on the basis that anarchism could do very well without the individual dynamiter state repression including the infamous french lois scélérates of the anarchist and labour movements following the few successful bombings and assassinations may have contributed to the abandonment of these kinds of tactics although reciprocally state repression in the first place may have played role in these isolated acts the dismemberment of the french socialist movement into many groups and following the suppression of the paris commune the execution and exile of many communards to penal colonies favoured individualist political expression and acts numerous heads of state were assassinated between and by members of the anarchist movement including tsar alexander ii of russia president sadi carnot of france empress elisabeth of austria king umberto of italy president william mckinley of the united states king carlos of portugal and king george of greece mckinley assassin leon czolgosz claimed to have been influenced by anarchist and feminist emma goldman propaganda of the deed was abandoned by the vast majority of the anarchist movement after world war and the october revolution russian revolution and other uprisings of the nestor makhno with members of the anarchist revolutionary insurrectionary army of ukraine anarchists participated alongside the bolsheviks in both february and october revolutions and were initially enthusiastic about the bolshevik revolution however following political falling out with the bolsheviks by the anarchists and other left wing opposition the conflict culminated in the kronstadt rebellion which the new government repressed anarchists in central russia were either imprisoned driven underground or joined the victorious bolsheviks the anarchists from petrograd and moscow fled to ukraine there in the free territory they fought in the civil war against the whites grouping of monarchists and other opponents of the october revolution and then the bolsheviks as part of the revolutionary insurrectionary army of ukraine led by nestor makhno who established an anarchist society in the region for number of months expelled american anarchists emma goldman and alexander berkman were amongst those agitating in response to bolshevik policy and the suppression of the kronstadt uprising before they left russia both wrote accounts of their experiences in russia criticising the amount of control the bolsheviks exercised for them bakunin predictions about the consequences of marxist rule that the rulers of the new socialist marxist state would become new elite had proved all too true the victory of the bolsheviks in the october revolution and the resulting russian civil war did serious damage to anarchist movements internationally many workers and activists saw bolshevik success as setting an example communist parties grew at the expense of anarchism and other socialist movements in france and the united states for example members of the major syndicalist movements of the cgt and iww left the organisations and joined the communist international the revolutionary wave of saw the active participation of anarchists in varying degrees of protagonism in the german uprising known as the german revolution of which established the bavarian soviet republic the anarchists gustav landauer silvio gesell and erich mühsam had important leadership positions within the revolutionary councilist structures in the italian events known as the biennio rosso the anarcho syndicalist trade union unione sindacale italiana grew to members and the influence of the italian anarchist union members plus umanita nova its daily paper grew accordingly anarchists were the first to suggest occupying workplaces in the mexican revolution the mexican liberal party was established and during the early it led series of military offensives leading to the conquest and occupation of certain towns and districts in baja california with the leadership of anarcho communist ricardo flores magón in paris the dielo truda group of russian anarchist exiles which included nestor makhno concluded that anarchists needed to develop new forms of organisation in response to the structures of bolshevism their manifesto called the organisational platform of the general union of anarchists draft was supported platformist groups active today include the workers solidarity movement in ireland and the north eastern federation of anarchist communists of north america synthesis anarchism emerged as an organisational alternative to platformism that tries to join anarchists of different tendencies under the principles of anarchism without adjectives in the this form found as its main proponents volin and sebastien faure it is the main principle behind the anarchist federations grouped around the contemporary global international of anarchist federations conflicts with european fascist regimes in the and the rise of fascism in europe transformed anarchism conflict with the state italy saw the first struggles between anarchists and fascists italian anarchists played key role in the anti fascist organisation arditi del popolo which was strongest in areas with anarchist traditions and achieved some success in their activism such as repelling blackshirts in the anarchist stronghold of parma in august the veteran italian anarchist luigi fabbri was one of the first critical theorists of fascism describing it as the preventive counter revolution in france where the far right leagues came close to insurrection in the february riots anarchists divided over united front policy anarchists in france and italy were active in the resistance during world war ii in germany the anarchist erich mühsam was arrested on charges unknown in the early morning hours of february within few hours after the reichstag fire in berlin joseph goebbels the nazi propaganda minister labelled him as one of those jewish subversives over the next seventeen months he would be imprisoned in the concentration camps at sonnenburg brandenburg and finally oranienburg on february mühsam was transferred to the concentration camp at oranienburg when finally on the night of july mühsam was tortured and murdered by the guards his battered corpse found hanging in latrine the next morning spanish revolution in spain the national anarcho syndicalist trade union confederación nacional del trabajo initially refused to join popular front electoral alliance and abstention by cnt supporters led to right wing election victory but in the cnt changed its policy and anarchist votes helped bring the popular front back to power months later the former ruling class responded with an attempted coup causing the spanish civil war in response to the army rebellion an anarchist inspired movement of peasants and workers supported by armed militias took control of barcelona and of large areas of rural spain where they collectivised the land but even before the fascist victory in the anarchists were losing ground in bitter struggle with the stalinists who controlled much of the distribution of military aid to the republican cause from the soviet union the events known as the spanish revolution was workers social revolution that began during the outbreak of the spanish civil war in and resulted in the widespread implementation of anarchist and more broadly libertarian socialist organisational principles throughout various portions of the country for two to three years primarily catalonia aragon andalusia and parts of the levante much of spain economy was put under worker control in anarchist strongholds like catalonia the figure was as high as but lower in areas with heavy communist party of spain influence as the soviet allied party actively resisted attempts at enactment factories were run through worker committees agrarian areas became collectivised and run as libertarian communes anarchist historian sam dolgoff estimated that about eight million people participated directly or at least indirectly in the spanish revolution which he claimed came closer to realizing the ideal of the free stateless society on vast scale than any other revolution in history spanish communist party led troops suppressed the collectives and persecuted both dissident marxists and anarchists the prominent italian anarchist camillo berneri who volunteered to fight against franco was killed instead in spain by gunmen associated with the spanish communist party the city of madrid was turned over to the francoist forces by the last non francoist mayor of the city the anarchist melchor rodríguez garcía post war years anarchism sought to reorganise itself after the war and in this context the organisational debate between synthesis anarchism and platformism took importance once again especially in the anarchist movements of italy and france the mexican anarchist federation was established in after the anarchist federation of the centre united with the anarchist federation of the federal district in the early the antifascist international solidarity and the federation of anarchist groups of cuba merged into the large national organisation asociación libertaria de cuba cuban libertarian association from to the bulgarian anarchist communist federation reemerged as part of factory and workplace committee movement but was repressed by the new communist regime in in france the fédération anarchiste and the trade union confédération nationale du travail was established in the next year while the also synthesist federazione anarchica italiana was founded in italy korean anarchists formed the league of free social constructors in september and in the japanese anarchist federation was founded an international anarchist congress with delegates from across europe was held in paris in may after world war ii an appeal in the fraye arbeter shtime detailing the plight of german anarchists and called for americans to support them by february the sending of aid parcels to anarchists in germany was large scale operation the federation of libertarian socialists was founded in germany in and rudolf rocker wrote for its organ die freie gesellschaft which survived until in the uruguayan anarchist federation was founded in the anarcho communist federation of argentina renamed itself as the argentine libertarian federation the syndicalist workers federation was syndicalist group in active in post war britain and one of solidarity federation earliest predecessors it was formed in by members of the dissolved anarchist federation of britain unlike the afb which was influenced by anarcho syndicalist ideas but ultimately not syndicalist itself the swf decided to pursue more definitely syndicalist worker centred strategy from the outset anarchism continued to influence important literary and intellectual personalities of the time such as albert camus herbert read paul goodman dwight macdonald allen ginsberg george woodcock leopold kohr julian beck john cage and the french surrealist group led by andré breton which now openly embraced anarchism and collaborated in the fédération anarchiste anarcho pacifism became influential in the anti nuclear movement and anti war movements of the time as can be seen in the activism and writings of the english anarchist member of campaign for nuclear disarmament alex comfort or the similar activism of the american catholic anarcho pacifists ammon hennacy and dorothy day anarcho pacifism became basis for critique of militarism on both sides of the cold war the resurgence of anarchist ideas during this period is well documented in robert graham anarchism documentary history of libertarian ideas volume two the emergence of the new anarchism contemporary anarchism squat near parc güell overlooking barcelona squatting was prominent part of the emergence of renewed anarchist movement from the counterculture of the and on the roof occupy and resist surge of popular interest in anarchism occurred in western nations during the and anarchism was influential in the counterculture of the and anarchists actively participated in the late sixties students and workers revolts in in carrara italy the international of anarchist federations was founded during an international anarchist conference held there in by the three existing european federations of france the fédération anarchiste the federazione anarchica italiana of italy and the iberian anarchist federation as well as the bulgarian federation in french exile in the united kingdom in the this was associated with the punk rock movement as exemplified by bands such as crass and the sex pistols the housing and employment crisis in most of western europe led to the formation of communes and squatter movements like that of barcelona spain in denmark squatters occupied disused military base and declared the freetown christiania an autonomous haven in central copenhagen since the revival of anarchism in the mid th century number of new movements and schools of thought emerged although feminist tendencies have always been part of the anarchist movement in the form of anarcha feminism they returned with vigour during the second wave of feminism in the anarchist anthropologist david graeber and anarchist historian andrej grubacic have posited rupture between generations of anarchism with those who often still have not shaken the sectarian habits of the th century contrasted with the younger activists who are much more informed among other elements by indigenous feminist ecological and cultural critical ideas and who by the turn of the st century formed by far the majority of anarchists around the turn of the st century anarchism grew in popularity and influence as part of the anti war anti capitalist and anti globalisation movements anarchists became known for their involvement in protests against the meetings of the world trade organization wto group of eight and the world economic forum some anarchist factions at these protests engaged in rioting property destruction and violent confrontations with police these actions were precipitated by ad hoc leaderless anonymous cadres known as black blocs other organisational tactics pioneered in this time include security culture affinity groups and the use of decentralised technologies such as the internet significant event of this period was the confrontations at wto conference in seattle in according to anarchist scholar simon critchley contemporary anarchism can be seen as powerful critique of the pseudo libertarianism of contemporary neo liberalism one might say that contemporary anarchism is about responsibility whether sexual ecological or socio economic it flows from an experience of conscience about the manifold ways in which the west ravages the rest it is an ethical outrage at the yawning inequality impoverishment and that is so palpable locally and globally international anarchist federations in existence include the international of anarchist federations the international workers association and international libertarian solidarity the largest organised anarchist movement today is in spain in the form of the confederación general del trabajo cgt and the cnt cgt membership was estimated at around for other active syndicalist movements include in sweden the central organisation of the workers of sweden and the swedish anarcho syndicalist youth federation the cnt ait in france the unione sindicale italiana in italy in the us workers solidarity alliance and the uk solidarity federation and anarchist federation the revolutionary industrial unionist industrial workers of the world claiming paying members and the international workers association an anarcho syndicalist successor to the first international also remain active anarchist schools of thought portrait of philosopher pierre joseph proudhon by gustave courbet proudhon was the primary proponent of anarchist mutualism and influenced many later individualist anarchist and social anarchist thinkers anarchist schools of thought had been generally grouped in two main historical traditions individualist anarchism and social anarchism which have some different origins values and evolution the individualist wing of anarchism emphasises negative liberty opposition to state or social control over the individual while those in the social wing emphasise positive liberty to achieve one potential and argue that humans have needs that society ought to fulfill recognizing equality of entitlement in chronological and theoretical sense there are classical those created throughout the th century and post classical anarchist schools those created since the mid th century and after beyond the specific factions of anarchist thought is philosophical anarchism which embodies the theoretical stance that the state lacks moral legitimacy without accepting the imperative of revolution to eliminate it component especially of individualist anarchism philosophical anarchism may accept the existence of minimal state as unfortunate and usually temporary necessary evil but argue that citizens do not have moral obligation to obey the state when its laws conflict with individual autonomy one reaction against sectarianism within the anarchist milieu was anarchism without adjectives call for toleration first adopted by fernando tarrida del mármol in in response to the bitter debates of anarchist theory at the time in abandoning the hyphenated anarchisms collectivist communist mutualist and individualist anarchism it sought to emphasise the anti authoritarian beliefs common to all anarchist schools of thought classical anarchist schools of thought mutualism mutualism began in th century english and french labour movements before taking an anarchist form associated with pierre joseph proudhon in france and others in the united states proudhon proposed spontaneous order whereby organisation emerges without central authority positive anarchy where order arises when everybody does what he wishes and only what he wishes and where business transactions alone produce the social order it is important to recognize that proudhon distinguished between ideal political possibilities and practical governance for this reason much in contrast to some of his theoretical statements concerning ultimate spontaneous self governance proudhon was heavily involved in french parliamentary politics and allied himself not with anarchist but socialist factions of workers movements and in addition to advocating state protected charters for worker owned cooperatives promoted certain nationalization schemes during his life of public service mutualist anarchism is concerned with reciprocity free association voluntary contract federation and credit and currency reform according to the american mutualist william batchelder greene each worker in the mutualist system would receive just and exact pay for his work services equivalent in cost being exchangeable for services equivalent in cost without profit or discount mutualism has been retrospectively characterised as ideologically situated between individualist and collectivist forms of anarchism blackwell encyclopaedia of political thought blackwell publishing isbn proudhon first characterised his goal as third form of society the synthesis of communism and property individualist anarchism individualist anarchism refers to several traditions of thought within the anarchist movement that emphasize the individual and their will over any kinds of external determinants such as groups society traditions and ideological systems individualist anarchism is not single philosophy but refers to group of individualistic philosophies that sometimes are in conflict in william godwin who has often been cited as the first anarchist wrote political justice which some consider the first expression of anarchism godwin philosophical anarchist from rationalist and utilitarian basis opposed revolutionary action and saw minimal state as present necessary evil that would become increasingly irrelevant and powerless by the gradual spread of knowledge godwin advocated individualism proposing that all cooperation in labour be eliminated on the premise that this would be most conducive with the general good th century philosopher max stirner usually considered prominent early individualist anarchist sketch by friedrich engels an influential form of individualist anarchism called egoism or egoist anarchism was expounded by one of the earliest and best known proponents of individualist anarchism the german max stirner stirner the ego and its own published in is founding text of the philosophy according to stirner the only limitation on the rights of individuals is their power to obtain what they desire without regard for god state or morality to stirner rights were spooks in the mind and he held that society does not exist but the individuals are its reality stirner advocated self assertion and foresaw unions of egoists non systematic associations continually renewed by all parties support through an act of will which stirner proposed as form of organisation in place of the state egoist anarchists argue that egoism will foster genuine and spontaneous union between individuals egoism has inspired many interpretations of stirner philosophy it was re discovered and promoted by german philosophical anarchist and lgbt activist john henry mackay josiah warren is widely regarded as the first american anarchist and the four page weekly paper he edited during the peaceful revolutionist was the first anarchist periodical published for american anarchist historian eunice minette schuster it is apparent that proudhonian anarchism was to be found in the united states at least as early as and that it was not conscious of its affinity to the individualist anarchism of josiah warren and stephen pearl andrews william greene presented this proudhonian mutualism in its purest and most systematic form henry david thoreau was an important early influence in individualist anarchist thought in the united states and europe thoreau was an american author poet naturalist tax resister development critic surveyor historian philosopher and leading he is best known for his books walden reflection upon simple living in natural surroundings and his essay civil disobedience an argument for individual resistance to civil government in moral opposition to an unjust state later benjamin tucker fused stirner egoism with the economics of warren and proudhon in his eclectic influential publication liberty from these early influences individualist anarchism in different countries attracted small but diverse following of bohemian artists and intellectuals free love and birth control advocates see anarchism and issues related to love and sex individualist naturists nudists see anarcho naturism freethought and anti clerical activists as well as young anarchist outlaws in what became known as illegalism and individual reclamation see european individualist anarchism and individualist anarchism in france these authors and activists included oscar wilde emile armand han ryner henri zisly renzo novatore miguel gimenez igualada adolf brand and lev chernyi among others social anarchism social anarchism calls for system with common ownership of means of production and democratic control of all organisations without any government authority or coercion it is the largest school of thought in anarchism social anarchism rejects private property seeing it as source of social inequality while retaining respect for personal property and emphasises cooperation and mutual aid collectivist anarchism collectivist anarchism also referred to as revolutionary socialism or form of such is revolutionary form of anarchism commonly associated with mikhail bakunin and johann most collectivist anarchists oppose all private ownership of the means of production instead advocating that ownership be collectivised this was to be achieved through violent revolution first starting with small cohesive group through acts of violence or propaganda by the deed which would inspire the workers as whole to revolt and forcibly collectivise the means of production however was not to be extended to the distribution of income as workers would be paid according to time worked rather than receiving goods being distributed according to need as in anarcho communism this position was criticised by anarchist communists as effectively upholding the wages system collectivist anarchism arose with marxism but opposed the marxist dictatorship of the proletariat despite the stated marxist goal of collectivist stateless society anarchist communist and collectivist ideas are not mutually exclusive although the collectivist anarchists advocated compensation for labour some held out the possibility of post revolutionary transition to communist system of distribution according to need anarcho communism anarchist communism also known as anarcho communism libertarian communism and occasionally as free communism is theory of anarchism that advocates abolition of the state markets money private property while retaining respect for personal property and capitalism in favour of common ownership of the means of production direct democracy and horizontal network of voluntary associations and workers councils with production and consumption based on the guiding principle from each according to his ability to each according to his need russian theorist peter kropotkin who was influential in the development of anarchist communism some forms of anarchist communism such as insurrectionary anarchism are strongly influenced by egoism and radical individualism believing anarcho communism is the best social system for the realization of individual freedom most anarcho communists view anarcho communism as way of reconciling the opposition between the individual and society anarcho communism developed out of radical socialist currents after the french revolution but was first formulated as such in the italian section of the first international the theoretical work of peter kropotkin took importance later as it expanded and developed pro and insurrectionary anti sections to date the best known examples of an anarchist communist society established around the ideas as they exist today and achieving worldwide attention and knowledge in the historical canon are the anarchist territories during the spanish revolution and the free territory during the russian revolution through the efforts and influence of the spanish anarchists during the spanish revolution within the spanish civil war starting in anarchist communism existed in most of aragon parts of the levante and andalusia as well as in the stronghold of anarchist catalonia before being crushed by the combined forces of the regime that won the war hitler mussolini spanish communist party repression backed by the ussr as well as economic and armaments blockades from the capitalist countries and the spanish republic itself during the russian revolution anarchists such as nestor makhno worked to create and defend through the revolutionary insurrectionary army of ukraine anarchist communism in the free territory of the ukraine from before being conquered by the bolsheviks in anarcho syndicalism may day demonstration of spanish anarcho syndicalist trade union cnt in bilbao basque country in anarcho syndicalism is branch of anarchism that focuses on the labour movement anarcho syndicalists view labour unions as potential force for revolutionary social change replacing capitalism and the state with new society democratically self managed by workers the basic principles of anarcho syndicalism are workers solidarity direct action and workers self management anarcho syndicalists believe that only direct action that is action concentrated on directly attaining goal as opposed to indirect action such as electing representative to government position will allow workers to liberate themselves moreover anarcho syndicalists believe that workers organisations the organisations that struggle against the wage system which in anarcho syndicalist theory will eventually form the basis of new society should be self managing they should not have bosses or business agents rather the workers should be able to make all the decisions that affect them themselves rudolf rocker was one of the most popular voices in the anarcho syndicalist movement he outlined view of the origins of the movement what it sought and why it was important to the future of labour in his pamphlet anarcho syndicalism the international workers association is an international anarcho syndicalist federation of various labour unions from different countries the spanish confederación nacional del trabajo played and still plays major role in the spanish labour movement it was also an important force in the spanish civil war post classical schools of thought lawrence jarach left and john zerzan right two prominent contemporary anarchist authors zerzan is known as prominent voice within anarcho primitivism while jarach is noted advocate of post left anarchy anarchism continues to generate many philosophies and movements at times eclectic drawing upon various sources and syncretic combining disparate concepts to create new philosophical approaches green anarchism or eco anarchism is school of thought within anarchism that emphasizes environmental issues with an important precedent in anarcho naturism and whose main contemporary currents are anarcho primitivism and social ecology anarcha feminism also called anarchist feminism and anarcho feminism combines anarchism with feminism it generally views patriarchy as manifestation of involuntary coercive hierarchy that should be replaced by decentralised free association anarcha feminists believe that the struggle against patriarchy is an essential part of class struggle and the anarchist struggle against the state in essence the philosophy sees anarchist struggle as necessary component of feminist struggle and vice versa susan brown claims that as anarchism is political philosophy that opposes all relationships of power it is inherently feminist anarcha feminism began with the late th century writings of early feminist anarchists such as emma goldman and voltairine de cleyre anarcho pacifism is tendency that rejects violence in the struggle for social change see non violence it developed mostly in the netherlands britain and the united states before and during the second world war christian anarchism is movement in political theology that combines anarchism and christianity its main proponents included leo tolstoy dorothy day ammon hennacy and jacques ellul platformism is tendency within the wider anarchist movement based on the organisational theories in the tradition of dielo truda organisational platform of the general union of anarchists draft the document was based on the experiences of russian anarchists in the october revolution which led eventually to the victory of the bolsheviks over the anarchists and other groups the platform attempted to address and explain the anarchist movement failures during the russian revolution synthesis anarchism is form of anarchism that tries to join anarchists of different tendencies under the principles of anarchism without adjectives in the this form found as its main proponents the anarcho communists voline and sébastien faure it is the main principle behind the anarchist federations grouped around the contemporary global international of anarchist federations post left anarchy is recent current in anarchist thought that promotes critique of anarchism relationship to traditional left wing politics some post leftists seek to escape the confines of ideology in general also presenting critique of organisations and morality influenced by the work of max stirner and by the marxist situationist international post left anarchy is marked by focus on social insurrection and rejection of leftist social organisation insurrectionary anarchism is revolutionary theory practice and tendency within the anarchist movement which emphasizes insurrection within anarchist practice it is critical of formal organisations such as labour unions and federations that are based on political programme and periodic congresses instead insurrectionary anarchists advocate informal organisation and small affinity group based organisation insurrectionary anarchists put value in attack permanent class conflict and refusal to negotiate or compromise with class enemies post anarchism is theoretical move towards synthesis of classical anarchist theory and thought drawing from diverse ideas including post modernism autonomist marxism post left anarchy situationist international and postcolonialism left wing market anarchism strongly affirm the classical liberal ideas of self ownership and free markets while maintaining that taken to their logical conclusions these ideas support strongly anti corporatist anti hierarchical pro labor positions and anti capitalism in economics and anti imperialism in foreign policy anarcho capitalism advocates the elimination of the state in favour of individual sovereignty in free market anarcho capitalism developed from radical anti state libertarianism and individualist anarchism drawing from austrian school economics study of law and economics and public choice theory there is strong current within anarchism which does not consider that anarcho capitalism can be considered part of the anarchist movement due to the fact that anarchism has historically been an anti capitalist movement and for definitional reasons which see anarchism incompatible with capitalist forms internal issues and debates consistent with anarchist values is controversial subject among anarchists anarchism is philosophy that embodies many diverse attitudes tendencies and schools of thought as such disagreement over questions of values ideology and tactics is common the compatibility of capitalism nationalism and religion with anarchism is widely disputed similarly anarchism enjoys complex relationships with ideologies such as marxism communism and capitalism anarchists may be motivated by humanism divine authority enlightened self interest veganism or any number of alternative ethical doctrines phenomena such as civilization technology within anarcho primitivism and the democratic process may be sharply criticised within some anarchist tendencies and simultaneously lauded in others on tactical level while propaganda of the deed was tactic used by anarchists in the th century the nihilist movement some contemporary anarchists espouse alternative direct action methods such as nonviolence counter economics and anti state cryptography to bring about an anarchist society about the scope of an anarchist society some anarchists advocate global one while others do so by local ones the diversity in anarchism has led to widely different use of identical terms among different anarchist traditions which has led to many definitional concerns in anarchist theory topics of interest intersecting and overlapping between various schools of thought certain topics of interest and internal disputes have proven perennial within anarchist theory free love french individualist anarchist emile armand who propounded the virtues of free love in the parisian anarchist milieu of the early th century an important current within anarchism is free love free love advocates sometimes traced their roots back to josiah warren and to experimental communities viewed sexual freedom as clear direct expression of an individual sovereignty free love particularly stressed women rights since most sexual laws discriminated against women for example marriage laws and anti birth control measures the most important american free love journal was lucifer the lightbearer edited by moses harman and lois waisbrooker but also there existed ezra heywood and angela heywood the word free society as the firebrand as free society was major anarchist newspaper in the united states at the end of the th and beginning of the th centuries the publication advocated free love and women rights and critiqued comstockery censorship of sexual information also lazarus was an important american individualist anarchist who promoted free love in new york city greenwich village bohemian feminists and socialists advocated self realisation and pleasure for women and also men in the here and now they encouraged playing with sexual roles and sexuality and the openly bisexual radical edna st vincent millay and the lesbian anarchist margaret anderson were prominent among them discussion groups organised by the villagers were frequented by emma goldman among others magnus hirschfeld noted in that goldman has campaigned boldly and steadfastly for individual rights and especially for those deprived of their rights thus it came about that she was the first and only woman indeed the first and only american to take up the defense of homosexual love before the general public in fact before goldman heterosexual anarchist robert reitzel spoke positively of homosexuality from the beginning of the in his detroit based german language journal der arme teufel english the poor devil in argentina anarcha feminist virginia bolten published the newspaper called english the woman voice which was published nine times in rosario between january and january and was revived briefly in in europe the main propagandist of free love within individualist anarchism was emile armand he proposed the concept of la camaraderie amoureuse to speak of free love as the possibility of voluntary sexual encounter between consenting adults he was also consistent proponent of polyamory in germany the stirnerists adolf brand and john henry mackay were pioneering campaigners for the acceptance of male bisexuality and homosexuality mujeres libres was an anarchist women organisation in spain that aimed to empower working class women it was founded in by lucía sánchez saornil mercedes comaposada and amparo poch gascón and had approximately members the organisation was based on the idea of double struggle for women liberation and social revolution and argued that the two objectives were equally important and should be pursued in parallel in order to gain mutual support they created networks of women anarchists lucía sánchez saornil was main founder of the spanish anarcha feminist federation mujeres libres who was open about her lesbianism she was published in variety of literary journals where working under male pen name she was able to explore lesbian themes at time when homosexuality was criminalized and subject to censorship and punishment more recently the british anarcho pacifist alex comfort gained notoriety during the sexual revolution for writing the bestseller sex manual the joy of sex the issue of free love has dedicated treatment in the work of french anarcho hedonist philosopher michel onfray in such works as théorie du corps amoureux pour une érotique solaire and invention du plaisir fragments cyréaniques libertarian education and freethought francesc ferrer guàrdia catalan anarchist pedagogue and free thinker for english anarchist william godwin education was the main means by which change would be achieved godwin saw that the main goal of education should be the promotion of happiness for godwin education had to have respect for the child autonomy which precluded any form of coercion pedagogy that respected this and sought to build on the child own motivation and initiatives and concern about the child capacity to resist an ideology transmitted through the school in his political justice he criticises state sponsored schooling on account of its obvious alliance with national government early american anarchist josiah warren advanced alternative education experiences in the libertarian communities he established max stirner wrote in long essay on education called the false principle of our education in it stirner names his educational principle personalist explaining that self understanding consists in hourly self creation education for him is to create free men sovereign characters by which he means eternal characters who are therefore eternal because they form themselves each moment in the united states freethought was basically anti christian anti clerical movement whose purpose was to make the individual politically and spiritually free to decide for himself on religious matters number of contributors to liberty anarchist publication were prominent figures in both freethought and anarchism the individualist anarchist george macdonald was co editor of freethought and for time the truth seeker walker was co editor of the excellent free thought free love journal lucifer the light bearer many of the anarchists were ardent freethinkers reprints from freethought papers such as lucifer the light bearer freethought and the truth seeker appeared in liberty the church was viewed as common ally of the state and as repressive force in and of itself in catalan anarchist and free thinker francesc ferrer guàrdia established modern or progressive schools in barcelona in defiance of an educational system controlled by the catholic church the schools stated goal was to educate the working class in rational secular and non coercive setting fiercely anti clerical ferrer believed in freedom in education education free from the authority of church and state murray bookchin wrote this period was the heyday of libertarian schools and pedagogical projects in all areas of the country where anarchists exercised some degree of influence perhaps the best known effort in this field was francisco ferrer modern school escuela moderna project which exercised considerable influence on catalan education and on experimental techniques of teaching generally la escuela moderna and ferrer ideas generally formed the inspiration for series of modern schools in the united states cuba south america and london the first of these was started in new york city in it also inspired the italian newspaper università popolare founded in russian christian anarchist leo tolstoy established school for peasant children on his estate tolstoy educational experiments were short lived due to harassment by the tsarist secret police tolstoy established conceptual difference between education and culture he thought that education is the tendency of one man to make another just like himself education is culture under restraint culture is free education is when the teaching is forced upon the pupil and when then instruction is exclusive that is when only those subjects are taught which the educator regards as necessary for him without compulsion education was transformed into culture more recent libertarian tradition on education is that of unschooling and the free school in which child led activity replaces pedagogic approaches experiments in germany led to neill founding what became summerhill school in summerhill is often cited as an example of anarchism in practice however although summerhill and other free schools are radically libertarian they differ in principle from those of ferrer by not advocating an overtly political class struggle approach in addition to organising schools according to libertarian principles anarchists have also questioned the concept of schooling per se the term deschooling was popularised by ivan illich who argued that the school as an institution is dysfunctional for self determined learning and serves the creation of consumer society instead criticisms criticisms of anarchism include moral criticisms and pragmatic criticisms anarchism is often evaluated as unfeasible or utopian by its critics european history professor carl landauer in his book european socialism argued that social anarchism is unrealistic and that government is lesser evil than society without repressive force he also argued that ill intentions will cease if repressive force disappears is an absurdity references further reading barclay harold people without government an anthropology of anarchy nd ed left bank books isbn blumenfeld jacob bottici chiara critchley simon eds the anarchist turn pluto press march isbn carter april the political theory of anarchism harper row isbn gordon uri anarchy alive london pluto press graeber david fragments of an anarchist anthropology chicago prickly paradigm press graham robert ed anarchism documentary history of libertarian ideas volume one from anarchy to anarchism ce to black rose books montréal and london isbn volume two the anarchist current black rose books montréal isbn guerin daniel anarchism from theory to practice monthly review press isbn harper clifford anarchy graphic guide camden press an overview updating woodcock classic and illustrated throughout by harper woodcut style artwork mckay iain ed an anarchist faq volume ak press oakland edinburgh pages isbn volume ii ak press oakland edinburgh pages isbn mclaughlin paul anarchism and authority philosophical introduction to classical anarchism ashgate isbn marshall peter demanding the impossible history of anarchism pm press isbn nettlau max anarchy through the times gordon press isbn razsa maple bastards of utopia living radical politics after socialism bloomington indiana university press scott james two cheers for anarchism six easy pieces on autonomy dignity and meaningful work and play princeton nj princeton university press isbn woodcock george anarchism history of libertarian ideas and movements penguin books isbn woodcock george ed the anarchist reader fontana collins isbn an anthology of writings from anarchist thinkers and activists including proudhon kropotkin bakunin malatesta bookchin goldman and many others david van deusen the rise and fall of the green mountain anarchist collective external links an anarchist faq webpage an anarchist faq anarchism bibliography anarchist theory faq by bryan caplan anarchy archives information relating to famous anarchists including their writings see anarchy archives daily bleed anarchist encyclopedia entries with short biographies links and dedicated pages net website of the kate sharpley library containing many historical documents pertaining to anarchism infoshop org an online collection of news and information about anarchism the anarchist library large online library with texts from anarchist authors they lie we die anarchist virtual library containing books booklets and texts\n",
            "autism is disorder characterized by impaired social interaction verbal and non verbal communication and restricted and repetitive behavior parents usually notice signs in the first two years of their child life these signs often develop gradually though some children with autism reach their developmental milestones at normal pace and then regress the diagnostic criteria require that symptoms become apparent in early childhood typically before age three while autism is highly heritable researchers suspect both environmental and genetic factors as causes in rare cases autism is strongly associated with agents that cause birth defects controversies surround other proposed environmental causes for example the vaccine hypotheses have been disproven autism affects information processing in the brain by altering how nerve cells and their synapses connect and organize how this occurs is not well understood it is one of three recognized disorders in the autism spectrum asds the other two being asperger syndrome which lacks delays in cognitive development and language and pervasive developmental disorder not otherwise specified commonly abbreviated as pdd nos which is diagnosed when the full set of criteria for autism or asperger syndrome are not met early speech or behavioral interventions can help children with autism gain self care social and communication skills although there is no known cure there have been reported cases of children who recovered not many children with autism live independently after reaching adulthood though some become successful an autistic culture has developed with some individuals seeking cure and others believing autism should be accepted as difference and not treated as disorder globally autism is estimated to affect million people as of as of the number of people affected is estimated at about per worldwide it occurs four to five times more often in boys than girls about of children in the united states one in are diagnosed with asd increase from one in in the rate of autism among adults aged years and over in the united kingdom is the number of people diagnosed has been increasing dramatically since the partly due to changes in diagnostic practice and government subsidized financial incentives for named diagnoses the question of whether actual rates have increased is unresolved characteristics autism spectrum disorder video autism is highly variable disorder that first appears during infancy or childhood and generally follows steady course without remission people with autism may be severely impaired in some respects but normal or even superior in others overt symptoms gradually begin after the age of six months become established by age two or three years and tend to continue through adulthood although often in more muted form it is distinguished not by single symptom but by characteristic triad of symptoms impairments in social interaction impairments in communication and restricted interests and repetitive behavior other aspects such as atypical eating are also common but are not essential for diagnosis autism individual symptoms occur in the general population and appear not to associate highly without sharp line separating pathologically severe from common traits social development social deficits distinguish autism and the related autism spectrum disorders asd see classification from other developmental disorders people with autism have social impairments and often lack the intuition about others that many people take for granted noted autistic temple grandin described her inability to understand the social communication of neurotypicals or people with normal neural development as leaving her feeling like an anthropologist on mars unusual social development becomes apparent early in childhood autistic infants show less attention to social stimuli smile and look at others less often and respond less to their own name autistic toddlers differ more strikingly from social norms for example they have less eye contact and turn taking and do not have the ability to use simple movements to express themselves such as pointing at things three to five year old children with autism are less likely to exhibit social understanding approach others spontaneously imitate and respond to emotions communicate nonverbally and take turns with others however they do form attachments to their primary caregivers most children with autism display moderately less attachment security than neurotypical children although this difference disappears in children with higher mental development or less severe asd older children and adults with asd perform worse on tests of face and emotion recognition although this may be partly due to lower ability to define person own emotions children with high functioning autism suffer from more intense and frequent loneliness compared to non autistic peers despite the common belief that children with autism prefer to be alone making and maintaining friendships often proves to be difficult for those with autism for them the quality of friendships not the number of friends predicts how lonely they feel functional friendships such as those resulting in invitations to parties may affect the quality of life more deeply there are many anecdotal reports but few systematic studies of aggression and violence in individuals with asd the limited data suggest that in children with intellectual disability autism is associated with aggression destruction of property and tantrums communication about third to half of individuals with autism do not develop enough natural speech to meet their daily communication needs differences in communication may be present from the first year of life and may include delayed onset of babbling unusual gestures diminished responsiveness and vocal patterns that are not synchronized with the caregiver in the second and third years children with autism have less frequent and less diverse babbling consonants words and word combinations their gestures are less often integrated with words children with autism are less likely to make requests or share experiences and are more likely to simply repeat others words echolalia or reverse pronouns joint attention seems to be necessary for functional speech and deficits in joint attention seem to distinguish infants with asd for example they may look at pointing hand instead of the pointed at object and they consistently fail to point at objects in order to comment on or share an experience children with autism may have difficulty with imaginative play and with developing symbols into language in pair of studies high functioning children with autism aged performed equally well as and adults better than individually matched controls at basic language tasks involving vocabulary and spelling both autistic groups performed worse than controls at complex language tasks such as figurative language comprehension and inference as people are often sized up initially from their basic language skills these studies suggest that people speaking to autistic individuals are more likely to overestimate what their audience comprehends repetitive behavior autistic individuals display many forms of repetitive or restricted behavior which the repetitive behavior scale revised rbs categorizes as follows young boy with autism who has arranged his toys in row stereotypy is repetitive movement such as hand flapping head rolling or body rocking compulsive behavior is intended and appears to follow rules such as arranging objects in stacks or lines sameness is resistance to change for example insisting that the furniture not be moved or refusing to be interrupted ritualistic behavior involves an unvarying pattern of daily activities such as an unchanging menu or dressing ritual this is closely associated with sameness and an independent validation has suggested combining the two factors restricted behavior is limited in focus interest or activity such as preoccupation with single television program toy or game self injury includes movements that injure or can injure the person such as eye poking skin picking hand biting and head banging no single repetitive or self injurious behavior seems to be specific to autism but autism appears to have an elevated pattern of occurrence and severity of these behaviors other symptoms autistic individuals may have symptoms that are independent of the diagnosis but that can affect the individual or the family an estimated to of individuals with asd show unusual abilities ranging from splinter skills such as the memorization of trivia to the extraordinarily rare talents of prodigious autistic savants many individuals with asd show superior skills in perception and attention relative to the general population sensory abnormalities are found in over of those with autism and are considered core features by some although there is no good evidence that sensory symptoms differentiate autism from other developmental disorders differences are greater for under responsivity for example walking into things than for over responsivity for example distress from loud noises or for sensation seeking for example rhythmic movements an estimated of autistic people have motor signs that include poor muscle tone poor motor planning and toe walking deficits in motor coordination are pervasive across asd and are greater in autism proper unusual eating behavior occurs in about three quarters of children with asd to the extent that it was formerly diagnostic indicator selectivity is the most common problem although eating rituals and food refusal also occur this does not appear to result in malnutrition although some children with autism also have symptoms there is lack of published rigorous data to support the theory that children with autism have more or different symptoms than usual studies report conflicting results and the relationship between problems and asd is unclear parents of children with asd have higher levels of stress siblings of children with asd report greater admiration of and less conflict with the affected sibling than siblings of unaffected children and were similar to siblings of children with down syndrome in these aspects of the sibling relationship however they reported lower levels of closeness and intimacy than siblings of children with down syndrome siblings of individuals with asd have greater risk of negative well being and poorer sibling relationships as adults causes it has long been presumed that there is common cause at the genetic cognitive and neural levels for autism characteristic triad of symptoms however there is increasing suspicion that autism is instead complex disorder whose core aspects have distinct causes that often co occur deletion duplication and inversion are all chromosome abnormalities that have been implicated in autism autism has strong genetic basis although the genetics of autism are complex and it is unclear whether asd is explained more by rare mutations with major effects or by rare multigene interactions of common genetic variants complexity arises due to interactions among multiple genes the environment and epigenetic factors which do not change dna sequencing but are heritable and influence gene expression many genes have been associated with autism through sequencing the genomes of affected individuals and their parents studies of twins suggest that heritability is for autism and as high as for asd and siblings of those with autism are about times more likely to be autistic than the general population however most of the mutations that increase autism risk have not been identified typically autism cannot be traced to mendelian single gene mutation or to single chromosome abnormality and none of the genetic syndromes associated with asds have been shown to selectively cause asd numerous candidate genes have been located with only small effects attributable to any particular gene most loci individually explain less than of cases of autism the large number of autistic individuals with unaffected family members may result from spontaneous structural variation such as deletions duplications or inversions in genetic material during meiosis hence substantial fraction of autism cases may be traceable to genetic causes that are highly heritable but not inherited that is the mutation that causes the autism is not present in the parental genome several lines of evidence point to synaptic dysfunction as cause of autism some rare mutations may lead to autism by disrupting some synaptic pathways such as those involved with cell adhesion gene replacement studies in mice suggest that autistic symptoms are closely related to later developmental steps that depend on activity in synapses and on activity dependent changes all known teratogens agents that cause birth defects related to the risk of autism appear to act during the first eight weeks from conception and though this does not exclude the possibility that autism can be initiated or affected later there is strong evidence that autism arises very early in development exposure to air pollution during pregnancy especially heavy metals and particulates may increase the risk of autism although no links have been found and some have been completely disproven environmental factors that have been claimed to contribute to or exacerbate autism include certain foods infectious diseases solvents diesel exhaust pcbs phthalates and phenols used in plastic products pesticides brominated flame retardants alcohol smoking illicit drugs vaccines and prenatal stress parents may first become aware of autistic symptoms in their child around the time of routine vaccination this has led to unsupported theories blaming vaccine overload vaccine preservative or the mmr vaccine for causing autism the latter theory was supported by litigation funded study that has since been shown to have been an elaborate fraud although these theories lack convincing scientific evidence and are biologically implausible parental concern about potential vaccine link with autism has led to lower rates of childhood immunizations outbreaks of previously controlled childhood diseases in some countries and the preventable deaths of several children mechanism autism symptoms result from maturation related changes in various systems of the brain how autism occurs is not well understood its mechanism can be divided into two areas the pathophysiology of brain structures and processes associated with autism and the linkages between brain structures and behaviors the behaviors appear to have multiple pathophysiology autism affects the amygdala cerebellum and many other parts of the brain unlike many other brain disorders such as parkinson autism does not have clear unifying mechanism at either the molecular cellular or systems level it is not known whether autism is few disorders caused by mutations converging on few common molecular pathways or is like intellectual disability large set of disorders with diverse mechanisms autism appears to result from developmental factors that affect many or all functional brain systems and to disturb the timing of brain development more than the final product neuroanatomical studies and the associations with teratogens strongly suggest that autism mechanism includes alteration of brain development soon after conception this anomaly appears to start cascade of pathological events in the brain that are significantly influenced by environmental factors just after birth the brains of children with autism tend to grow faster than usual followed by normal or relatively slower growth in childhood it is not known whether early overgrowth occurs in all children with autism it seems to be most prominent in brain areas underlying the development of higher cognitive specialization hypotheses for the cellular and molecular bases of pathological early overgrowth include the following an excess of neurons that causes local in key brain regions disturbed neuronal migration during early gestation unbalanced excitatory inhibitory networks abnormal formation of synapses and dendritic spines for example by modulation of the neurexin neuroligin cell adhesion system or by poorly regulated synthesis of synaptic proteins disrupted synaptic development may also contribute to epilepsy which may explain why the two conditions are associated the immune system is thought to play an important role in autism children with autism have been found by researchers to have inflammation of both the peripheral and central immune systems as indicated by increased levels of pro inflammatory cytokines and significant activation of microglia biomarkers of abnormal immune function have also been associated with increased impairments in behaviors that are characteristic of the core features of autism such as deficits in social interactions and communication interactions between the immune system and the nervous system begin early during the embryonic stage of life and successful depends on balanced immune response it is thought that activation of pregnant mother immune system such as from environmental toxicants or infection can contribute to causing autism through causing disruption of brain development this is supported by recent studies that have found that infection during pregnancy is associated with an increased risk of autism the relationship of neurochemicals to autism is not well understood several have been investigated with the most evidence for the role of serotonin and of genetic differences in its transport the role of group metabotropic glutamate receptors mglur in the pathogenesis of fragile syndrome the most common identified genetic cause of autism has led to interest in the possible implications for future autism research into this pathway some data suggests neuronal overgrowth potentially related to an increase in several growth hormones or to impaired regulation of growth factor receptors also some inborn errors of metabolism are associated with autism but probably account for less than of cases the mirror neuron system mns theory of autism hypothesizes that distortion in the development of the mns interferes with imitation and leads to autism core features of social impairment and communication difficulties the mns operates when an animal performs an action or observes another animal perform the same action the mns may contribute to an individual understanding of other people by enabling the modeling of their behavior via embodied simulation of their actions intentions and emotions several studies have tested this hypothesis by demonstrating structural abnormalities in mns regions of individuals with asd delay in the activation in the core circuit for imitation in individuals with asperger syndrome and correlation between reduced mns activity and severity of the syndrome in children with asd however individuals with autism also have abnormal brain activation in many circuits outside the mns and the mns theory does not explain the normal performance of children with autism on imitation tasks that involve goal or object autistic individuals tend to use different areas of the brain yellow for movement task compared to control group blue asd related patterns of low function and aberrant activation in the brain differ depending on whether the brain is doing social or nonsocial tasks in autism there is evidence for reduced functional connectivity of the default network large scale brain network involved in social and emotional processing with intact connectivity of the task positive network used in sustained attention and goal directed thinking in people with autism the two networks are not negatively correlated in time suggesting an imbalance in toggling between the two networks possibly reflecting disturbance of self referential thought the theory of autism hypothesizes that autism is marked by high level neural connections and synchronization along with an excess of low level processes evidence for this theory has been found in functional neuroimaging studies on autistic individuals and by brainwave study that suggested that adults with asd have local in the cortex and weak functional connections between the frontal lobe and the rest of the cortex other evidence suggests the is mainly within each hemisphere of the cortex and that autism is disorder of the association cortex from studies based on event related potentials transient changes to the brain electrical activity in response to stimuli there is considerable evidence for differences in autistic individuals with respect to attention orientation to auditory and visual stimuli novelty detection language and face processing and information storage several studies have found preference for nonsocial stimuli for example studies have found evidence in children with autism of delayed responses in the brain processing of auditory signals in the genetic area relations have been found between autism and schizophrenia based on duplications and deletions of chromosomes research showed that schizophrenia and autism are significantly more common in combination with deletion syndrome research on autism schizophrenia relations for chromosome chromosome and chromosome are inconclusive functional connectivity studies have found both hypo and hyper connectivity in brains of people with autism hypo connectivity seems to dominate especially for and cortico cortical functional connectivity neuropsychology two major categories of cognitive theories have been proposed about the links between autistic brains and behavior the first category focuses on deficits in social cognition simon baron cohen empathizing systemizing theory postulates that autistic individuals can systemize that is they can develop internal rules of operation to handle events inside the brain but are less effective at empathizing by handling events generated by other agents an extension the extreme male brain theory hypothesizes that autism is an extreme case of the male brain defined as individuals in whom systemizing is better than empathizing these theories are somewhat related to baron cohen earlier theory of mind approach which hypothesizes that autistic behavior arises from an inability to ascribe mental states to oneself and others the theory of mind hypothesis is supported by the atypical responses of children with autism to the sally anne test for reasoning about others motivations and the mirror neuron system theory of autism described in pathophysiology maps well to the hypothesis however most studies have found no evidence of impairment in autistic individuals ability to understand other people basic intentions or goals instead data suggests that impairments are found in understanding more complex social emotions or in considering others viewpoints the second category focuses on nonsocial or general processing the executive functions such as working memory planning inhibition in his review kenworthy states that the claim of executive dysfunction as causal factor in autism is controversial however it is clear that executive dysfunction plays role in the social and cognitive deficits observed in individuals with autism tests of core executive processes such as eye movement tasks indicate improvement from late childhood to adolescence but performance never reaches typical adult levels strength of the theory is predicting stereotyped behavior and narrow interests two weaknesses are that executive function is hard to measure and that executive function deficits have not been found in young children with autism weak central coherence theory hypothesizes that limited ability to see the big picture underlies the central disturbance in autism one strength of this theory is predicting special talents and peaks in performance in autistic people related theory enhanced perceptual functioning focuses more on the superiority of locally oriented and perceptual operations in autistic individuals these theories map well from the theory of autism neither category is satisfactory on its own social cognition theories poorly address autism rigid and repetitive behaviors while the nonsocial theories have difficulty explaining social impairment and communication difficulties combined theory based on multiple deficits may prove to be more useful diagnosis diagnosis is based on behavior not cause or mechanism under the dsm autism is characterized by persistent deficits in social communication and interaction across multiple contexts as well as restricted repetitive patterns of behavior interests or activities these deficits are present in early childhood typically before age three and lead to clinically significant functional impairment sample symptoms include lack of social or emotional reciprocity stereotyped and repetitive use of language or idiosyncratic language and persistent preoccupation with unusual objects the disturbance must not be better accounted for by rett syndrome intellectual disability or global developmental delay icd uses essentially the same definition several diagnostic instruments are available two are commonly used in autism research the autism diagnostic interview revised adi is semistructured parent interview and the autism diagnostic observation schedule ados uses observation and interaction with the child the childhood autism rating scale cars is used widely in clinical environments to assess severity of autism based on observation of children pediatrician commonly performs preliminary investigation by taking developmental history and physically examining the child if warranted diagnosis and evaluations are conducted with help from asd specialists observing and assessing cognitive communication family and other factors using standardized tools and taking into account any associated medical conditions pediatric is often asked to assess behavior and cognitive skills both to aid diagnosis and to help recommend educational interventions differential diagnosis for asd at this stage might also consider intellectual disability hearing impairment and specific language impairment such as landau kleffner syndrome the presence of autism can make it harder to diagnose coexisting psychiatric disorders such as depression clinical genetics evaluations are often done once asd is diagnosed particularly when other symptoms already suggest genetic cause although genetic technology allows clinical geneticists to link an estimated of cases to genetic causes consensus guidelines in the us and uk are limited to high resolution chromosome and fragile testing genotype first model of diagnosis has been proposed which would routinely assess the genome copy number variations as new genetic tests are developed several ethical legal and social issues will emerge commercial availability of tests may precede adequate understanding of how to use test results given the complexity of autism genetics metabolic and neuroimaging tests are sometimes helpful but are not routine asd can sometimes be diagnosed by age months although diagnosis becomes increasingly stable over the first three years of life for example one year old who meets diagnostic criteria for asd is less likely than three year old to continue to do so few years later in the uk the national autism plan for children recommends at most weeks from first concern to completed diagnosis and assessment though few cases are handled that quickly in practice although the symptoms of autism and asd begin early in childhood they are sometimes missed years later adults may seek diagnoses to help them or their friends and family understand themselves to help their employers make adjustments or in some locations to claim disability living allowances or other benefits underdiagnosis and overdiagnosis are problems in marginal cases and much of the recent increase in the number of reported asd cases is likely due to changes in diagnostic practices the increasing popularity of drug treatment options and the expansion of benefits has given providers incentives to diagnose asd resulting in some overdiagnosis of children with uncertain symptoms conversely the cost of screening and diagnosis and the challenge of obtaining payment can inhibit or delay diagnosis it is particularly hard to diagnose autism among the visually impaired partly because some of its diagnostic criteria depend on vision and partly because autistic symptoms overlap with those of common blindness syndromes or blindisms classification autism is one of the five pervasive developmental disorders pdd which are characterized by widespread abnormalities of social interactions and communication and severely restricted interests and highly repetitive behavior these symptoms do not imply sickness fragility or emotional disturbance of the five pdd forms asperger syndrome is closest to autism in signs and likely causes rett syndrome and childhood disintegrative disorder share several signs with autism but may have unrelated causes pdd not otherwise specified pdd nos also called atypical autism is diagnosed when the criteria are not met for more specific disorder unlike with autism people with asperger syndrome have no substantial delay in language development the terminology of autism can be bewildering with autism asperger syndrome and pdd nos often called the autism spectrum disorders asd or sometimes the autistic disorders whereas autism itself is often called autistic disorder childhood autism or infantile autism in this article autism refers to the classic autistic disorder in clinical practice though autism asd and pdd are often used interchangeably asd in turn is subset of the broader autism phenotype which describes individuals who may not have asd but do have autistic like traits such as avoiding eye contact the manifestations of autism cover wide spectrum ranging from individuals with severe impairments who may be silent developmentally disabled and locked into hand flapping and rocking to high functioning individuals who may have active but distinctly odd social approaches narrowly focused interests and verbose pedantic communication because the behavior spectrum is continuous boundaries between diagnostic categories are necessarily somewhat arbitrary sometimes the syndrome is divided into low medium or high functioning autism lfa mfa and hfa based on iq thresholds or on how much support the individual requires in daily life these subdivisions are not standardized and are controversial autism can also be divided into syndromal and non syndromal autism the syndromal autism is associated with severe or profound intellectual disability or congenital syndrome with physical symptoms such as tuberous sclerosis although individuals with asperger syndrome tend to perform better cognitively than those with autism the extent of the overlap between asperger syndrome hfa and non syndromal autism is unclear some studies have reported diagnoses of autism in children due to loss of language or social skills as opposed to failure to make progress typically from to months of age the validity of this distinction remains controversial it is possible that regressive autism is specific subtype or that there is continuum of behaviors between autism with and without regression research into causes has been hampered by the inability to identify biologically meaningful subgroups within the autistic population and by the traditional boundaries between the disciplines of psychiatry psychology neurology and pediatrics newer technologies such as fmri and diffusion tensor imaging can help identify biologically relevant phenotypes observable traits that can be viewed on brain scans to help further neurogenetic studies of autism one example is lowered activity in the fusiform face area of the brain which is associated with impaired perception of people versus objects it has been proposed to classify autism using genetics as well as behavior screening about half of parents of children with asd notice their child unusual behaviors by age months and about four fifths notice by age months according to an article failure to meet any of the following milestones is an absolute indication to proceed with further evaluations delay in referral for such testing may delay early diagnosis and treatment and affect the long term outcome no babbling by months no gesturing pointing waving etc by months no single words by months no two word spontaneous not just echolalic phrases by months any loss of any language or social skills at any age the united states preventative services task force in found it was unclear if screening was beneficial or harmful among children in whom there is no concerns the japanese practice is to screen all children for asd at and months using autism specific formal screening tests in contrast in the uk children whose families or doctors recognize possible signs of autism are screened it is not known which approach is more effective screening tools include the modified checklist for autism in toddlers chat the early screening of autistic traits questionnaire and the first year inventory initial data on chat and its predecessor the checklist for autism in toddlers chat on children aged months suggests that it is best used in clinical setting and that it has low sensitivity many false negatives but good specificity few false positives it may be more accurate to precede these tests with broadband screener that does not distinguish asd from other developmental disorders screening tools designed for one culture norms for behaviors like eye contact may be inappropriate for different culture although genetic screening for autism is generally still impractical it can be considered in some cases such as children with neurological symptoms and dysmorphic features prevention infection with rubella during pregnancy causes fewer than of cases of autism vaccination against rubella can prevent many of those cases management three year old with autism points to fish in an aquarium as part of an experiment on the effect of intensive shared attention training on language development the main goals when treating children with autism are to lessen associated deficits and family distress and to increase quality of life and functional independence in general higher iqs are correlated with greater responsiveness to treatment and improved treatment outcomes no single treatment is best and treatment is typically tailored to the child needs families and the educational system are the main resources for treatment studies of interventions have methodological problems that prevent definitive conclusions about efficacy however the development of evidence based interventions has advanced in recent years although many psychosocial interventions have some positive evidence suggesting that some form of treatment is preferable to no treatment the methodological quality of systematic reviews of these studies has generally been poor their clinical results are mostly tentative and there is little evidence for the relative effectiveness of treatment options intensive sustained special education programs and behavior therapy early in life can help children acquire self care social and job skills and often improve functioning and decrease symptom severity and maladaptive behaviors claims that intervention by around age three years is crucial are not substantiated available approaches include applied behavior analysis aba developmental models structured teaching speech and language therapy social skills therapy and occupational therapy among these approaches interventions either treat autistic features comprehensively or focalize treatment on specific area of deficit there is some evidence that early intensive behavioral intervention eibi an early intervention model based on aba for to hours week for multiple years is an effective treatment for some children with asd two theoretical frameworks outlined for early childhood intervention include applied behavioral analysis aba and developmental social pragmatic models dsp one interventional strategy utilizes parent training model which teaches parents how to implement various aba and dsp techniques allowing for parents to disseminate interventions themselves various dsp programs have been developed to explicitly deliver intervention systems through at home parent implementation despite the recent development of parent training models these interventions have demonstrated effectiveness in numerous studies being evaluated as probable efficacious mode of treatment education educational interventions can be effective to varying degrees in most children intensive aba treatment has demonstrated effectiveness in enhancing global functioning in preschool children and is well established for improving intellectual performance of young children similarly teacher implemented intervention that utilizes an aba combined with developmental social pragmatic approach has been found to be well established treatment in improving social communication skills in young children although there is less evidence in its treatment of global symptoms reports are often poorly communicated to educators resulting in gap between what report recommends and what education is provided it is not known whether treatment programs for children lead to significant improvements after the children grow up and the limited research on the effectiveness of adult residential programs shows mixed results the appropriateness of including children with varying severity of autism spectrum disorders in the general education population is subject of current debate among educators and researchers medication many medications are used to treat asd symptoms that interfere with integrating child into home or school when behavioral treatment fails more than half of us children diagnosed with asd are prescribed psychoactive drugs or anticonvulsants with the most common drug classes being antidepressants stimulants and antipsychotics antipsychotics such as risperidone and aripiprazole have been found to be useful for treating irritability repetitive behavior and sleeplessness that often occurs with autism however their side effects must be weighed against their potential benefits and people with autism may respond atypically there is scant reliable research about the effectiveness or safety of drug treatments for adolescents and adults with asd no known medication relieves autism core symptoms of social and communication impairments experiments in mice have reversed or reduced some symptoms related to autism by replacing or modulating gene function suggesting the possibility of targeting therapies to specific rare mutations known to cause autism alternative medicine although many alternative therapies and interventions are available few are supported by scientific studies treatment approaches have little empirical support in quality of life contexts and many programs focus on success measures that lack predictive validity and real world relevance scientific evidence appears to matter less to service providers than program marketing training availability and parent requests some alternative treatments may place the child at risk study found that compared to their peers autistic boys have significantly thinner bones if on casein free diets in botched chelation therapy killed five year old child with autism there has been early research looking at hyperbaric treatments in children with autism although popularly used as an alternative treatment for people with autism there is no good evidence that gluten free diet is of benefit in the subset of people who have gluten sensitivity there is limited evidence that suggests that gluten free diet may improve some autistic behaviours cost treatment is expensive indirect costs are more so for someone born in us study estimated an average lifetime cost of net present value in dollars inflation adjusted from estimate with about medical care extra education and other care and lost economic productivity publicly supported programs are often inadequate or inappropriate for given child and unreimbursed out of pocket medical or therapy expenses are associated with likelihood of family financial problems one us study found average loss of annual income in families of children with asd and related study found that asd is associated with higher probability that child care problems will greatly affect parental employment us states increasingly require private health insurance to cover autism services shifting costs from publicly funded education programs to privately funded health insurance after childhood key treatment issues include residential care job training and placement sexuality social skills and estate planning society and culture the rainbow colored infinity is often used as symbol for the diversity of the autism spectrum as well as neurodiversity in general the emergence of the autism rights movement has served as an attempt to encourage people to be more tolerant of those with autism through this movement people hope to cause others to think of autism as difference instead of disease proponents of this movement wish to seek acceptance not cures there have also been many worldwide events promoting autism awareness such as world autism awareness day light it up blue autism sunday autistic pride day autreat and others there have also been many organizations dedicated to increasing the awareness of autism and the effects that autism has on someone life these organizations include autism speaks autism national committee autism society of america and many others social science scholars have had an increased focused on studying those with autism in hopes to learn more about autism as culture transcultural comparisons and research on social movements media has had an influence on how the public perceives those with autism rain man film that won oscars depicts character with autism who has incredible talents and abilities while many autistics don have these special abilities there are some autistic individuals who have been successful in their fields prognosis there is no known cure children recover occasionally so that they lose their diagnosis of asd this occurs sometimes after intensive treatment and sometimes not it is not known how often recovery happens reported rates in unselected samples of children with asd have ranged from to most children with autism acquire language by age five or younger though few have developed communication skills in later years most children with autism lack social support meaningful relationships future employment opportunities or self determination although core difficulties tend to persist symptoms often become less severe with age few high quality studies address long term prognosis some adults show modest improvement in communication skills but few decline no study has focused on autism after midlife acquiring language before age six having an iq above and having marketable skill all predict better outcomes independent living is unlikely with severe autism most people with autism face significant obstacles in transitioning to adulthood epidemiology reports of autism cases per children grew dramatically in the us from to it is unknown how much if any growth came from changes in rates of autism most recent reviews tend to estimate prevalence of per for autism and close to per for asd and per children in the united states for asd as of because of inadequate data these numbers may underestimate asd true rate globally autism affects an estimated million people as of while asperger syndrome affects further million in the nhs estimated that the overall prevalence of autism among adults aged years and over in the uk was rates of pdd nos has been estimated at per asperger syndrome at roughly per and childhood disintegrative disorder at per cdc most recent estimate is that out of every children or per has an asd as of the number of reported cases of autism increased dramatically in the and early this increase is largely attributable to changes in diagnostic practices referral patterns availability of services age at diagnosis and public awareness though unidentified environmental risk factors cannot be ruled out the available evidence does not rule out the possibility that autism true prevalence has increased real increase would suggest directing more attention and funding toward changing environmental factors instead of continuing to focus on genetics boys are at higher risk for asd than girls the sex ratio averages and is greatly modified by cognitive impairment it may be close to with intellectual disability and more than without several theories about the higher prevalence in males have been investigated but the cause of the difference is unconfirmed one theory is that females are underdiagnosed although the evidence does not implicate any single pregnancy related risk factor as cause of autism the risk of autism is associated with advanced age in either parent and with diabetes bleeding and use of psychiatric drugs in the mother during pregnancy the risk is greater with older fathers than with older mothers two potential explanations are the known increase in mutation burden in older sperm and the hypothesis that men marry later if they carry genetic liability and show some signs of autism most professionals believe that race ethnicity and socioeconomic background do not affect the occurrence of autism several other conditions are common in children with autism they include genetic disorders about of autism cases have an identifiable mendelian single gene condition chromosome abnormality or other genetic syndrome and asd is associated with several genetic disorders intellectual disability the percentage of autistic individuals who also meet criteria for intellectual disability has been reported as anywhere from to wide variation illustrating the difficulty of assessing autistic intelligence in comparison for pdd nos the association with intellectual disability is much weaker and by definition the diagnosis of asperger excludes intellectual disability anxiety disorders are common among children with asd there are no firm data but studies have reported prevalences ranging from to many anxiety disorders have symptoms that are better explained by asd itself or are hard to distinguish from asd symptoms epilepsy with variations in risk of epilepsy due to age cognitive level and type of language disorder several metabolic defects such as phenylketonuria are associated with autistic symptoms minor physical anomalies are significantly increased in the autistic population preempted diagnoses although the dsm iv rules out concurrent diagnosis of many other conditions along with autism the full criteria for attention deficit hyperactivity disorder adhd tourette syndrome and other of these conditions are often present and these comorbid diagnoses are increasingly accepted sleep problems affect about two thirds of individuals with asd at some point in childhood these most commonly include symptoms of insomnia such as difficulty in falling asleep frequent nocturnal awakenings and early morning awakenings sleep problems are associated with difficult behaviors and family stress and are often focus of clinical attention over and above the primary asd diagnosis history leo kanner introduced the label early infantile autism in few examples of autistic symptoms and treatments were described long before autism was named the table talk of martin luther compiled by his notetaker mathesius contains the story of year old boy who may have been severely autistic luther reportedly thought the boy was soulless mass of flesh possessed by the devil and suggested that he be suffocated although later critic has cast doubt on the veracity of this report the earliest well documented case of autism is that of hugh blair of borgue as detailed in court case in which his brother successfully petitioned to annul blair marriage to gain blair inheritance the wild boy of aveyron feral child caught in showed several signs of autism the medical student jean itard treated him with behavioral program designed to help him form social attachments and to induce speech via imitation the new latin word autismus english translation autism was coined by the swiss psychiatrist eugen bleuler in as he was defining symptoms of schizophrenia he derived it from the greek word autós αὐτός meaning self and used it to mean morbid self admiration referring to autistic withdrawal of the patient to his fantasies against which any influence from outside becomes an intolerable disturbance the word autism first took its modern sense in when hans asperger of the vienna university hospital adopted bleuler terminology autistic psychopaths in lecture in german about child psychology asperger was investigating an asd now known as asperger syndrome though for various reasons it was not widely recognized as separate diagnosis until leo kanner of the johns hopkins hospital first used autism in its modern sense in english when he introduced the label early infantile autism in report of children with striking behavioral similarities almost all the characteristics described in kanner first paper on the subject notably autistic aloneness and insistence on sameness are still regarded as typical of the autistic spectrum of disorders it is not known whether kanner derived the term independently of asperger kanner reuse of autism led to decades of confused terminology like infantile schizophrenia and child psychiatry focus on maternal deprivation led to misconceptions of autism as an infant response to refrigerator mothers starting in the late autism was established as separate syndrome by demonstrating that it is lifelong distinguishing it from intellectual disability and schizophrenia and from other developmental disorders and demonstrating the benefits of involving parents in active programs of therapy as late as the mid there was little evidence of genetic role in autism now it is thought to be one of the most heritable of all psychiatric conditions although the rise of parent organizations and the of childhood asd have deeply affected how we view asd parents continue to feel social stigma in situations where their child autistic behavior is perceived negatively by others and many primary care physicians and medical specialists still express some beliefs consistent with outdated autism research the internet has helped autistic individuals bypass nonverbal cues and emotional sharing that they find so hard to deal with and has given them way to form online communities and work remotely sociological and cultural aspects of autism have developed some in the community seek cure while others believe that autism is simply another way of being references further reading external links\n"
          ]
        }
      ],
      "source": [
        "from gensim.test.utils import datapath, get_tmpfile\n",
        "from gensim.corpora import WikiCorpus, MmCorpus\n",
        "path_to_wiki_dump = datapath(\"enwiki-latest-pages-articles1.xml-p000000010p000030302-shortened.bz2\")\n",
        "corpus_path = get_tmpfile(\"wiki-corpus.mm\")\n",
        "wiki = WikiCorpus(path_to_wiki_dump)  # create word->word_id mapping, ~8h on full wiki\n",
        "MmCorpus.serialize(corpus_path, wiki)  # another 8h, creates a file in MatrixMarket format and mapping\n",
        "\n",
        "texts = [' '.join(txt) for txt in wiki.get_texts()]\n",
        "print(texts[0])\n",
        "print(texts[1])"
      ]
    },
    {
      "cell_type": "code",
      "execution_count": null,
      "metadata": {
        "id": "_jm3-BTuvXrk"
      },
      "outputs": [],
      "source": [
        "# import gensim.utils as utils\n",
        "from smart_open import smart_open\n",
        "from gensim.utils import simple_preprocess\n",
        "from gensim.parsing.preprocessing import STOPWORDS\n",
        "from gensim.corpora.wikicorpus import _extract_pages, filter_wiki\n",
        "\n",
        "def tokenize(text):\n",
        "    return [token for token in simple_preprocess(text) if token not in STOPWORDS]\n",
        "\n",
        "def iter_wiki(dump_file):\n",
        "    \"\"\"Yield each article from the Wikipedia dump, as a `(title, tokens)` 2-tuple.\"\"\"\n",
        "    ignore_namespaces = 'Wikipedia Category File Portal Template MediaWiki User Help Book Draft'.split()\n",
        "    for title, text, pageid in _extract_pages(smart_open(dump_file)):\n",
        "        text = filter_wiki(text)\n",
        "        tokens = tokenize(text)\n",
        "        if len(tokens) < 50 or any(title.startswith(ns + ':') for ns in ignore_namespaces):\n",
        "            continue  # ignore short articles and various meta-articles\n",
        "        yield title, tokens"
      ]
    },
    {
      "cell_type": "code",
      "execution_count": null,
      "metadata": {
        "colab": {
          "base_uri": "https://localhost:8080/"
        },
        "id": "Sd4hkTySwgqF",
        "outputId": "2edf5ee4-2d48-4fb8-dbe6-46fb76605355"
      },
      "outputs": [
        {
          "output_type": "stream",
          "name": "stdout",
          "text": [
            "April ['april', 'fourth', 'month', 'year', 'julian', 'gregorian', 'calendars', 'comes', 'march', 'months']\n",
            "August ['august', 'aug', 'eighth', 'month', 'year', 'gregorian', 'calendar', 'coming', 'july', 'september']\n",
            "Art ['painting', 'renoir', 'work', 'art', 'art', 'creative', 'activity', 'expresses', 'imaginative', 'technical']\n",
            "A ['writing', 'cursive', 'font', 'letter', 'english', 'alphabet', 'small', 'letter', 'lower', 'case']\n",
            "Air ['fan', 'air', 'air', 'refers', 'earth', 'atmosphere', 'air', 'mixture', 'gases', 'tiny']\n",
            "Autonomous communities of Spain ['spain', 'divided', 'parts', 'called', 'autonomous', 'communities', 'autonomous', 'means', 'autonomous', 'communities']\n",
            "Alan Turing ['statue', 'alan', 'turing', 'turing', 'idea', 'bombe', 'mechanical', 'details', 'added', 'built']\n",
            "Alanis Morissette ['alanis', 'nadine', 'morissette', 'born', 'june', 'grammy', 'award', 'winning', 'canadian', 'american']\n"
          ]
        }
      ],
      "source": [
        "# only use simplewiki in this tutorial (fewer documents)\n",
        "# the full wiki dump is exactly the same format, but larger\n",
        "wiki_file = './data/simplewiki-latest-pages-articles.xml.bz2'\n",
        "stream = iter_wiki(wiki_file)\n",
        "for title, tokens in itertools.islice(iter_wiki(wiki_file), 8):\n",
        "    print (title, tokens[:10])  # print the article title and its first ten tokens"
      ]
    },
    {
      "cell_type": "code",
      "execution_count": null,
      "metadata": {
        "id": "_t9ryoRPRWCN"
      },
      "outputs": [],
      "source": [
        "id2word = {0: u'word', 2: u'profit', 300: u'another_word'}"
      ]
    },
    {
      "cell_type": "code",
      "execution_count": null,
      "metadata": {
        "id": "OqYSBQvaRbZO"
      },
      "outputs": [],
      "source": [
        "doc_stream = (tokens for _, tokens in iter_wiki(wiki_file))"
      ]
    },
    {
      "cell_type": "code",
      "execution_count": null,
      "metadata": {
        "colab": {
          "base_uri": "https://localhost:8080/"
        },
        "id": "pZwEa-U4RnVU",
        "outputId": "85296d36-2d02-403d-f378-28af9cbde78d"
      },
      "outputs": [
        {
          "output_type": "stream",
          "name": "stderr",
          "text": [
            "INFO:gensim.corpora.dictionary:adding document #0 to Dictionary<0 unique tokens: []>\n",
            "INFO:gensim.corpora.dictionary:adding document #10000 to Dictionary<168992 unique tokens: ['abdicated', 'abdicates', 'abraham', 'additionally', 'adolf']...>\n",
            "INFO:gensim.corpora.dictionary:adding document #20000 to Dictionary<246465 unique tokens: ['abdicated', 'abdicates', 'abraham', 'additionally', 'adolf']...>\n",
            "INFO:gensim.corpora.dictionary:adding document #30000 to Dictionary<307692 unique tokens: ['abdicated', 'abdicates', 'abraham', 'additionally', 'adolf']...>\n",
            "INFO:gensim.corpora.dictionary:adding document #40000 to Dictionary<366887 unique tokens: ['abdicated', 'abdicates', 'abraham', 'additionally', 'adolf']...>\n",
            "INFO:gensim.corpora.dictionary:adding document #50000 to Dictionary<433236 unique tokens: ['abdicated', 'abdicates', 'abraham', 'additionally', 'adolf']...>\n",
            "INFO:gensim.corpora.dictionary:adding document #60000 to Dictionary<469090 unique tokens: ['abdicated', 'abdicates', 'abraham', 'additionally', 'adolf']...>\n",
            "INFO:gensim.corpora.dictionary:adding document #70000 to Dictionary<525543 unique tokens: ['abdicated', 'abdicates', 'abraham', 'additionally', 'adolf']...>\n",
            "INFO:gensim.corpora.dictionary:adding document #80000 to Dictionary<581339 unique tokens: ['abdicated', 'abdicates', 'abraham', 'additionally', 'adolf']...>\n",
            "INFO:gensim.corpora.dictionary:adding document #90000 to Dictionary<643679 unique tokens: ['abdicated', 'abdicates', 'abraham', 'additionally', 'adolf']...>\n",
            "INFO:gensim.corpora.dictionary:built Dictionary<650295 unique tokens: ['abdicated', 'abdicates', 'abraham', 'additionally', 'adolf']...> from 91800 documents (total 19901910 corpus positions)\n",
            "INFO:gensim.utils:Dictionary lifecycle event {'msg': \"built Dictionary<650295 unique tokens: ['abdicated', 'abdicates', 'abraham', 'additionally', 'adolf']...> from 91800 documents (total 19901910 corpus positions)\", 'datetime': '2024-04-10T03:56:56.799251', 'gensim': '4.3.2', 'python': '3.10.12 (main, Nov 20 2023, 15:14:05) [GCC 11.4.0]', 'platform': 'Linux-6.1.58+-x86_64-with-glibc2.35', 'event': 'created'}\n"
          ]
        },
        {
          "output_type": "stream",
          "name": "stdout",
          "text": [
            "CPU times: user 11min 52s, sys: 1.73 s, total: 11min 53s\n",
            "Wall time: 11min 59s\n",
            "Dictionary<650295 unique tokens: ['abdicated', 'abdicates', 'abraham', 'additionally', 'adolf']...>\n"
          ]
        }
      ],
      "source": [
        "%time id2word_wiki = gensim.corpora.Dictionary(doc_stream)\n",
        "print(id2word_wiki)"
      ]
    },
    {
      "cell_type": "code",
      "execution_count": null,
      "metadata": {
        "colab": {
          "base_uri": "https://localhost:8080/"
        },
        "id": "6_K37BtgR7D7",
        "outputId": "31cc7ae5-e0db-4e65-e1cd-4ce5976e2732"
      },
      "outputs": [
        {
          "output_type": "stream",
          "name": "stderr",
          "text": [
            "INFO:gensim.corpora.dictionary:discarding 610151 tokens: [('alvares', 4), ('american', 20610), ('aperire', 1), ('april', 10648), ('arbroath', 17), ('born', 24070), ('chakri', 16), ('city', 15421), ('cosmonauts', 18), ('davidians', 7)]...\n",
            "INFO:gensim.corpora.dictionary:keeping 40144 tokens which were in no less than 20 and no more than 9180 (=10.0%) documents\n",
            "INFO:gensim.corpora.dictionary:resulting dictionary: Dictionary<40144 unique tokens: ['abdicated', 'abdicates', 'abraham', 'additionally', 'adolf']...>\n"
          ]
        },
        {
          "output_type": "stream",
          "name": "stdout",
          "text": [
            "Dictionary<40144 unique tokens: ['abdicated', 'abdicates', 'abraham', 'additionally', 'adolf']...>\n"
          ]
        }
      ],
      "source": [
        "# ignore words that appear in less than 20 documents or more than 10% documents\n",
        "id2word_wiki.filter_extremes(no_below=20, no_above=0.1)\n",
        "print(id2word_wiki)"
      ]
    },
    {
      "cell_type": "code",
      "execution_count": null,
      "metadata": {
        "colab": {
          "base_uri": "https://localhost:8080/"
        },
        "id": "frannwbQlWlj",
        "outputId": "e41080d7-78db-4a90-a7a7-ebc825653410"
      },
      "outputs": [
        {
          "output_type": "stream",
          "name": "stdout",
          "text": [
            "Done with SimpleWiki at 2024-04-10 03:56:58.478357\n"
          ]
        }
      ],
      "source": [
        "now = datetime.now()\n",
        "\n",
        "print(\"Done with SimpleWiki at\", now)"
      ]
    },
    {
      "cell_type": "markdown",
      "source": [
        "\n",
        "**Question 1:** Print all words and their ids from id2word_wiki where the word starts with \"human\".\n",
        "\n",
        "**Note for advanced users:** In fully online scenarios, where the documents can only be streamed once (no repeating the stream), we can't exhaust the document stream just to build a dictionary. In this case we can map strings directly into their integer hash, using a hashing function such as MurmurHash or MD5. This is called the \"[hashing trick](https://en.wikipedia.org/wiki/Feature_hashing#Feature_vectorization_using_the_hashing_trick)\". A dictionary built this way is more difficult to debug, because there may be hash collisions: multiple words represented by a single id. See the documentation of [HashDictionary](https://radimrehurek.com/gensim/corpora/hashdictionary.html) for more details."
      ],
      "metadata": {
        "id": "pEcd6HXKAgnM"
      }
    },
    {
      "cell_type": "markdown",
      "source": [
        "## Vectorization\n",
        "A streamed corpus and a dictionary is all we need to create [bag-of-words](https://en.wikipedia.org/wiki/Bag-of-words_model) vectors:"
      ],
      "metadata": {
        "id": "UddfsG1OBc0g"
      }
    },
    {
      "cell_type": "code",
      "execution_count": null,
      "metadata": {
        "colab": {
          "base_uri": "https://localhost:8080/"
        },
        "id": "JqeLJSt_-m-6",
        "outputId": "274eff49-bd87-4034-ee65-03ab5ce66919"
      },
      "outputs": [
        {
          "output_type": "stream",
          "name": "stdout",
          "text": [
            "[(989, 1), (1176, 2), (1262, 1), (3368, 2)]\n"
          ]
        }
      ],
      "source": [
        "doc = \"A blood cell, also called a hematocyte, is a cell produced by hematopoiesis and normally found in blood.\"\n",
        "bow = id2word_wiki.doc2bow(tokenize(doc))\n",
        "print(bow)"
      ]
    },
    {
      "cell_type": "code",
      "execution_count": null,
      "metadata": {
        "colab": {
          "base_uri": "https://localhost:8080/"
        },
        "id": "b5sHV6Jk-pVg",
        "outputId": "e6ee1adb-982c-4877-edad-7631b0d65663"
      },
      "outputs": [
        {
          "output_type": "stream",
          "name": "stdout",
          "text": [
            "naruhito\n"
          ]
        }
      ],
      "source": [
        "print(id2word_wiki[10882])"
      ]
    },
    {
      "cell_type": "code",
      "execution_count": null,
      "metadata": {
        "colab": {
          "base_uri": "https://localhost:8080/"
        },
        "id": "9VcnibT9-t_C",
        "outputId": "d1810ec8-c448-4604-cfb3-319ef5589baa"
      },
      "outputs": [
        {
          "output_type": "stream",
          "name": "stdout",
          "text": [
            "[(0, 1), (1, 2), (2, 1), (3, 1), (4, 2), (5, 1), (6, 2), (7, 1), (8, 1), (9, 2), (10, 2), (11, 3), (12, 1), (13, 1), (14, 1), (15, 1), (16, 2), (17, 1), (18, 5), (19, 1), (20, 1), (21, 1), (22, 1), (23, 1), (24, 1), (25, 1), (26, 2), (27, 4), (28, 1), (29, 1), (30, 1), (31, 2), (32, 1), (33, 1), (34, 1), (35, 3), (36, 3), (37, 1), (38, 1), (39, 2), (40, 1), (41, 1), (42, 1), (43, 1), (44, 1), (45, 1), (46, 1), (47, 2), (48, 1), (49, 1), (50, 5), (51, 1), (52, 1), (53, 1), (54, 1), (55, 1), (56, 1), (57, 1), (58, 1), (59, 1), (60, 10), (61, 2), (62, 1), (63, 1), (64, 1), (65, 1), (66, 1), (67, 2), (68, 1), (69, 1), (70, 2), (71, 2), (72, 1), (73, 2), (74, 1), (75, 1), (76, 1), (77, 1), (78, 1), (79, 1), (80, 1), (81, 1), (82, 1), (83, 1), (84, 2), (85, 1), (86, 2), (87, 1), (88, 2), (89, 1), (90, 2), (91, 1), (92, 2), (93, 1), (94, 1), (95, 1), (96, 1), (97, 2), (98, 1), (99, 2), (100, 2), (101, 2), (102, 4), (103, 2), (104, 1), (105, 1), (106, 2), (107, 1), (108, 1), (109, 2), (110, 1), (111, 1), (112, 1), (113, 6), (114, 2), (115, 2), (116, 3), (117, 2), (118, 1), (119, 2), (120, 1), (121, 2), (122, 4), (123, 1), (124, 1), (125, 8), (126, 1), (127, 2), (128, 1), (129, 1), (130, 1), (131, 1), (132, 1), (133, 1), (134, 1), (135, 3), (136, 1), (137, 2), (138, 1), (139, 1), (140, 1), (141, 2), (142, 2), (143, 2), (144, 1), (145, 2), (146, 1), (147, 1), (148, 4), (149, 1), (150, 3), (151, 5), (152, 1), (153, 1), (154, 1), (155, 1), (156, 1), (157, 1), (158, 1), (159, 3), (160, 1), (161, 1), (162, 1), (163, 3), (164, 1), (165, 1), (166, 5), (167, 1), (168, 2), (169, 1), (170, 1), (171, 1), (172, 1), (173, 2), (174, 1), (175, 3), (176, 4), (177, 12), (178, 1), (179, 1), (180, 1), (181, 1), (182, 1), (183, 1), (184, 2), (185, 1), (186, 2), (187, 4), (188, 4), (189, 1), (190, 1), (191, 2), (192, 1), (193, 1), (194, 1), (195, 3), (196, 7), (197, 6), (198, 2), (199, 1), (200, 1), (201, 1), (202, 1), (203, 1), (204, 1), (205, 1), (206, 1), (207, 2), (208, 1), (209, 6), (210, 1), (211, 1), (212, 1), (213, 1), (214, 2), (215, 3), (216, 1), (217, 2), (218, 1), (219, 5), (220, 1), (221, 1), (222, 2), (223, 5), (224, 1), (225, 5), (226, 2), (227, 1), (228, 6), (229, 1), (230, 1), (231, 1), (232, 1), (233, 4), (234, 1), (235, 2), (236, 4), (237, 3), (238, 1), (239, 1), (240, 1), (241, 1), (242, 2), (243, 1), (244, 1), (245, 1), (246, 1), (247, 2), (248, 3), (249, 1), (250, 1), (251, 3), (252, 3), (253, 2), (254, 1), (255, 1), (256, 1), (257, 1), (258, 1), (259, 2), (260, 1), (261, 1), (262, 2), (263, 1), (264, 1), (265, 1), (266, 1), (267, 1), (268, 2), (269, 1), (270, 1), (271, 1), (272, 1), (273, 1), (274, 1), (275, 2), (276, 5), (277, 1), (278, 3), (279, 1), (280, 1), (281, 1), (282, 1), (283, 2), (284, 2), (285, 1), (286, 1), (287, 1), (288, 1), (289, 1), (290, 1), (291, 2), (292, 1), (293, 2), (294, 1), (295, 1), (296, 1), (297, 1), (298, 1), (299, 6), (300, 1), (301, 1), (302, 1), (303, 6), (304, 1), (305, 1), (306, 1), (307, 8), (308, 3), (309, 1), (310, 2), (311, 1), (312, 5), (313, 1), (314, 1), (315, 1), (316, 2), (317, 1), (318, 2), (319, 3), (320, 3), (321, 1), (322, 1), (323, 1), (324, 1), (325, 2), (326, 2), (327, 1), (328, 1), (329, 1), (330, 1), (331, 1), (332, 1), (333, 3), (334, 1), (335, 1), (336, 1), (337, 3), (338, 4), (339, 1), (340, 11), (341, 5), (342, 1), (343, 2), (344, 4), (345, 2), (346, 5), (347, 1), (348, 1), (349, 1), (350, 1), (351, 1), (352, 1), (353, 1), (354, 1), (355, 8), (356, 1), (357, 1), (358, 1), (359, 3), (360, 1), (361, 1), (362, 1), (363, 2), (364, 1), (365, 2), (366, 1), (367, 1), (368, 1), (369, 1), (370, 1), (371, 1), (372, 1), (373, 1), (374, 1), (375, 1), (376, 2), (377, 2), (378, 1), (379, 2), (380, 1), (381, 1), (382, 2), (383, 1), (384, 2), (385, 2), (386, 1), (387, 1), (388, 1), (389, 2), (390, 1), (391, 3), (392, 1), (393, 1), (394, 2), (395, 1), (396, 1), (397, 2), (398, 1), (399, 9), (400, 5), (401, 1), (402, 1), (403, 1), (404, 1), (405, 1), (406, 1), (407, 1), (408, 1), (409, 1), (410, 1), (411, 2), (412, 1), (413, 1), (414, 2), (415, 1), (416, 14), (417, 1), (418, 1), (419, 3), (420, 6), (421, 1), (422, 1), (423, 2), (424, 1), (425, 2), (426, 2), (427, 1), (428, 2), (429, 1), (430, 1), (431, 1), (432, 1), (433, 1), (434, 2), (435, 1), (436, 1), (437, 2), (438, 2), (439, 1), (440, 1), (441, 1), (442, 1), (443, 1), (444, 1), (445, 1), (446, 1), (447, 1), (448, 2), (449, 1), (450, 1), (451, 1), (452, 1), (453, 1), (454, 1), (455, 1), (456, 1), (457, 1), (458, 1), (459, 1), (460, 1), (461, 1), (462, 1), (463, 1), (464, 1), (465, 2), (466, 1), (467, 3), (468, 2), (469, 2), (470, 6), (471, 6), (472, 1), (473, 1), (474, 1), (475, 1), (476, 1), (477, 1), (478, 1), (479, 1), (480, 1), (481, 8), (482, 1), (483, 1), (484, 1), (485, 1), (486, 1), (487, 1), (488, 1), (489, 1), (490, 1), (491, 1), (492, 1), (493, 1), (494, 1), (495, 1), (496, 1), (497, 1), (498, 1), (499, 1), (500, 4), (501, 2), (502, 1), (503, 1), (504, 1), (505, 2), (506, 3), (507, 1), (508, 1), (509, 1), (510, 1), (511, 1), (512, 1), (513, 1), (514, 2), (515, 1), (516, 1), (517, 1), (518, 1), (519, 3), (520, 1), (521, 4), (522, 1), (523, 3), (524, 1), (525, 1), (526, 1), (527, 1), (528, 1), (529, 2), (530, 1), (531, 1), (532, 1), (533, 2), (534, 1), (535, 1), (536, 1), (537, 1), (538, 2), (539, 1), (540, 1), (541, 1), (542, 3), (543, 1), (544, 1), (545, 1), (546, 1), (547, 1), (548, 1), (549, 1), (550, 1), (551, 3), (552, 1), (553, 1), (554, 2), (555, 4), (556, 1), (557, 1), (558, 3), (559, 1), (560, 3), (561, 1), (562, 1), (563, 5), (564, 4), (565, 1), (566, 1), (567, 1), (568, 1), (569, 4), (570, 1), (571, 1), (572, 2), (573, 4), (574, 2), (575, 1), (576, 2), (577, 1), (578, 1), (579, 2), (580, 1), (581, 1), (582, 2), (583, 1), (584, 1), (585, 1), (586, 1), (587, 2), (588, 4), (589, 1), (590, 2), (591, 1), (592, 3), (593, 1), (594, 1), (595, 1), (596, 2), (597, 1), (598, 1), (599, 1), (600, 2), (601, 2), (602, 1), (603, 1), (604, 1), (605, 1), (606, 1), (607, 1), (608, 1), (609, 1), (610, 1), (611, 1), (612, 1), (613, 2), (614, 2), (615, 1), (616, 1), (617, 2), (618, 1), (619, 1), (620, 1), (621, 1), (622, 2), (623, 1), (624, 1), (625, 1), (626, 2), (627, 1), (628, 15), (629, 1), (630, 5), (631, 1), (632, 3), (633, 2), (634, 2), (635, 1), (636, 2), (637, 1), (638, 2), (639, 1), (640, 1), (641, 3), (642, 1), (643, 1), (644, 2), (645, 1), (646, 5), (647, 2), (648, 1)]\n"
          ]
        }
      ],
      "source": [
        "class WikiCorpus(object):\n",
        "    def __init__(self, dump_file, dictionary, clip_docs=None):\n",
        "        \"\"\"\n",
        "        Parse the first `clip_docs` Wikipedia documents from file `dump_file`.\n",
        "        Yield each document in turn, as a list of tokens (unicode strings).\n",
        "\n",
        "        \"\"\"\n",
        "        self.dump_file = dump_file\n",
        "        self.dictionary = dictionary\n",
        "        self.clip_docs = clip_docs\n",
        "\n",
        "    def __iter__(self):\n",
        "        self.titles = []\n",
        "        for title, tokens in itertools.islice(iter_wiki(self.dump_file), self.clip_docs):\n",
        "            self.titles.append(title)\n",
        "            yield self.dictionary.doc2bow(tokens)\n",
        "\n",
        "    def __len__(self):\n",
        "        return self.clip_docs\n",
        "\n",
        "# create a stream of bag-of-words vectors\n",
        "wiki_corpus = WikiCorpus(wiki_file, id2word_wiki)\n",
        "vector = next(iter(wiki_corpus))\n",
        "print(vector)  # print the first vector in the stream"
      ]
    },
    {
      "cell_type": "code",
      "execution_count": null,
      "metadata": {
        "colab": {
          "base_uri": "https://localhost:8080/"
        },
        "id": "AHDqnZ5_wo6D",
        "outputId": "2298dd64-7713-4e38-c676-0bda6283b4f2"
      },
      "outputs": [
        {
          "output_type": "execute_result",
          "data": {
            "text/plain": [
              "628"
            ]
          },
          "metadata": {},
          "execution_count": 18
        }
      ],
      "source": [
        "len(vector)\n",
        "max([pair[1] for pair in vector])\n",
        "\n",
        "index = [pair[1] for pair in vector].index(15)\n",
        "index"
      ]
    },
    {
      "cell_type": "code",
      "execution_count": null,
      "metadata": {
        "colab": {
          "base_uri": "https://localhost:8080/"
        },
        "id": "w_m3SKAr_EXv",
        "outputId": "7d9bb13b-5811-433d-8aa8-d7a8270c76fd"
      },
      "outputs": [
        {
          "output_type": "stream",
          "name": "stdout",
          "text": [
            "week 15\n"
          ]
        }
      ],
      "source": [
        "# what is the most common word in that first article?\n",
        "\n",
        "(most_index, most_count) = max(vector, key=lambda pair: pair[1])\n",
        "print(id2word_wiki[most_index], most_count)"
      ]
    },
    {
      "cell_type": "code",
      "execution_count": null,
      "metadata": {
        "colab": {
          "base_uri": "https://localhost:8080/"
        },
        "id": "N3QnS-rh_JqG",
        "outputId": "61475a2f-fa4e-4598-80cb-4d92674c642a"
      },
      "outputs": [
        {
          "output_type": "stream",
          "name": "stderr",
          "text": [
            "INFO:gensim.corpora.mmcorpus:storing corpus in Matrix Market format to ./data/wiki_bow.mm\n",
            "INFO:gensim.matutils:saving sparse matrix to ./data/wiki_bow.mm\n",
            "INFO:gensim.matutils:PROGRESS: saving document #0\n",
            "INFO:gensim.matutils:PROGRESS: saving document #1000\n",
            "INFO:gensim.matutils:PROGRESS: saving document #2000\n",
            "INFO:gensim.matutils:PROGRESS: saving document #3000\n",
            "INFO:gensim.matutils:PROGRESS: saving document #4000\n",
            "INFO:gensim.matutils:PROGRESS: saving document #5000\n",
            "INFO:gensim.matutils:PROGRESS: saving document #6000\n",
            "INFO:gensim.matutils:PROGRESS: saving document #7000\n",
            "INFO:gensim.matutils:PROGRESS: saving document #8000\n",
            "INFO:gensim.matutils:PROGRESS: saving document #9000\n",
            "INFO:gensim.matutils:PROGRESS: saving document #10000\n",
            "INFO:gensim.matutils:PROGRESS: saving document #11000\n",
            "INFO:gensim.matutils:PROGRESS: saving document #12000\n",
            "INFO:gensim.matutils:PROGRESS: saving document #13000\n",
            "INFO:gensim.matutils:PROGRESS: saving document #14000\n",
            "INFO:gensim.matutils:PROGRESS: saving document #15000\n",
            "INFO:gensim.matutils:PROGRESS: saving document #16000\n",
            "INFO:gensim.matutils:PROGRESS: saving document #17000\n",
            "INFO:gensim.matutils:PROGRESS: saving document #18000\n",
            "INFO:gensim.matutils:PROGRESS: saving document #19000\n",
            "INFO:gensim.matutils:PROGRESS: saving document #20000\n",
            "INFO:gensim.matutils:PROGRESS: saving document #21000\n",
            "INFO:gensim.matutils:PROGRESS: saving document #22000\n",
            "INFO:gensim.matutils:PROGRESS: saving document #23000\n",
            "INFO:gensim.matutils:PROGRESS: saving document #24000\n",
            "INFO:gensim.matutils:PROGRESS: saving document #25000\n",
            "INFO:gensim.matutils:PROGRESS: saving document #26000\n",
            "INFO:gensim.matutils:PROGRESS: saving document #27000\n",
            "INFO:gensim.matutils:PROGRESS: saving document #28000\n",
            "INFO:gensim.matutils:PROGRESS: saving document #29000\n",
            "INFO:gensim.matutils:PROGRESS: saving document #30000\n",
            "INFO:gensim.matutils:PROGRESS: saving document #31000\n",
            "INFO:gensim.matutils:PROGRESS: saving document #32000\n",
            "INFO:gensim.matutils:PROGRESS: saving document #33000\n",
            "INFO:gensim.matutils:PROGRESS: saving document #34000\n",
            "INFO:gensim.matutils:PROGRESS: saving document #35000\n",
            "INFO:gensim.matutils:PROGRESS: saving document #36000\n",
            "INFO:gensim.matutils:PROGRESS: saving document #37000\n",
            "INFO:gensim.matutils:PROGRESS: saving document #38000\n",
            "INFO:gensim.matutils:PROGRESS: saving document #39000\n",
            "INFO:gensim.matutils:PROGRESS: saving document #40000\n",
            "INFO:gensim.matutils:PROGRESS: saving document #41000\n",
            "INFO:gensim.matutils:PROGRESS: saving document #42000\n",
            "INFO:gensim.matutils:PROGRESS: saving document #43000\n",
            "INFO:gensim.matutils:PROGRESS: saving document #44000\n",
            "INFO:gensim.matutils:PROGRESS: saving document #45000\n",
            "INFO:gensim.matutils:PROGRESS: saving document #46000\n",
            "INFO:gensim.matutils:PROGRESS: saving document #47000\n",
            "INFO:gensim.matutils:PROGRESS: saving document #48000\n",
            "INFO:gensim.matutils:PROGRESS: saving document #49000\n",
            "INFO:gensim.matutils:PROGRESS: saving document #50000\n",
            "INFO:gensim.matutils:PROGRESS: saving document #51000\n",
            "INFO:gensim.matutils:PROGRESS: saving document #52000\n",
            "INFO:gensim.matutils:PROGRESS: saving document #53000\n",
            "INFO:gensim.matutils:PROGRESS: saving document #54000\n",
            "INFO:gensim.matutils:PROGRESS: saving document #55000\n",
            "INFO:gensim.matutils:PROGRESS: saving document #56000\n",
            "INFO:gensim.matutils:PROGRESS: saving document #57000\n",
            "INFO:gensim.matutils:PROGRESS: saving document #58000\n",
            "INFO:gensim.matutils:PROGRESS: saving document #59000\n",
            "INFO:gensim.matutils:PROGRESS: saving document #60000\n",
            "INFO:gensim.matutils:PROGRESS: saving document #61000\n",
            "INFO:gensim.matutils:PROGRESS: saving document #62000\n",
            "INFO:gensim.matutils:PROGRESS: saving document #63000\n",
            "INFO:gensim.matutils:PROGRESS: saving document #64000\n",
            "INFO:gensim.matutils:PROGRESS: saving document #65000\n",
            "INFO:gensim.matutils:PROGRESS: saving document #66000\n",
            "INFO:gensim.matutils:PROGRESS: saving document #67000\n",
            "INFO:gensim.matutils:PROGRESS: saving document #68000\n",
            "INFO:gensim.matutils:PROGRESS: saving document #69000\n",
            "INFO:gensim.matutils:PROGRESS: saving document #70000\n",
            "INFO:gensim.matutils:PROGRESS: saving document #71000\n",
            "INFO:gensim.matutils:PROGRESS: saving document #72000\n",
            "INFO:gensim.matutils:PROGRESS: saving document #73000\n",
            "INFO:gensim.matutils:PROGRESS: saving document #74000\n",
            "INFO:gensim.matutils:PROGRESS: saving document #75000\n",
            "INFO:gensim.matutils:PROGRESS: saving document #76000\n",
            "INFO:gensim.matutils:PROGRESS: saving document #77000\n",
            "INFO:gensim.matutils:PROGRESS: saving document #78000\n",
            "INFO:gensim.matutils:PROGRESS: saving document #79000\n",
            "INFO:gensim.matutils:PROGRESS: saving document #80000\n",
            "INFO:gensim.matutils:PROGRESS: saving document #81000\n",
            "INFO:gensim.matutils:PROGRESS: saving document #82000\n",
            "INFO:gensim.matutils:PROGRESS: saving document #83000\n",
            "INFO:gensim.matutils:PROGRESS: saving document #84000\n",
            "INFO:gensim.matutils:PROGRESS: saving document #85000\n",
            "INFO:gensim.matutils:PROGRESS: saving document #86000\n",
            "INFO:gensim.matutils:PROGRESS: saving document #87000\n",
            "INFO:gensim.matutils:PROGRESS: saving document #88000\n",
            "INFO:gensim.matutils:PROGRESS: saving document #89000\n",
            "INFO:gensim.matutils:PROGRESS: saving document #90000\n",
            "INFO:gensim.matutils:PROGRESS: saving document #91000\n",
            "INFO:gensim.matutils:saved 91800x40144 matrix, density=0.238% (8783660/3685219200)\n",
            "INFO:gensim.corpora.indexedcorpus:saving MmCorpus index to ./data/wiki_bow.mm.index\n"
          ]
        },
        {
          "output_type": "stream",
          "name": "stdout",
          "text": [
            "CPU times: user 11min 59s, sys: 3.6 s, total: 12min 3s\n",
            "Wall time: 12min 9s\n"
          ]
        }
      ],
      "source": [
        "%time gensim.corpora.MmCorpus.serialize('./data/wiki_bow.mm', wiki_corpus)"
      ]
    },
    {
      "cell_type": "code",
      "execution_count": null,
      "metadata": {
        "colab": {
          "base_uri": "https://localhost:8080/"
        },
        "id": "_ClKm84f_P9q",
        "outputId": "581614bb-6241-465e-fd6a-b3d9d401a2c7"
      },
      "outputs": [
        {
          "output_type": "stream",
          "name": "stderr",
          "text": [
            "INFO:gensim.corpora.indexedcorpus:loaded corpus index from ./data/wiki_bow.mm.index\n",
            "INFO:gensim.corpora._mmreader:initializing cython corpus reader from ./data/wiki_bow.mm\n",
            "INFO:gensim.corpora._mmreader:accepted corpus with 91800 documents, 40144 features, 8783660 non-zero entries\n"
          ]
        },
        {
          "output_type": "stream",
          "name": "stdout",
          "text": [
            "MmCorpus(91800 documents, 40144 features, 8783660 non-zero entries)\n"
          ]
        }
      ],
      "source": [
        "mm_corpus = gensim.corpora.MmCorpus('./data/wiki_bow.mm')\n",
        "print(mm_corpus)"
      ]
    },
    {
      "cell_type": "code",
      "execution_count": null,
      "metadata": {
        "colab": {
          "base_uri": "https://localhost:8080/"
        },
        "id": "R-idcBNh_Xq7",
        "outputId": "9ecad26c-7b82-4d1d-a523-2edc5b3e3ea2"
      },
      "outputs": [
        {
          "output_type": "stream",
          "name": "stdout",
          "text": [
            "[(0, 1.0), (1, 2.0), (2, 1.0), (3, 1.0), (4, 2.0), (5, 1.0), (6, 2.0), (7, 1.0), (8, 1.0), (9, 2.0), (10, 2.0), (11, 3.0), (12, 1.0), (13, 1.0), (14, 1.0), (15, 1.0), (16, 2.0), (17, 1.0), (18, 5.0), (19, 1.0), (20, 1.0), (21, 1.0), (22, 1.0), (23, 1.0), (24, 1.0), (25, 1.0), (26, 2.0), (27, 4.0), (28, 1.0), (29, 1.0), (30, 1.0), (31, 2.0), (32, 1.0), (33, 1.0), (34, 1.0), (35, 3.0), (36, 3.0), (37, 1.0), (38, 1.0), (39, 2.0), (40, 1.0), (41, 1.0), (42, 1.0), (43, 1.0), (44, 1.0), (45, 1.0), (46, 1.0), (47, 2.0), (48, 1.0), (49, 1.0), (50, 5.0), (51, 1.0), (52, 1.0), (53, 1.0), (54, 1.0), (55, 1.0), (56, 1.0), (57, 1.0), (58, 1.0), (59, 1.0), (60, 10.0), (61, 2.0), (62, 1.0), (63, 1.0), (64, 1.0), (65, 1.0), (66, 1.0), (67, 2.0), (68, 1.0), (69, 1.0), (70, 2.0), (71, 2.0), (72, 1.0), (73, 2.0), (74, 1.0), (75, 1.0), (76, 1.0), (77, 1.0), (78, 1.0), (79, 1.0), (80, 1.0), (81, 1.0), (82, 1.0), (83, 1.0), (84, 2.0), (85, 1.0), (86, 2.0), (87, 1.0), (88, 2.0), (89, 1.0), (90, 2.0), (91, 1.0), (92, 2.0), (93, 1.0), (94, 1.0), (95, 1.0), (96, 1.0), (97, 2.0), (98, 1.0), (99, 2.0), (100, 2.0), (101, 2.0), (102, 4.0), (103, 2.0), (104, 1.0), (105, 1.0), (106, 2.0), (107, 1.0), (108, 1.0), (109, 2.0), (110, 1.0), (111, 1.0), (112, 1.0), (113, 6.0), (114, 2.0), (115, 2.0), (116, 3.0), (117, 2.0), (118, 1.0), (119, 2.0), (120, 1.0), (121, 2.0), (122, 4.0), (123, 1.0), (124, 1.0), (125, 8.0), (126, 1.0), (127, 2.0), (128, 1.0), (129, 1.0), (130, 1.0), (131, 1.0), (132, 1.0), (133, 1.0), (134, 1.0), (135, 3.0), (136, 1.0), (137, 2.0), (138, 1.0), (139, 1.0), (140, 1.0), (141, 2.0), (142, 2.0), (143, 2.0), (144, 1.0), (145, 2.0), (146, 1.0), (147, 1.0), (148, 4.0), (149, 1.0), (150, 3.0), (151, 5.0), (152, 1.0), (153, 1.0), (154, 1.0), (155, 1.0), (156, 1.0), (157, 1.0), (158, 1.0), (159, 3.0), (160, 1.0), (161, 1.0), (162, 1.0), (163, 3.0), (164, 1.0), (165, 1.0), (166, 5.0), (167, 1.0), (168, 2.0), (169, 1.0), (170, 1.0), (171, 1.0), (172, 1.0), (173, 2.0), (174, 1.0), (175, 3.0), (176, 4.0), (177, 12.0), (178, 1.0), (179, 1.0), (180, 1.0), (181, 1.0), (182, 1.0), (183, 1.0), (184, 2.0), (185, 1.0), (186, 2.0), (187, 4.0), (188, 4.0), (189, 1.0), (190, 1.0), (191, 2.0), (192, 1.0), (193, 1.0), (194, 1.0), (195, 3.0), (196, 7.0), (197, 6.0), (198, 2.0), (199, 1.0), (200, 1.0), (201, 1.0), (202, 1.0), (203, 1.0), (204, 1.0), (205, 1.0), (206, 1.0), (207, 2.0), (208, 1.0), (209, 6.0), (210, 1.0), (211, 1.0), (212, 1.0), (213, 1.0), (214, 2.0), (215, 3.0), (216, 1.0), (217, 2.0), (218, 1.0), (219, 5.0), (220, 1.0), (221, 1.0), (222, 2.0), (223, 5.0), (224, 1.0), (225, 5.0), (226, 2.0), (227, 1.0), (228, 6.0), (229, 1.0), (230, 1.0), (231, 1.0), (232, 1.0), (233, 4.0), (234, 1.0), (235, 2.0), (236, 4.0), (237, 3.0), (238, 1.0), (239, 1.0), (240, 1.0), (241, 1.0), (242, 2.0), (243, 1.0), (244, 1.0), (245, 1.0), (246, 1.0), (247, 2.0), (248, 3.0), (249, 1.0), (250, 1.0), (251, 3.0), (252, 3.0), (253, 2.0), (254, 1.0), (255, 1.0), (256, 1.0), (257, 1.0), (258, 1.0), (259, 2.0), (260, 1.0), (261, 1.0), (262, 2.0), (263, 1.0), (264, 1.0), (265, 1.0), (266, 1.0), (267, 1.0), (268, 2.0), (269, 1.0), (270, 1.0), (271, 1.0), (272, 1.0), (273, 1.0), (274, 1.0), (275, 2.0), (276, 5.0), (277, 1.0), (278, 3.0), (279, 1.0), (280, 1.0), (281, 1.0), (282, 1.0), (283, 2.0), (284, 2.0), (285, 1.0), (286, 1.0), (287, 1.0), (288, 1.0), (289, 1.0), (290, 1.0), (291, 2.0), (292, 1.0), (293, 2.0), (294, 1.0), (295, 1.0), (296, 1.0), (297, 1.0), (298, 1.0), (299, 6.0), (300, 1.0), (301, 1.0), (302, 1.0), (303, 6.0), (304, 1.0), (305, 1.0), (306, 1.0), (307, 8.0), (308, 3.0), (309, 1.0), (310, 2.0), (311, 1.0), (312, 5.0), (313, 1.0), (314, 1.0), (315, 1.0), (316, 2.0), (317, 1.0), (318, 2.0), (319, 3.0), (320, 3.0), (321, 1.0), (322, 1.0), (323, 1.0), (324, 1.0), (325, 2.0), (326, 2.0), (327, 1.0), (328, 1.0), (329, 1.0), (330, 1.0), (331, 1.0), (332, 1.0), (333, 3.0), (334, 1.0), (335, 1.0), (336, 1.0), (337, 3.0), (338, 4.0), (339, 1.0), (340, 11.0), (341, 5.0), (342, 1.0), (343, 2.0), (344, 4.0), (345, 2.0), (346, 5.0), (347, 1.0), (348, 1.0), (349, 1.0), (350, 1.0), (351, 1.0), (352, 1.0), (353, 1.0), (354, 1.0), (355, 8.0), (356, 1.0), (357, 1.0), (358, 1.0), (359, 3.0), (360, 1.0), (361, 1.0), (362, 1.0), (363, 2.0), (364, 1.0), (365, 2.0), (366, 1.0), (367, 1.0), (368, 1.0), (369, 1.0), (370, 1.0), (371, 1.0), (372, 1.0), (373, 1.0), (374, 1.0), (375, 1.0), (376, 2.0), (377, 2.0), (378, 1.0), (379, 2.0), (380, 1.0), (381, 1.0), (382, 2.0), (383, 1.0), (384, 2.0), (385, 2.0), (386, 1.0), (387, 1.0), (388, 1.0), (389, 2.0), (390, 1.0), (391, 3.0), (392, 1.0), (393, 1.0), (394, 2.0), (395, 1.0), (396, 1.0), (397, 2.0), (398, 1.0), (399, 9.0), (400, 5.0), (401, 1.0), (402, 1.0), (403, 1.0), (404, 1.0), (405, 1.0), (406, 1.0), (407, 1.0), (408, 1.0), (409, 1.0), (410, 1.0), (411, 2.0), (412, 1.0), (413, 1.0), (414, 2.0), (415, 1.0), (416, 14.0), (417, 1.0), (418, 1.0), (419, 3.0), (420, 6.0), (421, 1.0), (422, 1.0), (423, 2.0), (424, 1.0), (425, 2.0), (426, 2.0), (427, 1.0), (428, 2.0), (429, 1.0), (430, 1.0), (431, 1.0), (432, 1.0), (433, 1.0), (434, 2.0), (435, 1.0), (436, 1.0), (437, 2.0), (438, 2.0), (439, 1.0), (440, 1.0), (441, 1.0), (442, 1.0), (443, 1.0), (444, 1.0), (445, 1.0), (446, 1.0), (447, 1.0), (448, 2.0), (449, 1.0), (450, 1.0), (451, 1.0), (452, 1.0), (453, 1.0), (454, 1.0), (455, 1.0), (456, 1.0), (457, 1.0), (458, 1.0), (459, 1.0), (460, 1.0), (461, 1.0), (462, 1.0), (463, 1.0), (464, 1.0), (465, 2.0), (466, 1.0), (467, 3.0), (468, 2.0), (469, 2.0), (470, 6.0), (471, 6.0), (472, 1.0), (473, 1.0), (474, 1.0), (475, 1.0), (476, 1.0), (477, 1.0), (478, 1.0), (479, 1.0), (480, 1.0), (481, 8.0), (482, 1.0), (483, 1.0), (484, 1.0), (485, 1.0), (486, 1.0), (487, 1.0), (488, 1.0), (489, 1.0), (490, 1.0), (491, 1.0), (492, 1.0), (493, 1.0), (494, 1.0), (495, 1.0), (496, 1.0), (497, 1.0), (498, 1.0), (499, 1.0), (500, 4.0), (501, 2.0), (502, 1.0), (503, 1.0), (504, 1.0), (505, 2.0), (506, 3.0), (507, 1.0), (508, 1.0), (509, 1.0), (510, 1.0), (511, 1.0), (512, 1.0), (513, 1.0), (514, 2.0), (515, 1.0), (516, 1.0), (517, 1.0), (518, 1.0), (519, 3.0), (520, 1.0), (521, 4.0), (522, 1.0), (523, 3.0), (524, 1.0), (525, 1.0), (526, 1.0), (527, 1.0), (528, 1.0), (529, 2.0), (530, 1.0), (531, 1.0), (532, 1.0), (533, 2.0), (534, 1.0), (535, 1.0), (536, 1.0), (537, 1.0), (538, 2.0), (539, 1.0), (540, 1.0), (541, 1.0), (542, 3.0), (543, 1.0), (544, 1.0), (545, 1.0), (546, 1.0), (547, 1.0), (548, 1.0), (549, 1.0), (550, 1.0), (551, 3.0), (552, 1.0), (553, 1.0), (554, 2.0), (555, 4.0), (556, 1.0), (557, 1.0), (558, 3.0), (559, 1.0), (560, 3.0), (561, 1.0), (562, 1.0), (563, 5.0), (564, 4.0), (565, 1.0), (566, 1.0), (567, 1.0), (568, 1.0), (569, 4.0), (570, 1.0), (571, 1.0), (572, 2.0), (573, 4.0), (574, 2.0), (575, 1.0), (576, 2.0), (577, 1.0), (578, 1.0), (579, 2.0), (580, 1.0), (581, 1.0), (582, 2.0), (583, 1.0), (584, 1.0), (585, 1.0), (586, 1.0), (587, 2.0), (588, 4.0), (589, 1.0), (590, 2.0), (591, 1.0), (592, 3.0), (593, 1.0), (594, 1.0), (595, 1.0), (596, 2.0), (597, 1.0), (598, 1.0), (599, 1.0), (600, 2.0), (601, 2.0), (602, 1.0), (603, 1.0), (604, 1.0), (605, 1.0), (606, 1.0), (607, 1.0), (608, 1.0), (609, 1.0), (610, 1.0), (611, 1.0), (612, 1.0), (613, 2.0), (614, 2.0), (615, 1.0), (616, 1.0), (617, 2.0), (618, 1.0), (619, 1.0), (620, 1.0), (621, 1.0), (622, 2.0), (623, 1.0), (624, 1.0), (625, 1.0), (626, 2.0), (627, 1.0), (628, 15.0), (629, 1.0), (630, 5.0), (631, 1.0), (632, 3.0), (633, 2.0), (634, 2.0), (635, 1.0), (636, 2.0), (637, 1.0), (638, 2.0), (639, 1.0), (640, 1.0), (641, 3.0), (642, 1.0), (643, 1.0), (644, 2.0), (645, 1.0), (646, 5.0), (647, 2.0), (648, 1.0)]\n"
          ]
        }
      ],
      "source": [
        "print(next(iter(mm_corpus)))"
      ]
    },
    {
      "cell_type": "markdown",
      "source": [
        "## Semantic transformations\n",
        "Topic modeling in gensim is realized via transformations. A transformation is something that takes a corpus and spits out another corpus on output, using `corpus_out = transformation_object[corpus_in]` syntax. What exactly happens in between is determined by what kind of transformation we're using -- options are Latent Semantic Indexing (LSI), Latent Dirichlet Allocation (LDA), Random Projections (RP) etc.\n",
        "\n",
        "Some transformations need to be initialized (=trained) before they can be used. For example, let's train an LDA transformation model, using our bag-of-words WikiCorpus as training data:"
      ],
      "metadata": {
        "id": "_ZKF5qXZB-Bl"
      }
    },
    {
      "cell_type": "code",
      "execution_count": null,
      "metadata": {
        "colab": {
          "base_uri": "https://localhost:8080/"
        },
        "id": "njkzuglrTGqn",
        "outputId": "f6233081-4637-43a8-ebb2-362c730064c0"
      },
      "outputs": [
        {
          "output_type": "stream",
          "name": "stderr",
          "text": [
            "INFO:gensim.models.ldamodel:using symmetric alpha at 0.1\n",
            "INFO:gensim.models.ldamodel:using symmetric eta at 0.1\n",
            "INFO:gensim.models.ldamodel:using serial LDA version on this node\n",
            "INFO:gensim.models.ldamodel:running online (multi-pass) LDA training, 10 topics, 4 passes over the supplied corpus of 4000 documents, updating model once every 2000 documents, evaluating perplexity every 4000 documents, iterating 50x with a convergence threshold of 0.001000\n",
            "WARNING:gensim.models.ldamodel:too few updates, training might not converge; consider increasing the number of passes or iterations to improve accuracy\n",
            "INFO:gensim.models.ldamodel:PROGRESS: pass 0, at document #2000/4000\n",
            "INFO:gensim.models.ldamodel:merging changes from 2000 documents into a model of 4000 documents\n",
            "INFO:gensim.models.ldamodel:topic #4 (0.100): 0.003*\"country\" + 0.003*\"countries\" + 0.002*\"example\" + 0.002*\"language\" + 0.002*\"german\" + 0.002*\"usually\" + 0.002*\"mario\" + 0.002*\"person\" + 0.002*\"things\" + 0.002*\"president\"\n",
            "INFO:gensim.models.ldamodel:topic #5 (0.100): 0.003*\"number\" + 0.002*\"example\" + 0.002*\"usually\" + 0.002*\"country\" + 0.002*\"government\" + 0.002*\"word\" + 0.002*\"countries\" + 0.002*\"player\" + 0.002*\"water\" + 0.002*\"president\"\n",
            "INFO:gensim.models.ldamodel:topic #9 (0.100): 0.003*\"president\" + 0.002*\"british\" + 0.002*\"french\" + 0.002*\"usually\" + 0.002*\"king\" + 0.002*\"party\" + 0.002*\"republic\" + 0.002*\"government\" + 0.002*\"china\" + 0.002*\"soviet\"\n",
            "INFO:gensim.models.ldamodel:topic #3 (0.100): 0.004*\"league\" + 0.004*\"president\" + 0.004*\"great\" + 0.003*\"premier\" + 0.003*\"actor\" + 0.002*\"actress\" + 0.002*\"countries\" + 0.002*\"number\" + 0.002*\"british\" + 0.002*\"cousin\"\n",
            "INFO:gensim.models.ldamodel:topic #6 (0.100): 0.003*\"word\" + 0.003*\"actress\" + 0.002*\"countries\" + 0.002*\"president\" + 0.002*\"example\" + 0.002*\"century\" + 0.002*\"government\" + 0.002*\"usually\" + 0.002*\"tower\" + 0.002*\"way\"\n",
            "INFO:gensim.models.ldamodel:topic diff=4.462281, rho=1.000000\n",
            "INFO:gensim.models.ldamodel:-9.665 per-word bound, 812.0 perplexity estimate based on a held-out corpus of 2000 documents with 873767 words\n",
            "INFO:gensim.models.ldamodel:PROGRESS: pass 0, at document #4000/4000\n",
            "INFO:gensim.models.ldamodel:merging changes from 2000 documents into a model of 4000 documents\n",
            "INFO:gensim.models.ldamodel:topic #6 (0.100): 0.003*\"word\" + 0.002*\"example\" + 0.002*\"money\" + 0.002*\"usually\" + 0.002*\"means\" + 0.002*\"countries\" + 0.002*\"film\" + 0.002*\"county\" + 0.002*\"award\" + 0.002*\"person\"\n",
            "INFO:gensim.models.ldamodel:topic #0 (0.100): 0.003*\"president\" + 0.003*\"park\" + 0.003*\"movie\" + 0.003*\"actor\" + 0.002*\"disney\" + 0.002*\"jpg\" + 0.002*\"singer\" + 0.002*\"cells\" + 0.002*\"number\" + 0.002*\"king\"\n",
            "INFO:gensim.models.ldamodel:topic #8 (0.100): 0.004*\"blood\" + 0.003*\"things\" + 0.003*\"body\" + 0.003*\"person\" + 0.002*\"earth\" + 0.002*\"makes\" + 0.002*\"water\" + 0.002*\"example\" + 0.002*\"country\" + 0.002*\"pope\"\n",
            "INFO:gensim.models.ldamodel:topic #9 (0.100): 0.003*\"french\" + 0.003*\"british\" + 0.003*\"player\" + 0.003*\"german\" + 0.003*\"president\" + 0.003*\"actress\" + 0.002*\"king\" + 0.002*\"politician\" + 0.002*\"actor\" + 0.002*\"footballer\"\n",
            "INFO:gensim.models.ldamodel:topic #1 (0.100): 0.004*\"rural\" + 0.003*\"bc\" + 0.003*\"game\" + 0.003*\"windows\" + 0.003*\"released\" + 0.003*\"france\" + 0.003*\"century\" + 0.002*\"games\" + 0.002*\"germany\" + 0.002*\"band\"\n",
            "INFO:gensim.models.ldamodel:topic diff=1.175740, rho=0.707107\n",
            "INFO:gensim.models.ldamodel:PROGRESS: pass 1, at document #2000/4000\n",
            "INFO:gensim.models.ldamodel:merging changes from 2000 documents into a model of 4000 documents\n",
            "INFO:gensim.models.ldamodel:topic #9 (0.100): 0.004*\"country\" + 0.004*\"union\" + 0.004*\"china\" + 0.004*\"party\" + 0.004*\"soviet\" + 0.003*\"government\" + 0.003*\"republic\" + 0.003*\"king\" + 0.003*\"countries\" + 0.003*\"river\"\n",
            "INFO:gensim.models.ldamodel:topic #2 (0.100): 0.008*\"water\" + 0.003*\"plants\" + 0.003*\"usually\" + 0.002*\"mount\" + 0.002*\"plant\" + 0.002*\"green\" + 0.002*\"food\" + 0.002*\"actress\" + 0.002*\"tree\" + 0.002*\"animals\"\n",
            "INFO:gensim.models.ldamodel:topic #7 (0.100): 0.010*\"politician\" + 0.008*\"german\" + 0.008*\"french\" + 0.008*\"singer\" + 0.007*\"actor\" + 0.007*\"british\" + 0.007*\"footballer\" + 0.006*\"actress\" + 0.006*\"writer\" + 0.006*\"player\"\n",
            "INFO:gensim.models.ldamodel:topic #0 (0.100): 0.004*\"park\" + 0.004*\"movie\" + 0.003*\"president\" + 0.003*\"cells\" + 0.002*\"movies\" + 0.002*\"jpg\" + 0.002*\"number\" + 0.002*\"copper\" + 0.002*\"zinc\" + 0.002*\"television\"\n",
            "INFO:gensim.models.ldamodel:topic #6 (0.100): 0.006*\"tower\" + 0.006*\"mast\" + 0.005*\"transmission\" + 0.005*\"uhf\" + 0.004*\"example\" + 0.004*\"word\" + 0.003*\"number\" + 0.003*\"usually\" + 0.003*\"light\" + 0.003*\"words\"\n",
            "INFO:gensim.models.ldamodel:topic diff=0.799183, rho=0.500000\n",
            "INFO:gensim.models.ldamodel:-8.961 per-word bound, 498.3 perplexity estimate based on a held-out corpus of 2000 documents with 873767 words\n",
            "INFO:gensim.models.ldamodel:PROGRESS: pass 1, at document #4000/4000\n",
            "INFO:gensim.models.ldamodel:merging changes from 2000 documents into a model of 4000 documents\n",
            "INFO:gensim.models.ldamodel:topic #3 (0.100): 0.015*\"actor\" + 0.011*\"actress\" + 0.010*\"president\" + 0.009*\"singer\" + 0.007*\"player\" + 0.007*\"footballer\" + 0.007*\"politician\" + 0.006*\"german\" + 0.006*\"writer\" + 0.006*\"italian\"\n",
            "INFO:gensim.models.ldamodel:topic #2 (0.100): 0.008*\"water\" + 0.004*\"plants\" + 0.003*\"usually\" + 0.003*\"color\" + 0.003*\"food\" + 0.003*\"animals\" + 0.002*\"plant\" + 0.002*\"species\" + 0.002*\"green\" + 0.002*\"fruit\"\n",
            "INFO:gensim.models.ldamodel:topic #7 (0.100): 0.013*\"politician\" + 0.010*\"german\" + 0.010*\"actor\" + 0.009*\"french\" + 0.009*\"singer\" + 0.009*\"footballer\" + 0.008*\"british\" + 0.008*\"player\" + 0.008*\"actress\" + 0.008*\"writer\"\n",
            "INFO:gensim.models.ldamodel:topic #8 (0.100): 0.005*\"body\" + 0.004*\"person\" + 0.004*\"blood\" + 0.004*\"things\" + 0.004*\"earth\" + 0.004*\"energy\" + 0.003*\"water\" + 0.003*\"god\" + 0.003*\"light\" + 0.003*\"example\"\n",
            "INFO:gensim.models.ldamodel:topic #5 (0.100): 0.004*\"women\" + 0.004*\"number\" + 0.003*\"country\" + 0.003*\"countries\" + 0.003*\"government\" + 0.003*\"player\" + 0.003*\"woman\" + 0.003*\"usually\" + 0.002*\"rights\" + 0.002*\"america\"\n",
            "INFO:gensim.models.ldamodel:topic diff=0.692805, rho=0.500000\n",
            "INFO:gensim.models.ldamodel:PROGRESS: pass 2, at document #2000/4000\n",
            "INFO:gensim.models.ldamodel:merging changes from 2000 documents into a model of 4000 documents\n",
            "INFO:gensim.models.ldamodel:topic #3 (0.100): 0.013*\"actor\" + 0.011*\"actress\" + 0.011*\"president\" + 0.008*\"singer\" + 0.006*\"player\" + 0.006*\"politician\" + 0.006*\"footballer\" + 0.005*\"german\" + 0.005*\"writer\" + 0.005*\"british\"\n",
            "INFO:gensim.models.ldamodel:topic #6 (0.100): 0.007*\"tower\" + 0.007*\"mast\" + 0.006*\"transmission\" + 0.006*\"uhf\" + 0.005*\"number\" + 0.005*\"example\" + 0.004*\"word\" + 0.004*\"usually\" + 0.003*\"numbers\" + 0.003*\"light\"\n",
            "INFO:gensim.models.ldamodel:topic #5 (0.100): 0.004*\"countries\" + 0.004*\"number\" + 0.004*\"government\" + 0.004*\"country\" + 0.003*\"women\" + 0.003*\"usually\" + 0.003*\"america\" + 0.002*\"example\" + 0.002*\"player\" + 0.002*\"numbers\"\n",
            "INFO:gensim.models.ldamodel:topic #9 (0.100): 0.006*\"country\" + 0.005*\"government\" + 0.004*\"union\" + 0.004*\"countries\" + 0.004*\"party\" + 0.004*\"china\" + 0.004*\"king\" + 0.004*\"soviet\" + 0.004*\"republic\" + 0.003*\"river\"\n",
            "INFO:gensim.models.ldamodel:topic #1 (0.100): 0.005*\"music\" + 0.004*\"windows\" + 0.004*\"century\" + 0.004*\"bc\" + 0.004*\"capital\" + 0.004*\"france\" + 0.003*\"games\" + 0.003*\"mario\" + 0.003*\"lake\" + 0.003*\"jpg\"\n",
            "INFO:gensim.models.ldamodel:topic diff=0.605842, rho=0.447214\n",
            "INFO:gensim.models.ldamodel:-8.815 per-word bound, 450.2 perplexity estimate based on a held-out corpus of 2000 documents with 873767 words\n",
            "INFO:gensim.models.ldamodel:PROGRESS: pass 2, at document #4000/4000\n",
            "INFO:gensim.models.ldamodel:merging changes from 2000 documents into a model of 4000 documents\n",
            "INFO:gensim.models.ldamodel:topic #5 (0.100): 0.005*\"women\" + 0.004*\"countries\" + 0.003*\"government\" + 0.003*\"country\" + 0.003*\"number\" + 0.003*\"player\" + 0.003*\"woman\" + 0.003*\"rights\" + 0.003*\"said\" + 0.003*\"abortion\"\n",
            "INFO:gensim.models.ldamodel:topic #4 (0.100): 0.007*\"language\" + 0.005*\"person\" + 0.004*\"word\" + 0.004*\"usually\" + 0.003*\"example\" + 0.003*\"languages\" + 0.003*\"words\" + 0.003*\"species\" + 0.003*\"things\" + 0.003*\"god\"\n",
            "INFO:gensim.models.ldamodel:topic #6 (0.100): 0.006*\"tower\" + 0.005*\"example\" + 0.005*\"number\" + 0.005*\"mast\" + 0.005*\"transmission\" + 0.004*\"uhf\" + 0.004*\"usually\" + 0.003*\"word\" + 0.003*\"kansas\" + 0.003*\"numbers\"\n",
            "INFO:gensim.models.ldamodel:topic #7 (0.100): 0.013*\"politician\" + 0.011*\"actor\" + 0.011*\"german\" + 0.010*\"singer\" + 0.010*\"footballer\" + 0.010*\"french\" + 0.009*\"actress\" + 0.009*\"player\" + 0.009*\"british\" + 0.009*\"writer\"\n",
            "INFO:gensim.models.ldamodel:topic #8 (0.100): 0.005*\"body\" + 0.005*\"person\" + 0.005*\"earth\" + 0.004*\"energy\" + 0.004*\"blood\" + 0.004*\"things\" + 0.003*\"light\" + 0.003*\"god\" + 0.003*\"water\" + 0.003*\"example\"\n",
            "INFO:gensim.models.ldamodel:topic diff=0.498362, rho=0.447214\n",
            "INFO:gensim.models.ldamodel:PROGRESS: pass 3, at document #2000/4000\n",
            "INFO:gensim.models.ldamodel:merging changes from 2000 documents into a model of 4000 documents\n",
            "INFO:gensim.models.ldamodel:topic #9 (0.100): 0.007*\"country\" + 0.006*\"government\" + 0.005*\"countries\" + 0.005*\"union\" + 0.004*\"party\" + 0.004*\"king\" + 0.004*\"china\" + 0.004*\"republic\" + 0.003*\"soviet\" + 0.003*\"president\"\n",
            "INFO:gensim.models.ldamodel:topic #6 (0.100): 0.008*\"tower\" + 0.007*\"mast\" + 0.007*\"transmission\" + 0.006*\"number\" + 0.006*\"uhf\" + 0.006*\"example\" + 0.004*\"numbers\" + 0.004*\"usually\" + 0.003*\"word\" + 0.003*\"light\"\n",
            "INFO:gensim.models.ldamodel:topic #3 (0.100): 0.013*\"actor\" + 0.012*\"president\" + 0.011*\"actress\" + 0.008*\"singer\" + 0.006*\"league\" + 0.005*\"player\" + 0.005*\"writer\" + 0.005*\"british\" + 0.005*\"politician\" + 0.005*\"prime\"\n",
            "INFO:gensim.models.ldamodel:topic #7 (0.100): 0.013*\"politician\" + 0.011*\"actor\" + 0.011*\"german\" + 0.010*\"singer\" + 0.010*\"footballer\" + 0.010*\"french\" + 0.009*\"actress\" + 0.009*\"british\" + 0.009*\"player\" + 0.008*\"writer\"\n",
            "INFO:gensim.models.ldamodel:topic #5 (0.100): 0.004*\"countries\" + 0.004*\"government\" + 0.004*\"women\" + 0.003*\"country\" + 0.003*\"number\" + 0.003*\"player\" + 0.003*\"police\" + 0.003*\"usually\" + 0.003*\"rights\" + 0.003*\"said\"\n",
            "INFO:gensim.models.ldamodel:topic diff=0.439069, rho=0.408248\n",
            "INFO:gensim.models.ldamodel:-8.742 per-word bound, 428.2 perplexity estimate based on a held-out corpus of 2000 documents with 873767 words\n",
            "INFO:gensim.models.ldamodel:PROGRESS: pass 3, at document #4000/4000\n",
            "INFO:gensim.models.ldamodel:merging changes from 2000 documents into a model of 4000 documents\n",
            "INFO:gensim.models.ldamodel:topic #2 (0.100): 0.010*\"water\" + 0.010*\"rgb\" + 0.010*\"hex\" + 0.006*\"color\" + 0.005*\"food\" + 0.005*\"plants\" + 0.004*\"sea\" + 0.004*\"animals\" + 0.004*\"red\" + 0.003*\"green\"\n",
            "INFO:gensim.models.ldamodel:topic #7 (0.100): 0.014*\"politician\" + 0.012*\"actor\" + 0.011*\"german\" + 0.011*\"singer\" + 0.011*\"footballer\" + 0.010*\"french\" + 0.010*\"actress\" + 0.010*\"player\" + 0.009*\"british\" + 0.009*\"writer\"\n",
            "INFO:gensim.models.ldamodel:topic #3 (0.100): 0.014*\"actor\" + 0.014*\"president\" + 0.011*\"actress\" + 0.008*\"singer\" + 0.005*\"player\" + 0.005*\"league\" + 0.005*\"writer\" + 0.005*\"prime\" + 0.005*\"british\" + 0.004*\"politician\"\n",
            "INFO:gensim.models.ldamodel:topic #5 (0.100): 0.005*\"women\" + 0.004*\"countries\" + 0.004*\"player\" + 0.003*\"woman\" + 0.003*\"rights\" + 0.003*\"government\" + 0.003*\"country\" + 0.003*\"said\" + 0.003*\"person\" + 0.003*\"abortion\"\n",
            "INFO:gensim.models.ldamodel:topic #6 (0.100): 0.006*\"tower\" + 0.006*\"number\" + 0.006*\"example\" + 0.005*\"mast\" + 0.005*\"transmission\" + 0.004*\"uhf\" + 0.004*\"numbers\" + 0.004*\"usually\" + 0.004*\"kansas\" + 0.003*\"things\"\n",
            "INFO:gensim.models.ldamodel:topic diff=0.355459, rho=0.408248\n",
            "INFO:gensim.utils:LdaModel lifecycle event {'msg': 'trained LdaModel<num_terms=40144, num_topics=10, decay=0.5, chunksize=2000> in 46.16s', 'datetime': '2024-04-10T04:09:54.096916', 'gensim': '4.3.2', 'python': '3.10.12 (main, Nov 20 2023, 15:14:05) [GCC 11.4.0]', 'platform': 'Linux-6.1.58+-x86_64-with-glibc2.35', 'event': 'created'}\n"
          ]
        },
        {
          "output_type": "stream",
          "name": "stdout",
          "text": [
            "CPU times: user 46.2 s, sys: 23.1 s, total: 1min 9s\n",
            "Wall time: 46.2 s\n"
          ]
        }
      ],
      "source": [
        "from gensim.utils import SaveLoad\n",
        "class ClippedCorpus(SaveLoad):\n",
        "    def __init__(self, corpus, max_docs=None):\n",
        "        \"\"\"\n",
        "        Return a corpus that is the \"head\" of input iterable `corpus`.\n",
        "\n",
        "        Any documents after `max_docs` are ignored. This effectively limits the\n",
        "        length of the returned corpus to <= `max_docs`. Set `max_docs=None` for\n",
        "        \"no limit\", effectively wrapping the entire input corpus.\n",
        "\n",
        "        \"\"\"\n",
        "        self.corpus = corpus\n",
        "        self.max_docs = max_docs\n",
        "\n",
        "    def __iter__(self):\n",
        "        return itertools.islice(self.corpus, self.max_docs)\n",
        "\n",
        "    def __len__(self):\n",
        "        return min(self.max_docs, len(self.corpus))\n",
        "\n",
        "clipped_corpus = gensim.utils.ClippedCorpus(mm_corpus, 4000)  # use fewer documents during training, LDA is slow\n",
        "# ClippedCorpus new in gensim 0.10.1\n",
        "# copy&paste it from https://github.com/piskvorky/gensim/blob/0.10.1/gensim/utils.py#L467 if necessary (or upgrade your gensim)\n",
        "%time lda_model = gensim.models.LdaModel(clipped_corpus, num_topics=10, id2word=id2word_wiki, passes=4)"
      ]
    },
    {
      "cell_type": "code",
      "execution_count": null,
      "metadata": {
        "colab": {
          "base_uri": "https://localhost:8080/"
        },
        "id": "xjfbz__dTRTN",
        "outputId": "6e663f93-61a4-4f95-f79b-b2f088777f9e"
      },
      "outputs": [
        {
          "output_type": "stream",
          "name": "stderr",
          "text": [
            "INFO:gensim.models.ldamodel:topic #0 (0.100): 0.008*\"album\" + 0.007*\"music\" + 0.007*\"band\" + 0.007*\"movie\" + 0.005*\"released\" + 0.005*\"award\" + 0.004*\"series\" + 0.004*\"song\" + 0.004*\"film\" + 0.004*\"movies\"\n",
            "INFO:gensim.models.ldamodel:topic #1 (0.100): 0.005*\"jpg\" + 0.005*\"windows\" + 0.005*\"capital\" + 0.004*\"century\" + 0.004*\"music\" + 0.004*\"game\" + 0.004*\"games\" + 0.004*\"bc\" + 0.004*\"rural\" + 0.003*\"file\"\n",
            "INFO:gensim.models.ldamodel:topic #2 (0.100): 0.010*\"water\" + 0.010*\"rgb\" + 0.010*\"hex\" + 0.006*\"color\" + 0.005*\"food\" + 0.005*\"plants\" + 0.004*\"sea\" + 0.004*\"animals\" + 0.004*\"red\" + 0.003*\"green\"\n",
            "INFO:gensim.models.ldamodel:topic #3 (0.100): 0.014*\"actor\" + 0.014*\"president\" + 0.011*\"actress\" + 0.008*\"singer\" + 0.005*\"player\" + 0.005*\"league\" + 0.005*\"writer\" + 0.005*\"prime\" + 0.005*\"british\" + 0.004*\"politician\"\n",
            "INFO:gensim.models.ldamodel:topic #4 (0.100): 0.007*\"language\" + 0.005*\"person\" + 0.004*\"word\" + 0.004*\"words\" + 0.004*\"languages\" + 0.004*\"usually\" + 0.004*\"example\" + 0.003*\"god\" + 0.003*\"things\" + 0.003*\"species\"\n",
            "INFO:gensim.models.ldamodel:topic #5 (0.100): 0.005*\"women\" + 0.004*\"countries\" + 0.004*\"player\" + 0.003*\"woman\" + 0.003*\"rights\" + 0.003*\"government\" + 0.003*\"country\" + 0.003*\"said\" + 0.003*\"person\" + 0.003*\"abortion\"\n",
            "INFO:gensim.models.ldamodel:topic #6 (0.100): 0.006*\"tower\" + 0.006*\"number\" + 0.006*\"example\" + 0.005*\"mast\" + 0.005*\"transmission\" + 0.004*\"uhf\" + 0.004*\"numbers\" + 0.004*\"usually\" + 0.004*\"kansas\" + 0.003*\"things\"\n",
            "INFO:gensim.models.ldamodel:topic #7 (0.100): 0.014*\"politician\" + 0.012*\"actor\" + 0.011*\"german\" + 0.011*\"singer\" + 0.011*\"footballer\" + 0.010*\"french\" + 0.010*\"actress\" + 0.010*\"player\" + 0.009*\"british\" + 0.009*\"writer\"\n",
            "INFO:gensim.models.ldamodel:topic #8 (0.100): 0.006*\"body\" + 0.005*\"earth\" + 0.005*\"person\" + 0.005*\"energy\" + 0.005*\"blood\" + 0.004*\"things\" + 0.004*\"light\" + 0.003*\"god\" + 0.003*\"example\" + 0.003*\"water\"\n",
            "INFO:gensim.models.ldamodel:topic #9 (0.100): 0.007*\"country\" + 0.006*\"government\" + 0.005*\"countries\" + 0.004*\"union\" + 0.004*\"king\" + 0.004*\"party\" + 0.003*\"republic\" + 0.003*\"president\" + 0.003*\"china\" + 0.003*\"east\"\n"
          ]
        }
      ],
      "source": [
        "_ = lda_model.print_topics(-1)  # print a few most important words for each LDA topic"
      ]
    },
    {
      "cell_type": "code",
      "execution_count": null,
      "metadata": {
        "colab": {
          "base_uri": "https://localhost:8080/"
        },
        "id": "12WC9u78lvou",
        "outputId": "6c6ec660-ead6-47f2-e30a-088eee657f43"
      },
      "outputs": [
        {
          "output_type": "stream",
          "name": "stdout",
          "text": [
            "LDA Topic Models computed at 2024-04-10 04:09:54.155878\n"
          ]
        }
      ],
      "source": [
        "now = datetime.now()\n",
        "\n",
        "print(\"LDA Topic Models computed at\", now)"
      ]
    },
    {
      "cell_type": "markdown",
      "source": [
        "More info on model parameters in [gensim docs](https://radimrehurek.com/gensim/models/lsimodel.html).\n",
        "\n",
        "Transformation can be stacked. For example, here we'll train a TFIDF model, and then train Latent Semantic Analysis on top of TFIDF:"
      ],
      "metadata": {
        "id": "Womr_J7-Ci1K"
      }
    },
    {
      "cell_type": "code",
      "execution_count": null,
      "metadata": {
        "colab": {
          "base_uri": "https://localhost:8080/"
        },
        "id": "aB2lxricTWzp",
        "outputId": "785d7bc4-a966-4be2-8797-dde5bda60db1"
      },
      "outputs": [
        {
          "output_type": "stream",
          "name": "stderr",
          "text": [
            "INFO:gensim.models.tfidfmodel:collecting document frequencies\n",
            "INFO:gensim.models.tfidfmodel:PROGRESS: processing document #0\n",
            "INFO:gensim.models.tfidfmodel:PROGRESS: processing document #10000\n",
            "INFO:gensim.models.tfidfmodel:PROGRESS: processing document #20000\n",
            "INFO:gensim.models.tfidfmodel:PROGRESS: processing document #30000\n",
            "INFO:gensim.models.tfidfmodel:PROGRESS: processing document #40000\n",
            "INFO:gensim.models.tfidfmodel:PROGRESS: processing document #50000\n",
            "INFO:gensim.models.tfidfmodel:PROGRESS: processing document #60000\n",
            "INFO:gensim.models.tfidfmodel:PROGRESS: processing document #70000\n",
            "INFO:gensim.models.tfidfmodel:PROGRESS: processing document #80000\n",
            "INFO:gensim.models.tfidfmodel:PROGRESS: processing document #90000\n",
            "INFO:gensim.utils:TfidfModel lifecycle event {'msg': 'calculated IDF weights for 91800 documents and 40144 features (8783660 matrix non-zeros)', 'datetime': '2024-04-10T04:10:03.493705', 'gensim': '4.3.2', 'python': '3.10.12 (main, Nov 20 2023, 15:14:05) [GCC 11.4.0]', 'platform': 'Linux-6.1.58+-x86_64-with-glibc2.35', 'event': 'initialize'}\n"
          ]
        },
        {
          "output_type": "stream",
          "name": "stdout",
          "text": [
            "CPU times: user 9.06 s, sys: 214 ms, total: 9.28 s\n",
            "Wall time: 9.32 s\n"
          ]
        }
      ],
      "source": [
        "%time tfidf_model = gensim.models.TfidfModel(mm_corpus, id2word=id2word_wiki)"
      ]
    },
    {
      "cell_type": "code",
      "execution_count": null,
      "metadata": {
        "colab": {
          "base_uri": "https://localhost:8080/"
        },
        "id": "6oYHwT0PTesl",
        "outputId": "7f485a1c-7811-4add-aba5-817321c70f9e"
      },
      "outputs": [
        {
          "output_type": "stream",
          "name": "stderr",
          "text": [
            "INFO:gensim.models.lsimodel:using serial LSI version on this node\n",
            "INFO:gensim.models.lsimodel:updating model with new documents\n",
            "INFO:gensim.models.lsimodel:preparing a new chunk of documents\n",
            "INFO:gensim.models.lsimodel:using 100 extra samples and 2 power iterations\n",
            "INFO:gensim.models.lsimodel:1st phase: constructing (40144, 300) action matrix\n",
            "INFO:gensim.models.lsimodel:orthonormalizing (40144, 300) action matrix\n",
            "INFO:gensim.models.lsimodel:2nd phase: running dense svd on (300, 20000) matrix\n",
            "INFO:gensim.models.lsimodel:computing the final decomposition\n",
            "INFO:gensim.models.lsimodel:keeping 200 factors (discarding 15.013% of energy spectrum)\n",
            "INFO:gensim.models.lsimodel:processed documents up to #20000\n",
            "INFO:gensim.models.lsimodel:topic #0(15.817): 0.225*\"footballer\" + 0.225*\"actor\" + 0.218*\"politician\" + 0.206*\"actress\" + 0.188*\"german\" + 0.185*\"singer\" + 0.165*\"french\" + 0.160*\"writer\" + 0.144*\"player\" + 0.139*\"british\"\n",
            "INFO:gensim.models.lsimodel:topic #1(10.686): 0.183*\"footballer\" + 0.170*\"politician\" + 0.160*\"actor\" + 0.151*\"actress\" + -0.148*\"music\" + 0.118*\"singer\" + 0.105*\"writer\" + 0.083*\"player\" + -0.083*\"jpg\" + -0.082*\"band\"\n",
            "INFO:gensim.models.lsimodel:topic #2(8.313): 0.304*\"music\" + -0.239*\"district\" + 0.228*\"band\" + -0.206*\"coat\" + 0.203*\"album\" + -0.198*\"arms\" + -0.146*\"municipalities\" + -0.138*\"county\" + -0.118*\"river\" + -0.117*\"towns\"\n",
            "INFO:gensim.models.lsimodel:topic #3(7.695): -0.340*\"district\" + -0.316*\"coat\" + -0.302*\"arms\" + 0.231*\"king\" + -0.212*\"municipalities\" + -0.154*\"towns\" + -0.139*\"band\" + -0.132*\"county\" + 0.130*\"emperor\" + -0.124*\"districts\"\n",
            "INFO:gensim.models.lsimodel:topic #4(7.479): 0.271*\"music\" + 0.255*\"king\" + 0.158*\"band\" + 0.135*\"album\" + 0.132*\"england\" + 0.128*\"emperor\" + 0.119*\"coat\" + 0.116*\"arms\" + 0.109*\"district\" + -0.109*\"water\"\n",
            "INFO:gensim.models.lsimodel:preparing a new chunk of documents\n",
            "INFO:gensim.models.lsimodel:using 100 extra samples and 2 power iterations\n",
            "INFO:gensim.models.lsimodel:1st phase: constructing (40144, 300) action matrix\n",
            "INFO:gensim.models.lsimodel:orthonormalizing (40144, 300) action matrix\n",
            "INFO:gensim.models.lsimodel:2nd phase: running dense svd on (300, 20000) matrix\n",
            "INFO:gensim.models.lsimodel:computing the final decomposition\n",
            "INFO:gensim.models.lsimodel:keeping 200 factors (discarding 13.651% of energy spectrum)\n",
            "INFO:gensim.models.lsimodel:merging projections: (40144, 200) + (40144, 200)\n",
            "INFO:gensim.models.lsimodel:keeping 200 factors (discarding 13.372% of energy spectrum)\n",
            "INFO:gensim.models.lsimodel:processed documents up to #40000\n",
            "INFO:gensim.models.lsimodel:topic #0(18.800): 0.212*\"league\" + 0.148*\"japan\" + 0.134*\"player\" + 0.132*\"actor\" + 0.125*\"footballer\" + 0.122*\"german\" + 0.120*\"actress\" + 0.119*\"politician\" + 0.118*\"played\" + 0.116*\"team\"\n",
            "INFO:gensim.models.lsimodel:topic #1(15.407): -0.515*\"league\" + -0.257*\"japan\" + -0.249*\"club\" + -0.212*\"cup\" + -0.197*\"played\" + -0.195*\"team\" + -0.164*\"football\" + -0.120*\"division\" + -0.105*\"goals\" + -0.104*\"statistics\"\n",
            "INFO:gensim.models.lsimodel:topic #2(13.071): 0.223*\"footballer\" + 0.213*\"politician\" + 0.206*\"actor\" + 0.189*\"actress\" + -0.173*\"album\" + 0.142*\"german\" + -0.141*\"band\" + 0.140*\"writer\" + 0.137*\"singer\" + -0.132*\"music\"\n",
            "INFO:gensim.models.lsimodel:topic #3(11.789): -0.362*\"album\" + -0.289*\"band\" + -0.203*\"music\" + -0.182*\"song\" + -0.160*\"released\" + -0.146*\"albums\" + -0.146*\"guitar\" + -0.124*\"chart\" + -0.120*\"songs\" + 0.118*\"county\"\n",
            "INFO:gensim.models.lsimodel:topic #4(10.382): -0.368*\"nhl\" + 0.325*\"japan\" + -0.276*\"hurricane\" + -0.220*\"hockey\" + -0.210*\"tropical\" + -0.203*\"storm\" + 0.150*\"emperor\" + -0.149*\"season\" + 0.125*\"province\" + -0.111*\"montreal\"\n",
            "INFO:gensim.models.lsimodel:preparing a new chunk of documents\n",
            "INFO:gensim.models.lsimodel:using 100 extra samples and 2 power iterations\n",
            "INFO:gensim.models.lsimodel:1st phase: constructing (40144, 300) action matrix\n",
            "INFO:gensim.models.lsimodel:orthonormalizing (40144, 300) action matrix\n",
            "INFO:gensim.models.lsimodel:2nd phase: running dense svd on (300, 20000) matrix\n",
            "INFO:gensim.models.lsimodel:computing the final decomposition\n",
            "INFO:gensim.models.lsimodel:keeping 200 factors (discarding 14.782% of energy spectrum)\n",
            "INFO:gensim.models.lsimodel:merging projections: (40144, 200) + (40144, 200)\n",
            "INFO:gensim.models.lsimodel:keeping 200 factors (discarding 11.763% of energy spectrum)\n",
            "INFO:gensim.models.lsimodel:processed documents up to #60000\n",
            "INFO:gensim.models.lsimodel:topic #0(21.839): 0.158*\"league\" + 0.123*\"japan\" + 0.120*\"actor\" + 0.116*\"played\" + 0.112*\"player\" + 0.109*\"team\" + 0.105*\"album\" + 0.104*\"actress\" + 0.100*\"movie\" + 0.098*\"singer\"\n",
            "INFO:gensim.models.lsimodel:topic #1(17.038): -0.473*\"league\" + -0.259*\"japan\" + -0.231*\"team\" + -0.229*\"club\" + -0.223*\"played\" + -0.221*\"cup\" + -0.178*\"football\" + -0.114*\"goals\" + -0.113*\"games\" + -0.112*\"nhl\"\n",
            "INFO:gensim.models.lsimodel:topic #2(15.008): -0.421*\"album\" + -0.281*\"band\" + -0.212*\"released\" + -0.206*\"song\" + -0.184*\"albums\" + -0.183*\"chart\" + -0.171*\"music\" + -0.148*\"guitar\" + -0.137*\"vocals\" + 0.120*\"politician\"\n",
            "INFO:gensim.models.lsimodel:topic #3(14.132): -0.225*\"actor\" + 0.215*\"river\" + -0.201*\"actress\" + -0.180*\"politician\" + -0.176*\"footballer\" + -0.167*\"singer\" + 0.149*\"jpg\" + 0.141*\"county\" + -0.126*\"writer\" + -0.115*\"player\"\n",
            "INFO:gensim.models.lsimodel:topic #4(12.717): -0.351*\"wrestling\" + -0.331*\"championship\" + -0.300*\"wwe\" + -0.289*\"match\" + -0.226*\"defeated\" + -0.190*\"tag\" + 0.172*\"japan\" + 0.157*\"league\" + 0.129*\"album\" + -0.129*\"heavyweight\"\n",
            "INFO:gensim.models.lsimodel:preparing a new chunk of documents\n",
            "INFO:gensim.models.lsimodel:using 100 extra samples and 2 power iterations\n",
            "INFO:gensim.models.lsimodel:1st phase: constructing (40144, 300) action matrix\n",
            "INFO:gensim.models.lsimodel:orthonormalizing (40144, 300) action matrix\n",
            "INFO:gensim.models.lsimodel:2nd phase: running dense svd on (300, 20000) matrix\n",
            "INFO:gensim.models.lsimodel:computing the final decomposition\n",
            "INFO:gensim.models.lsimodel:keeping 200 factors (discarding 14.366% of energy spectrum)\n",
            "INFO:gensim.models.lsimodel:merging projections: (40144, 200) + (40144, 200)\n",
            "INFO:gensim.models.lsimodel:keeping 200 factors (discarding 11.060% of energy spectrum)\n",
            "INFO:gensim.models.lsimodel:processed documents up to #80000\n",
            "INFO:gensim.models.lsimodel:topic #0(24.430): 0.133*\"league\" + 0.114*\"actor\" + 0.111*\"movie\" + 0.103*\"player\" + 0.103*\"played\" + 0.099*\"politician\" + 0.099*\"album\" + 0.097*\"team\" + 0.097*\"actress\" + 0.094*\"japan\"\n",
            "INFO:gensim.models.lsimodel:topic #1(18.299): -0.475*\"league\" + -0.242*\"cup\" + -0.237*\"team\" + -0.233*\"club\" + -0.226*\"played\" + -0.220*\"japan\" + -0.195*\"football\" + -0.142*\"goals\" + -0.113*\"championship\" + -0.113*\"season\"\n",
            "INFO:gensim.models.lsimodel:topic #2(16.736): -0.362*\"album\" + 0.250*\"county\" + -0.212*\"song\" + -0.211*\"band\" + -0.200*\"released\" + 0.176*\"px\" + -0.168*\"chart\" + -0.165*\"music\" + -0.155*\"albums\" + 0.128*\"river\"\n",
            "INFO:gensim.models.lsimodel:topic #3(15.796): -0.329*\"county\" + 0.208*\"actor\" + 0.200*\"politician\" + -0.182*\"river\" + 0.178*\"actress\" + -0.177*\"album\" + 0.148*\"footballer\" + -0.125*\"jpg\" + -0.122*\"district\" + 0.121*\"minister\"\n",
            "INFO:gensim.models.lsimodel:topic #4(14.449): -0.518*\"county\" + -0.428*\"px\" + -0.159*\"album\" + -0.155*\"party\" + 0.142*\"jpg\" + 0.127*\"bar\" + 0.110*\"file\" + -0.106*\"election\" + -0.106*\"democratic\" + -0.095*\"republican\"\n",
            "INFO:gensim.models.lsimodel:preparing a new chunk of documents\n",
            "INFO:gensim.models.lsimodel:using 100 extra samples and 2 power iterations\n",
            "INFO:gensim.models.lsimodel:1st phase: constructing (40144, 300) action matrix\n",
            "INFO:gensim.models.lsimodel:orthonormalizing (40144, 300) action matrix\n",
            "INFO:gensim.models.lsimodel:2nd phase: running dense svd on (300, 11800) matrix\n",
            "INFO:gensim.models.lsimodel:computing the final decomposition\n",
            "INFO:gensim.models.lsimodel:keeping 200 factors (discarding 13.004% of energy spectrum)\n",
            "INFO:gensim.models.lsimodel:merging projections: (40144, 200) + (40144, 200)\n",
            "INFO:gensim.models.lsimodel:keeping 200 factors (discarding 8.393% of energy spectrum)\n",
            "INFO:gensim.models.lsimodel:processed documents up to #91800\n",
            "INFO:gensim.models.lsimodel:topic #0(26.039): 0.155*\"league\" + 0.125*\"team\" + 0.124*\"japan\" + 0.122*\"played\" + 0.107*\"movie\" + 0.107*\"player\" + 0.104*\"actor\" + 0.094*\"club\" + 0.094*\"politician\" + 0.094*\"cup\"\n",
            "INFO:gensim.models.lsimodel:topic #1(20.412): -0.419*\"league\" + -0.266*\"japan\" + -0.255*\"team\" + -0.239*\"cup\" + -0.230*\"club\" + -0.227*\"played\" + -0.184*\"football\" + -0.167*\"goals\" + -0.109*\"apps\" + -0.108*\"championship\"\n",
            "INFO:gensim.models.lsimodel:topic #2(17.647): -0.340*\"album\" + 0.251*\"px\" + -0.217*\"song\" + -0.199*\"released\" + 0.190*\"county\" + -0.189*\"band\" + -0.168*\"music\" + -0.161*\"chart\" + -0.142*\"albums\" + 0.134*\"party\"\n",
            "INFO:gensim.models.lsimodel:topic #3(16.407): -0.260*\"county\" + 0.201*\"politician\" + 0.198*\"actor\" + -0.184*\"river\" + -0.170*\"jpg\" + 0.168*\"actress\" + 0.133*\"footballer\" + -0.133*\"file\" + 0.129*\"minister\" + -0.127*\"album\"\n",
            "INFO:gensim.models.lsimodel:topic #4(15.586): -0.613*\"px\" + -0.253*\"album\" + -0.219*\"party\" + -0.146*\"democratic\" + -0.137*\"band\" + -0.137*\"song\" + -0.136*\"election\" + -0.130*\"chart\" + 0.125*\"movie\" + -0.124*\"republican\"\n",
            "INFO:gensim.utils:LsiModel lifecycle event {'msg': 'trained LsiModel<num_terms=40144, num_topics=200, decay=1.0, chunksize=20000> in 116.06s', 'datetime': '2024-04-10T04:11:59.574621', 'gensim': '4.3.2', 'python': '3.10.12 (main, Nov 20 2023, 15:14:05) [GCC 11.4.0]', 'platform': 'Linux-6.1.58+-x86_64-with-glibc2.35', 'event': 'created'}\n"
          ]
        },
        {
          "output_type": "stream",
          "name": "stdout",
          "text": [
            "CPU times: user 2min 6s, sys: 21.2 s, total: 2min 28s\n",
            "Wall time: 1min 56s\n"
          ]
        }
      ],
      "source": [
        "%time lsi_model = gensim.models.LsiModel(tfidf_model[mm_corpus], id2word=id2word_wiki, num_topics=200)"
      ]
    },
    {
      "cell_type": "markdown",
      "source": [
        "\n",
        "The LSI transformation goes from a space of high dimensionality (~TFIDF, tens of thousands) into a space of low dimensionality (a few hundreds; here 200). For this reason it can also seen as **dimensionality reduction**.\n",
        "\n",
        "As always, the transformations are applied \"lazily\", so the resulting output corpus is streamed as well:"
      ],
      "metadata": {
        "id": "d3qW0dJyC8dQ"
      }
    },
    {
      "cell_type": "code",
      "execution_count": null,
      "metadata": {
        "colab": {
          "base_uri": "https://localhost:8080/"
        },
        "id": "eI_d5YJfTqMt",
        "outputId": "9210e5c3-e7fb-4f4e-d4b5-ff19d20a74ae"
      },
      "outputs": [
        {
          "output_type": "stream",
          "name": "stdout",
          "text": [
            "[(0, 0.22382995199186093), (1, 0.07502013345985202), (2, 0.0728078974966595), (3, -0.0019364768357310511), (4, 0.046147896026444146), (5, 0.05001920887859849), (6, 0.07490221584802599), (7, 0.05789168706277461), (8, 0.019038390516643425), (9, 0.020226992341137662), (10, 0.06913626586730945), (11, 0.0069941468609778555), (12, 0.06325476807518049), (13, 0.0322296449418242), (14, -0.014625906253587468), (15, -0.011722849282167769), (16, 0.04592667345978194), (17, -0.0032141374884588395), (18, 0.048882046675151426), (19, 0.007431499117849479), (20, 0.05591532189555523), (21, 0.07554520359808363), (22, 0.004999627992401104), (23, 0.04419881442027389), (24, -0.04106893887649706), (25, -0.03646815062924315), (26, 0.03485125805595076), (27, 0.027070115723071286), (28, -0.031059253805146608), (29, -0.04614605231632702), (30, -0.008657474574264752), (31, -0.013994759495503752), (32, -0.03116342308172094), (33, 0.04496359470994195), (34, 0.003027478649069748), (35, 0.003869282802852891), (36, -0.01857313986935715), (37, -0.008288484208959368), (38, -0.002692356084266783), (39, 0.0091263012995476), (40, -0.03851917637980001), (41, 0.016149637991264367), (42, -0.023407799913365463), (43, 0.009809838808373172), (44, -0.010623198662993778), (45, 0.03495477026023194), (46, 0.033338768166574634), (47, 0.014185658456111598), (48, 0.02692237896332896), (49, -0.027117876908186428), (50, 0.05800386597698304), (51, 0.006903300958590539), (52, 0.02258927717301401), (53, -0.0005179855206807533), (54, -0.005958636659246344), (55, -0.018679633192055626), (56, 0.009546559317297554), (57, -0.00545902854517465), (58, 0.045751390620823104), (59, 0.03095124658615168), (60, 0.0023014116416297118), (61, 0.0016951118806691156), (62, 0.0052537235072982755), (63, 0.03109121525145597), (64, -0.012500795970481106), (65, 0.03850916267327248), (66, 0.0009905703314499715), (67, -0.015613329378333877), (68, -0.017564783892766778), (69, 0.002514548064738879), (70, 0.0012190930247795773), (71, -0.010220214650772434), (72, 0.003177417956361203), (73, 0.03778353560429419), (74, -0.01414506324889777), (75, -0.030277593007820694), (76, -0.013116557829092865), (77, -0.02575029837887507), (78, -0.027889434031064798), (79, -0.05136117859956084), (80, -0.03248755581162191), (81, 0.008925018111855284), (82, -0.010313433368014126), (83, -0.0121552837689387), (84, -0.021391645725197157), (85, -0.056225140152987865), (86, -0.009510315986402413), (87, 0.020228191766761026), (88, -0.005419564815163579), (89, 0.0352307373787489), (90, 0.014119865447518372), (91, -0.0037673328158576206), (92, 0.007428321708339292), (93, 0.013207863117987531), (94, -0.016816502979065628), (95, -0.07214823930777568), (96, -0.020681295605199934), (97, -0.02015178089538424), (98, -0.010532197659799144), (99, 0.0340008736926661), (100, 0.011051662899430499), (101, -0.032785589328495596), (102, 0.03180557656931997), (103, 0.014214238116084467), (104, 0.022393547195223254), (105, -0.019458170902484695), (106, -0.04281819310169794), (107, -0.010558812347044227), (108, -0.016450831989858507), (109, 0.02529020155762399), (110, -0.024275951986737918), (111, 0.0017630831965148002), (112, -0.011702294968425678), (113, 0.01847960751309721), (114, -0.007574054223213819), (115, -0.02173697026264957), (116, -0.05206208459449741), (117, -0.013891127581338848), (118, -0.06621541945396323), (119, -0.015509773017722269), (120, -0.009308344938589366), (121, 0.009951951049677702), (122, -0.03762360548855838), (123, -0.02871826757169875), (124, -0.03514670138582054), (125, -0.02302293680351409), (126, 0.00502827460106583), (127, -0.0047044841499668975), (128, -0.08232053517569415), (129, -0.020163304119782652), (130, -0.0022754526935046433), (131, -0.008914695642965053), (132, -0.004855261635539508), (133, -0.048966067670953496), (134, 0.016933844696458936), (135, -0.051139264531962214), (136, -0.03674819926056208), (137, -0.03230693421702667), (138, -0.0019064197988516807), (139, 0.016098341562741213), (140, -0.01932602939187573), (141, 0.019354264669464258), (142, 0.02531190954686575), (143, -0.04625987485889171), (144, 0.024463342134992686), (145, -0.0022759132303727943), (146, 0.014978942309158128), (147, 0.014134640648159117), (148, 0.03639692833732171), (149, -0.059793996172220636), (150, -0.01169787008372234), (151, -0.02662190776363239), (152, 0.048412040475101434), (153, 0.062269290153589923), (154, -0.004183321874248387), (155, -0.0089076747914004), (156, -0.0009697162639041198), (157, 0.00511893952917861), (158, 0.023131218782765278), (159, -0.040232235464187534), (160, 0.01575768475815191), (161, 0.01372926390836906), (162, -0.04060419712280314), (163, 0.015343890567454714), (164, 0.012538928658686081), (165, -0.008443143075988344), (166, 0.060635954212360926), (167, -0.04914578426032362), (168, -0.025949608911503875), (169, 0.04561151251234836), (170, -0.048451479221206704), (171, 0.007979390464830635), (172, -0.026880369858128163), (173, 0.11828313481207853), (174, -0.054331910690732045), (175, 0.0489790739232921), (176, 0.01498921454190998), (177, -0.004269753410102779), (178, -0.034039787020188214), (179, -0.011115971789136442), (180, 0.016764964297662013), (181, -0.027233936469155454), (182, 0.02017554515407569), (183, 0.010796116777342895), (184, 0.006291226080186058), (185, 0.03725590601507), (186, 0.011515772101399821), (187, 0.037836330361043766), (188, 0.02813325077611081), (189, 0.016337659859280644), (190, -0.028035856150037976), (191, -0.008902767395714536), (192, -0.008931204037095266), (193, -0.007544929851812445), (194, -0.031807958944176366), (195, -0.020003641181321502), (196, 0.01550063278900247), (197, 0.006258008218796845), (198, -0.008561140167182119), (199, -0.0020791050040469845)]\n"
          ]
        }
      ],
      "source": [
        "print(next(iter(lsi_model[tfidf_model[mm_corpus]])))"
      ]
    },
    {
      "cell_type": "code",
      "execution_count": null,
      "metadata": {
        "colab": {
          "base_uri": "https://localhost:8080/"
        },
        "id": "6WZO-RasTzhD",
        "outputId": "9ddbfb45-9f1b-40ef-efe9-8b78be98b598"
      },
      "outputs": [
        {
          "output_type": "stream",
          "name": "stderr",
          "text": [
            "INFO:gensim.corpora.mmcorpus:storing corpus in Matrix Market format to ./data/wiki_tfidf.mm\n",
            "INFO:gensim.matutils:saving sparse matrix to ./data/wiki_tfidf.mm\n",
            "INFO:gensim.matutils:PROGRESS: saving document #0\n",
            "INFO:gensim.matutils:PROGRESS: saving document #1000\n",
            "INFO:gensim.matutils:PROGRESS: saving document #2000\n",
            "INFO:gensim.matutils:PROGRESS: saving document #3000\n",
            "INFO:gensim.matutils:PROGRESS: saving document #4000\n",
            "INFO:gensim.matutils:PROGRESS: saving document #5000\n",
            "INFO:gensim.matutils:PROGRESS: saving document #6000\n",
            "INFO:gensim.matutils:PROGRESS: saving document #7000\n",
            "INFO:gensim.matutils:PROGRESS: saving document #8000\n",
            "INFO:gensim.matutils:PROGRESS: saving document #9000\n",
            "INFO:gensim.matutils:PROGRESS: saving document #10000\n",
            "INFO:gensim.matutils:PROGRESS: saving document #11000\n",
            "INFO:gensim.matutils:PROGRESS: saving document #12000\n",
            "INFO:gensim.matutils:PROGRESS: saving document #13000\n",
            "INFO:gensim.matutils:PROGRESS: saving document #14000\n",
            "INFO:gensim.matutils:PROGRESS: saving document #15000\n",
            "INFO:gensim.matutils:PROGRESS: saving document #16000\n",
            "INFO:gensim.matutils:PROGRESS: saving document #17000\n",
            "INFO:gensim.matutils:PROGRESS: saving document #18000\n",
            "INFO:gensim.matutils:PROGRESS: saving document #19000\n",
            "INFO:gensim.matutils:PROGRESS: saving document #20000\n",
            "INFO:gensim.matutils:PROGRESS: saving document #21000\n",
            "INFO:gensim.matutils:PROGRESS: saving document #22000\n",
            "INFO:gensim.matutils:PROGRESS: saving document #23000\n",
            "INFO:gensim.matutils:PROGRESS: saving document #24000\n",
            "INFO:gensim.matutils:PROGRESS: saving document #25000\n",
            "INFO:gensim.matutils:PROGRESS: saving document #26000\n",
            "INFO:gensim.matutils:PROGRESS: saving document #27000\n",
            "INFO:gensim.matutils:PROGRESS: saving document #28000\n",
            "INFO:gensim.matutils:PROGRESS: saving document #29000\n",
            "INFO:gensim.matutils:PROGRESS: saving document #30000\n",
            "INFO:gensim.matutils:PROGRESS: saving document #31000\n",
            "INFO:gensim.matutils:PROGRESS: saving document #32000\n",
            "INFO:gensim.matutils:PROGRESS: saving document #33000\n",
            "INFO:gensim.matutils:PROGRESS: saving document #34000\n",
            "INFO:gensim.matutils:PROGRESS: saving document #35000\n",
            "INFO:gensim.matutils:PROGRESS: saving document #36000\n",
            "INFO:gensim.matutils:PROGRESS: saving document #37000\n",
            "INFO:gensim.matutils:PROGRESS: saving document #38000\n",
            "INFO:gensim.matutils:PROGRESS: saving document #39000\n",
            "INFO:gensim.matutils:PROGRESS: saving document #40000\n",
            "INFO:gensim.matutils:PROGRESS: saving document #41000\n",
            "INFO:gensim.matutils:PROGRESS: saving document #42000\n",
            "INFO:gensim.matutils:PROGRESS: saving document #43000\n",
            "INFO:gensim.matutils:PROGRESS: saving document #44000\n",
            "INFO:gensim.matutils:PROGRESS: saving document #45000\n",
            "INFO:gensim.matutils:PROGRESS: saving document #46000\n",
            "INFO:gensim.matutils:PROGRESS: saving document #47000\n",
            "INFO:gensim.matutils:PROGRESS: saving document #48000\n",
            "INFO:gensim.matutils:PROGRESS: saving document #49000\n",
            "INFO:gensim.matutils:PROGRESS: saving document #50000\n",
            "INFO:gensim.matutils:PROGRESS: saving document #51000\n",
            "INFO:gensim.matutils:PROGRESS: saving document #52000\n",
            "INFO:gensim.matutils:PROGRESS: saving document #53000\n",
            "INFO:gensim.matutils:PROGRESS: saving document #54000\n",
            "INFO:gensim.matutils:PROGRESS: saving document #55000\n",
            "INFO:gensim.matutils:PROGRESS: saving document #56000\n",
            "INFO:gensim.matutils:PROGRESS: saving document #57000\n",
            "INFO:gensim.matutils:PROGRESS: saving document #58000\n",
            "INFO:gensim.matutils:PROGRESS: saving document #59000\n",
            "INFO:gensim.matutils:PROGRESS: saving document #60000\n",
            "INFO:gensim.matutils:PROGRESS: saving document #61000\n",
            "INFO:gensim.matutils:PROGRESS: saving document #62000\n",
            "INFO:gensim.matutils:PROGRESS: saving document #63000\n",
            "INFO:gensim.matutils:PROGRESS: saving document #64000\n",
            "INFO:gensim.matutils:PROGRESS: saving document #65000\n",
            "INFO:gensim.matutils:PROGRESS: saving document #66000\n",
            "INFO:gensim.matutils:PROGRESS: saving document #67000\n",
            "INFO:gensim.matutils:PROGRESS: saving document #68000\n",
            "INFO:gensim.matutils:PROGRESS: saving document #69000\n",
            "INFO:gensim.matutils:PROGRESS: saving document #70000\n",
            "INFO:gensim.matutils:PROGRESS: saving document #71000\n",
            "INFO:gensim.matutils:PROGRESS: saving document #72000\n",
            "INFO:gensim.matutils:PROGRESS: saving document #73000\n",
            "INFO:gensim.matutils:PROGRESS: saving document #74000\n",
            "INFO:gensim.matutils:PROGRESS: saving document #75000\n",
            "INFO:gensim.matutils:PROGRESS: saving document #76000\n",
            "INFO:gensim.matutils:PROGRESS: saving document #77000\n",
            "INFO:gensim.matutils:PROGRESS: saving document #78000\n",
            "INFO:gensim.matutils:PROGRESS: saving document #79000\n",
            "INFO:gensim.matutils:PROGRESS: saving document #80000\n",
            "INFO:gensim.matutils:PROGRESS: saving document #81000\n",
            "INFO:gensim.matutils:PROGRESS: saving document #82000\n",
            "INFO:gensim.matutils:PROGRESS: saving document #83000\n",
            "INFO:gensim.matutils:PROGRESS: saving document #84000\n",
            "INFO:gensim.matutils:PROGRESS: saving document #85000\n",
            "INFO:gensim.matutils:PROGRESS: saving document #86000\n",
            "INFO:gensim.matutils:PROGRESS: saving document #87000\n",
            "INFO:gensim.matutils:PROGRESS: saving document #88000\n",
            "INFO:gensim.matutils:PROGRESS: saving document #89000\n",
            "INFO:gensim.matutils:PROGRESS: saving document #90000\n",
            "INFO:gensim.matutils:PROGRESS: saving document #91000\n",
            "INFO:gensim.matutils:saved 91800x40144 matrix, density=0.238% (8783660/3685219200)\n",
            "INFO:gensim.corpora.indexedcorpus:saving MmCorpus index to ./data/wiki_tfidf.mm.index\n",
            "INFO:gensim.corpora.mmcorpus:storing corpus in Matrix Market format to ./data/wiki_lsa.mm\n",
            "INFO:gensim.matutils:saving sparse matrix to ./data/wiki_lsa.mm\n"
          ]
        },
        {
          "output_type": "stream",
          "name": "stdout",
          "text": [
            "CPU times: user 46.4 s, sys: 1.4 s, total: 47.8 s\n",
            "Wall time: 48.6 s\n"
          ]
        },
        {
          "output_type": "stream",
          "name": "stderr",
          "text": [
            "INFO:gensim.matutils:PROGRESS: saving document #0\n",
            "INFO:gensim.matutils:PROGRESS: saving document #1000\n",
            "INFO:gensim.matutils:PROGRESS: saving document #2000\n",
            "INFO:gensim.matutils:PROGRESS: saving document #3000\n",
            "INFO:gensim.matutils:PROGRESS: saving document #4000\n",
            "INFO:gensim.matutils:PROGRESS: saving document #5000\n",
            "INFO:gensim.matutils:PROGRESS: saving document #6000\n",
            "INFO:gensim.matutils:PROGRESS: saving document #7000\n",
            "INFO:gensim.matutils:PROGRESS: saving document #8000\n",
            "INFO:gensim.matutils:PROGRESS: saving document #9000\n",
            "INFO:gensim.matutils:PROGRESS: saving document #10000\n",
            "INFO:gensim.matutils:PROGRESS: saving document #11000\n",
            "INFO:gensim.matutils:PROGRESS: saving document #12000\n",
            "INFO:gensim.matutils:PROGRESS: saving document #13000\n",
            "INFO:gensim.matutils:PROGRESS: saving document #14000\n",
            "INFO:gensim.matutils:PROGRESS: saving document #15000\n",
            "INFO:gensim.matutils:PROGRESS: saving document #16000\n",
            "INFO:gensim.matutils:PROGRESS: saving document #17000\n",
            "INFO:gensim.matutils:PROGRESS: saving document #18000\n",
            "INFO:gensim.matutils:PROGRESS: saving document #19000\n",
            "INFO:gensim.matutils:PROGRESS: saving document #20000\n",
            "INFO:gensim.matutils:PROGRESS: saving document #21000\n",
            "INFO:gensim.matutils:PROGRESS: saving document #22000\n",
            "INFO:gensim.matutils:PROGRESS: saving document #23000\n",
            "INFO:gensim.matutils:PROGRESS: saving document #24000\n",
            "INFO:gensim.matutils:PROGRESS: saving document #25000\n",
            "INFO:gensim.matutils:PROGRESS: saving document #26000\n",
            "INFO:gensim.matutils:PROGRESS: saving document #27000\n",
            "INFO:gensim.matutils:PROGRESS: saving document #28000\n",
            "INFO:gensim.matutils:PROGRESS: saving document #29000\n",
            "INFO:gensim.matutils:PROGRESS: saving document #30000\n",
            "INFO:gensim.matutils:PROGRESS: saving document #31000\n",
            "INFO:gensim.matutils:PROGRESS: saving document #32000\n",
            "INFO:gensim.matutils:PROGRESS: saving document #33000\n",
            "INFO:gensim.matutils:PROGRESS: saving document #34000\n",
            "INFO:gensim.matutils:PROGRESS: saving document #35000\n",
            "INFO:gensim.matutils:PROGRESS: saving document #36000\n",
            "INFO:gensim.matutils:PROGRESS: saving document #37000\n",
            "INFO:gensim.matutils:PROGRESS: saving document #38000\n",
            "INFO:gensim.matutils:PROGRESS: saving document #39000\n",
            "INFO:gensim.matutils:PROGRESS: saving document #40000\n",
            "INFO:gensim.matutils:PROGRESS: saving document #41000\n",
            "INFO:gensim.matutils:PROGRESS: saving document #42000\n",
            "INFO:gensim.matutils:PROGRESS: saving document #43000\n",
            "INFO:gensim.matutils:PROGRESS: saving document #44000\n",
            "INFO:gensim.matutils:PROGRESS: saving document #45000\n",
            "INFO:gensim.matutils:PROGRESS: saving document #46000\n",
            "INFO:gensim.matutils:PROGRESS: saving document #47000\n",
            "INFO:gensim.matutils:PROGRESS: saving document #48000\n",
            "INFO:gensim.matutils:PROGRESS: saving document #49000\n",
            "INFO:gensim.matutils:PROGRESS: saving document #50000\n",
            "INFO:gensim.matutils:PROGRESS: saving document #51000\n",
            "INFO:gensim.matutils:PROGRESS: saving document #52000\n",
            "INFO:gensim.matutils:PROGRESS: saving document #53000\n",
            "INFO:gensim.matutils:PROGRESS: saving document #54000\n",
            "INFO:gensim.matutils:PROGRESS: saving document #55000\n",
            "INFO:gensim.matutils:PROGRESS: saving document #56000\n",
            "INFO:gensim.matutils:PROGRESS: saving document #57000\n",
            "INFO:gensim.matutils:PROGRESS: saving document #58000\n",
            "INFO:gensim.matutils:PROGRESS: saving document #59000\n",
            "INFO:gensim.matutils:PROGRESS: saving document #60000\n",
            "INFO:gensim.matutils:PROGRESS: saving document #61000\n",
            "INFO:gensim.matutils:PROGRESS: saving document #62000\n",
            "INFO:gensim.matutils:PROGRESS: saving document #63000\n",
            "INFO:gensim.matutils:PROGRESS: saving document #64000\n",
            "INFO:gensim.matutils:PROGRESS: saving document #65000\n",
            "INFO:gensim.matutils:PROGRESS: saving document #66000\n",
            "INFO:gensim.matutils:PROGRESS: saving document #67000\n",
            "INFO:gensim.matutils:PROGRESS: saving document #68000\n",
            "INFO:gensim.matutils:PROGRESS: saving document #69000\n",
            "INFO:gensim.matutils:PROGRESS: saving document #70000\n",
            "INFO:gensim.matutils:PROGRESS: saving document #71000\n",
            "INFO:gensim.matutils:PROGRESS: saving document #72000\n",
            "INFO:gensim.matutils:PROGRESS: saving document #73000\n",
            "INFO:gensim.matutils:PROGRESS: saving document #74000\n",
            "INFO:gensim.matutils:PROGRESS: saving document #75000\n",
            "INFO:gensim.matutils:PROGRESS: saving document #76000\n",
            "INFO:gensim.matutils:PROGRESS: saving document #77000\n",
            "INFO:gensim.matutils:PROGRESS: saving document #78000\n",
            "INFO:gensim.matutils:PROGRESS: saving document #79000\n",
            "INFO:gensim.matutils:PROGRESS: saving document #80000\n",
            "INFO:gensim.matutils:PROGRESS: saving document #81000\n",
            "INFO:gensim.matutils:PROGRESS: saving document #82000\n",
            "INFO:gensim.matutils:PROGRESS: saving document #83000\n",
            "INFO:gensim.matutils:PROGRESS: saving document #84000\n",
            "INFO:gensim.matutils:PROGRESS: saving document #85000\n",
            "INFO:gensim.matutils:PROGRESS: saving document #86000\n",
            "INFO:gensim.matutils:PROGRESS: saving document #87000\n",
            "INFO:gensim.matutils:PROGRESS: saving document #88000\n",
            "INFO:gensim.matutils:PROGRESS: saving document #89000\n",
            "INFO:gensim.matutils:PROGRESS: saving document #90000\n",
            "INFO:gensim.matutils:PROGRESS: saving document #91000\n",
            "INFO:gensim.matutils:saved 91800x200 matrix, density=100.000% (18359998/18360000)\n",
            "INFO:gensim.corpora.indexedcorpus:saving MmCorpus index to ./data/wiki_lsa.mm.index\n"
          ]
        },
        {
          "output_type": "stream",
          "name": "stdout",
          "text": [
            "CPU times: user 1min 29s, sys: 3.08 s, total: 1min 32s\n",
            "Wall time: 1min 34s\n"
          ]
        }
      ],
      "source": [
        "# cache the transformed corpora to disk, for use in later notebooks\n",
        "%time gensim.corpora.MmCorpus.serialize('./data/wiki_tfidf.mm', tfidf_model[mm_corpus])\n",
        "%time gensim.corpora.MmCorpus.serialize('./data/wiki_lsa.mm', lsi_model[tfidf_model[mm_corpus]])\n",
        "# gensim.corpora.MmCorpus.serialize('./data/wiki_lda.mm', lda_model[mm_corpus])"
      ]
    },
    {
      "cell_type": "code",
      "execution_count": null,
      "metadata": {
        "colab": {
          "base_uri": "https://localhost:8080/"
        },
        "id": "KBCOELOET8C6",
        "outputId": "ee43a5c6-935b-4d50-86e2-eb6fcbb925a0"
      },
      "outputs": [
        {
          "output_type": "stream",
          "name": "stderr",
          "text": [
            "INFO:gensim.corpora.indexedcorpus:loaded corpus index from ./data/wiki_tfidf.mm.index\n",
            "INFO:gensim.corpora._mmreader:initializing cython corpus reader from ./data/wiki_tfidf.mm\n",
            "INFO:gensim.corpora._mmreader:accepted corpus with 91800 documents, 40144 features, 8783660 non-zero entries\n",
            "INFO:gensim.corpora.indexedcorpus:loaded corpus index from ./data/wiki_lsa.mm.index\n",
            "INFO:gensim.corpora._mmreader:initializing cython corpus reader from ./data/wiki_lsa.mm\n",
            "INFO:gensim.corpora._mmreader:accepted corpus with 91800 documents, 200 features, 18359998 non-zero entries\n"
          ]
        },
        {
          "output_type": "stream",
          "name": "stdout",
          "text": [
            "MmCorpus(91800 documents, 40144 features, 8783660 non-zero entries)\n",
            "MmCorpus(91800 documents, 200 features, 18359998 non-zero entries)\n"
          ]
        }
      ],
      "source": [
        "tfidf_corpus = gensim.corpora.MmCorpus('./data/wiki_tfidf.mm')\n",
        "# `tfidf_corpus` is now exactly the same as `tfidf_model[wiki_corpus]`\n",
        "print(tfidf_corpus)\n",
        "\n",
        "lsi_corpus = gensim.corpora.MmCorpus('./data/wiki_lsa.mm')\n",
        "# and `lsi_corpus` now equals `lsi_model[tfidf_model[wiki_corpus]]` = `lsi_model[tfidf_corpus]`\n",
        "print(lsi_corpus)"
      ]
    },
    {
      "cell_type": "code",
      "execution_count": null,
      "metadata": {
        "colab": {
          "base_uri": "https://localhost:8080/"
        },
        "id": "WY1w_tAHmVpu",
        "outputId": "01229c19-ccb3-446c-af1e-691a81098111"
      },
      "outputs": [
        {
          "output_type": "stream",
          "name": "stdout",
          "text": [
            "LSI Topic Models computed at 2024-04-10 04:14:22.898972\n"
          ]
        }
      ],
      "source": [
        "now = datetime.now()\n",
        "\n",
        "print(\"LSI Topic Models computed at\", now)"
      ]
    },
    {
      "cell_type": "markdown",
      "source": [
        "## Transforming unseen documents\n",
        "We can use the trained models to transform new, unseen documents into the semantic space:"
      ],
      "metadata": {
        "id": "E0Oebr8rDNzc"
      }
    },
    {
      "cell_type": "code",
      "execution_count": null,
      "metadata": {
        "colab": {
          "base_uri": "https://localhost:8080/"
        },
        "id": "rI-uWLw2UCix",
        "outputId": "d8df394d-acfe-4b52-a8fa-098393c0a724"
      },
      "outputs": [
        {
          "output_type": "stream",
          "name": "stdout",
          "text": [
            "[('normally', 1), ('blood', 2), ('produced', 1), ('cell', 2)]\n"
          ]
        }
      ],
      "source": [
        "text = \"A blood cell, also called a hematocyte, is a cell produced by hematopoiesis and normally found in blood.\"\n",
        "\n",
        "# transform text into the bag-of-words space\n",
        "bow_vector = id2word_wiki.doc2bow(tokenize(text))\n",
        "print([(id2word_wiki[id], count) for id, count in bow_vector])"
      ]
    },
    {
      "cell_type": "code",
      "execution_count": null,
      "metadata": {
        "colab": {
          "base_uri": "https://localhost:8080/"
        },
        "id": "Ct3v7t5uUKA3",
        "outputId": "209b441c-0b0b-4237-bad1-95f33f914944"
      },
      "outputs": [
        {
          "output_type": "stream",
          "name": "stdout",
          "text": [
            "[(0, 0.014289404), (1, 0.014288319), (2, 0.01429191), (3, 0.014287765), (4, 0.014288522), (5, 0.014288369), (6, 0.014288897), (7, 0.014287696), (8, 0.8714012), (9, 0.014287937)]\n",
            "0.006*\"body\" + 0.005*\"earth\" + 0.005*\"person\" + 0.005*\"energy\" + 0.005*\"blood\" + 0.004*\"things\" + 0.004*\"light\" + 0.003*\"god\" + 0.003*\"example\" + 0.003*\"water\"\n"
          ]
        }
      ],
      "source": [
        "# transform into LDA space\n",
        "lda_vector = lda_model[bow_vector]\n",
        "print(lda_vector)\n",
        "# print the document's single most prominent LDA topic\n",
        "print(lda_model.print_topic(max(lda_vector, key=lambda item: item[1])[0]))"
      ]
    },
    {
      "cell_type": "markdown",
      "source": [
        "**Question 2**: print text transformed into TFIDF space.\n",
        "\n",
        "For stacked transformations, apply the same stack during transformation as was applied during training:"
      ],
      "metadata": {
        "id": "v1ZFOv5xDdiz"
      }
    },
    {
      "cell_type": "code",
      "execution_count": null,
      "metadata": {
        "colab": {
          "base_uri": "https://localhost:8080/"
        },
        "id": "pUAn_JaXURuV",
        "outputId": "56b21e5b-6680-40ce-8230-bba3a8081288"
      },
      "outputs": [
        {
          "output_type": "stream",
          "name": "stdout",
          "text": [
            "[(0, 0.020720004660641587), (1, 0.013357516771328265), (2, -0.009379332782649701), (3, -0.015672874403302495), (4, 0.012308826662221144), (5, 0.022699981295838098), (6, -0.022526631153698864), (7, 0.019038195679010304), (8, -0.0012577086915277324), (9, 0.0014327420506452253), (10, 0.003144889803628971), (11, -0.0030415043510007914), (12, -0.0013726238369506367), (13, 0.017716179961230406), (14, -0.01441679191590546), (15, -0.003794538556045766), (16, -0.0061187163008749115), (17, -0.007431193772153609), (18, -0.008753079511298117), (19, -0.016543257261259398), (20, -0.016521488252354867), (21, -0.00583841055182623), (22, -0.04051803652323055), (23, -0.0014276752036127853), (24, 0.0520993609955044), (25, 0.0069610756826950825), (26, 0.030211649107315077), (27, -0.03561156244716797), (28, -0.010036503299963367), (29, 0.019675195617331234), (30, -0.009719054808061366), (31, 0.005839746042498598), (32, 0.0008693477420477864), (33, -0.023744623460863257), (34, -0.0032109367000043333), (35, 0.040609443829861834), (36, 0.08277815925515639), (37, -0.004842482696273327), (38, 0.00730938725473733), (39, -0.00025648229001027723), (40, 0.007492009060262744), (41, 0.014904684012810279), (42, 0.00924332385751247), (43, 0.007738616454255487), (44, 0.012361693174650603), (45, 0.014582964815219646), (46, -0.018973645900135967), (47, 0.00782097337217532), (48, -0.03094054129337937), (49, 0.014365892443301317), (50, -0.013823476064159103), (51, 0.020403523184406733), (52, 0.04489368930688775), (53, 0.04457302321284841), (54, 0.1278969123191436), (55, -0.02189880391339178), (56, -0.001090662026320634), (57, 0.047703592257488464), (58, -0.002543270992611684), (59, -0.05264024520419382), (60, 0.06874003268930118), (61, -0.0017083795829189131), (62, -0.02677925584119043), (63, -0.006538898590527828), (64, 0.011258235721387344), (65, 0.03942877555116723), (66, 0.018993804705063927), (67, 0.058411209561569054), (68, -0.05553382747259762), (69, -0.02544344101897185), (70, -0.05265277887357097), (71, -0.035549331409128686), (72, 0.06937183965815248), (73, 0.07129467747253068), (74, -0.023728224874335815), (75, -0.08218469115638655), (76, -0.004069393213387545), (77, 0.007932565053580911), (78, -0.08670250967621149), (79, -0.05138267665319958), (80, -0.03235824267155844), (81, -0.018028813999897426), (82, 0.02334314214470621), (83, -0.02942534660018542), (84, -0.03749263030363938), (85, 0.012572134087007886), (86, 0.06648814747221124), (87, 0.11350955519853556), (88, -0.0798003525270982), (89, -0.04230967829580512), (90, 0.021836246499873237), (91, 0.05067364371950662), (92, -0.056692794146617424), (93, 0.011070287974430323), (94, 0.11631453315142307), (95, 0.04932946456383686), (96, 0.05534481998454138), (97, -0.023970673058237912), (98, 0.009590622725449157), (99, 0.07617674877803493), (100, -0.03510519881174613), (101, 0.007301092683381673), (102, -0.0589612165248961), (103, -0.04120336882548167), (104, -0.04385701825507854), (105, 0.050987105452014375), (106, 0.01429427861578543), (107, -0.0073846686494740705), (108, -0.029978796957346437), (109, 0.04092202923776404), (110, -0.01836088202456961), (111, -0.0007279189596557083), (112, 0.05891180635052809), (113, -0.05833619934167634), (114, 0.02152235080171817), (115, -0.03255999440768575), (116, 0.0044731134552613155), (117, 0.016717162813002742), (118, -0.016523732145113705), (119, -0.04461991436497795), (120, 0.03589280548935951), (121, 0.05058311558521121), (122, -0.037675858583546246), (123, -0.022892826613105606), (124, -0.0027297683079916413), (125, -0.03430384166616041), (126, -0.0498958601065528), (127, -0.017580086472226447), (128, 0.017078043335366003), (129, 0.03162193189672798), (130, 0.026152514324577478), (131, 0.006604336678489675), (132, 0.006032729865609911), (133, -0.010315733342636399), (134, -0.026409110583231105), (135, 0.006455374018885319), (136, 0.015228308215079747), (137, -0.03136793684290509), (138, 0.045207250811109774), (139, 0.006184412877380318), (140, 0.005421526798424042), (141, 0.011204882428193943), (142, 0.034249609313980314), (143, 0.004728711066346412), (144, -0.011886373832478349), (145, 0.023120377662713167), (146, 0.025833974135610623), (147, 0.033105167761934645), (148, 0.019608522555414773), (149, -0.009520633325928155), (150, -0.05201700944337982), (151, 0.045732287747589015), (152, 0.006743471818434813), (153, 0.014543338241109097), (154, 0.04470971042936479), (155, 0.03371232831243667), (156, -0.013296009460979443), (157, 0.030848388019802886), (158, -0.016977790162005808), (159, -0.010109961738564557), (160, -0.049123236090937154), (161, -0.02784920460251437), (162, 0.022459631716005374), (163, -0.010780078578241125), (164, 0.019933788943871236), (165, 0.04458744212889564), (166, 0.024761432653962714), (167, 0.035888074914439086), (168, 0.002433021064002904), (169, -0.030438725791961642), (170, -0.02421462607283391), (171, -0.01974104410766792), (172, 0.07551741414855062), (173, 0.026775002040343027), (174, 0.0351502151709459), (175, -0.00018941168384716336), (176, 0.043513334487362845), (177, 0.07287535086783237), (178, -0.002132064537905397), (179, -0.02262163936670137), (180, -0.017711289304879082), (181, -0.009468353102361679), (182, -0.06079211586940622), (183, 0.009933650989035966), (184, -0.01625382885923954), (185, 0.01996772082069538), (186, -0.08103940193770402), (187, 0.06800476772546693), (188, -0.012108202085717015), (189, -0.05267958713576579), (190, 0.027061458054508002), (191, 0.055745663216910296), (192, -0.037218858338258325), (193, 0.014003773856113772), (194, -0.011921881415447876), (195, -0.013586859477037538), (196, -0.022078568892498533), (197, 0.02646394482567918), (198, -0.04189667335529319), (199, -0.02154411971076356)]\n",
            "-0.153*\"women\" + 0.149*\"language\" + 0.140*\"ret\" + 0.140*\"disease\" + 0.121*\"cells\" + 0.121*\"blood\" + 0.118*\"cancer\" + -0.111*\"la\" + 0.111*\"episode\" + 0.109*\"bc\"\n"
          ]
        }
      ],
      "source": [
        "# transform into LSI space\n",
        "lsi_vector = lsi_model[tfidf_model[bow_vector]]\n",
        "print(lsi_vector)\n",
        "# print the document's single most prominent LSI topic (not interpretable like LDA!)\n",
        "print(lsi_model.print_topic(max(lsi_vector, key=lambda item: abs(item[1]))[0]))"
      ]
    },
    {
      "cell_type": "code",
      "execution_count": null,
      "metadata": {
        "colab": {
          "base_uri": "https://localhost:8080/"
        },
        "id": "-GwRtBZjUWKt",
        "outputId": "a3d3a268-c7af-4bfd-9ec5-422a543a7018"
      },
      "outputs": [
        {
          "output_type": "stream",
          "name": "stderr",
          "text": [
            "INFO:gensim.utils:LdaState lifecycle event {'fname_or_handle': './data/lda_wiki.model.state', 'separately': 'None', 'sep_limit': 10485760, 'ignore': frozenset(), 'datetime': '2024-04-10T04:14:22.976755', 'gensim': '4.3.2', 'python': '3.10.12 (main, Nov 20 2023, 15:14:05) [GCC 11.4.0]', 'platform': 'Linux-6.1.58+-x86_64-with-glibc2.35', 'event': 'saving'}\n",
            "INFO:gensim.utils:saved ./data/lda_wiki.model.state\n",
            "INFO:gensim.utils:LdaModel lifecycle event {'fname_or_handle': './data/lda_wiki.model', 'separately': \"['expElogbeta', 'sstats']\", 'sep_limit': 10485760, 'ignore': ['id2word', 'dispatcher', 'state'], 'datetime': '2024-04-10T04:14:23.041766', 'gensim': '4.3.2', 'python': '3.10.12 (main, Nov 20 2023, 15:14:05) [GCC 11.4.0]', 'platform': 'Linux-6.1.58+-x86_64-with-glibc2.35', 'event': 'saving'}\n",
            "INFO:gensim.utils:storing np array 'expElogbeta' to ./data/lda_wiki.model.expElogbeta.npy\n",
            "INFO:gensim.utils:not storing attribute id2word\n",
            "INFO:gensim.utils:not storing attribute dispatcher\n",
            "INFO:gensim.utils:not storing attribute state\n",
            "INFO:gensim.utils:saved ./data/lda_wiki.model\n",
            "INFO:gensim.utils:Projection lifecycle event {'fname_or_handle': './data/lsi_wiki.model.projection', 'separately': 'None', 'sep_limit': 10485760, 'ignore': frozenset(), 'datetime': '2024-04-10T04:14:23.066978', 'gensim': '4.3.2', 'python': '3.10.12 (main, Nov 20 2023, 15:14:05) [GCC 11.4.0]', 'platform': 'Linux-6.1.58+-x86_64-with-glibc2.35', 'event': 'saving'}\n",
            "INFO:gensim.utils:saved ./data/lsi_wiki.model.projection\n",
            "INFO:gensim.utils:LsiModel lifecycle event {'fname_or_handle': './data/lsi_wiki.model', 'separately': 'None', 'sep_limit': 10485760, 'ignore': ['projection', 'dispatcher'], 'datetime': '2024-04-10T04:14:23.339570', 'gensim': '4.3.2', 'python': '3.10.12 (main, Nov 20 2023, 15:14:05) [GCC 11.4.0]', 'platform': 'Linux-6.1.58+-x86_64-with-glibc2.35', 'event': 'saving'}\n",
            "INFO:gensim.utils:not storing attribute projection\n",
            "INFO:gensim.utils:not storing attribute dispatcher\n",
            "INFO:gensim.utils:saved ./data/lsi_wiki.model\n",
            "INFO:gensim.utils:TfidfModel lifecycle event {'fname_or_handle': './data/tfidf_wiki.model', 'separately': 'None', 'sep_limit': 10485760, 'ignore': frozenset(), 'datetime': '2024-04-10T04:14:23.389323', 'gensim': '4.3.2', 'python': '3.10.12 (main, Nov 20 2023, 15:14:05) [GCC 11.4.0]', 'platform': 'Linux-6.1.58+-x86_64-with-glibc2.35', 'event': 'saving'}\n",
            "INFO:gensim.utils:saved ./data/tfidf_wiki.model\n",
            "INFO:gensim.utils:Dictionary lifecycle event {'fname_or_handle': './data/wiki.dictionary', 'separately': 'None', 'sep_limit': 10485760, 'ignore': frozenset(), 'datetime': '2024-04-10T04:14:23.673258', 'gensim': '4.3.2', 'python': '3.10.12 (main, Nov 20 2023, 15:14:05) [GCC 11.4.0]', 'platform': 'Linux-6.1.58+-x86_64-with-glibc2.35', 'event': 'saving'}\n",
            "INFO:gensim.utils:saved ./data/wiki.dictionary\n"
          ]
        }
      ],
      "source": [
        "# store all trained models to disk\n",
        "lda_model.save('./data/lda_wiki.model')\n",
        "lsi_model.save('./data/lsi_wiki.model')\n",
        "tfidf_model.save('./data/tfidf_wiki.model')\n",
        "id2word_wiki.save('./data/wiki.dictionary')"
      ]
    },
    {
      "cell_type": "code",
      "execution_count": null,
      "metadata": {
        "colab": {
          "base_uri": "https://localhost:8080/"
        },
        "id": "y_9qJAv1UZ9z",
        "outputId": "f1683814-2081-4c2a-b510-5fcffa7011e2"
      },
      "outputs": [
        {
          "output_type": "stream",
          "name": "stderr",
          "text": [
            "INFO:gensim.utils:loading LdaModel object from ./data/lda_wiki.model\n",
            "INFO:gensim.utils:loading expElogbeta from ./data/lda_wiki.model.expElogbeta.npy with mmap=None\n",
            "INFO:gensim.utils:setting ignored attribute id2word to None\n",
            "INFO:gensim.utils:setting ignored attribute dispatcher to None\n",
            "INFO:gensim.utils:setting ignored attribute state to None\n",
            "INFO:gensim.utils:LdaModel lifecycle event {'fname': './data/lda_wiki.model', 'datetime': '2024-04-10T04:14:23.745980', 'gensim': '4.3.2', 'python': '3.10.12 (main, Nov 20 2023, 15:14:05) [GCC 11.4.0]', 'platform': 'Linux-6.1.58+-x86_64-with-glibc2.35', 'event': 'loaded'}\n",
            "INFO:gensim.utils:loading LdaState object from ./data/lda_wiki.model.state\n",
            "INFO:gensim.utils:LdaState lifecycle event {'fname': './data/lda_wiki.model.state', 'datetime': '2024-04-10T04:14:23.749084', 'gensim': '4.3.2', 'python': '3.10.12 (main, Nov 20 2023, 15:14:05) [GCC 11.4.0]', 'platform': 'Linux-6.1.58+-x86_64-with-glibc2.35', 'event': 'loaded'}\n"
          ]
        }
      ],
      "source": [
        "\n",
        "# load the same model back; the result is equal to `lda_model`\n",
        "same_lda_model = gensim.models.LdaModel.load('./data/lda_wiki.model')"
      ]
    },
    {
      "cell_type": "markdown",
      "source": [
        "## Evaluation\n",
        "Topic modeling is an **unsupervised task**; we do not know in advance what the topics ought to look like. This makes evaluation tricky: whereas in supervised learning (classification, regression) we simply compare predicted labels to expected labels, there are no \"expected labels\" in topic modeling.\n",
        "\n",
        "Each topic modeling method (LSI, LDA...) its own way of measuring internal quality (perplexity, reconstruction error...). But these are an artifact of the particular approach taken (bayesian training, matrix factorization...), and mostly of academic interest. There's no way to compare such scores across different types of topic models, either. The best way to really evaluate quality of unsupervised tasks is to **evaluate how they improve the superordinate task, the one we're actually training them for**.\n",
        "\n",
        "For example, when the ultimate goal is to retrieve semantically similar documents, we manually tag a set of similar documents and then see how well a given semantic model maps those similar documents together.\n",
        "\n",
        "Such manual tagging can be resource intensive, so people hae been looking for clever ways to automate it. In [Reading tea leaves: How humans interpret topic models](http://www.umiacs.umd.edu/~jbg/docs/nips2009-rtl.pdf), Wallach *et al* suggest a \"word intrusion\" method that works well for models where the topics are meant to be \"human interpretable\", such as LDA. For each trained topic, they take its first ten words, then substitute one of them with another, randomly chosen word (intruder!) and see whether a human can reliably tell which one it was. If so, the trained topic is **topically coherent** (good); if not, the topic has no discernible theme (bad):"
      ],
      "metadata": {
        "id": "zj25epFWD4dv"
      }
    },
    {
      "cell_type": "markdown",
      "source": [
        "## Misplaced Words\n",
        "\n"
      ],
      "metadata": {
        "id": "Ruh20UwcE-iu"
      }
    },
    {
      "cell_type": "code",
      "execution_count": null,
      "metadata": {
        "colab": {
          "base_uri": "https://localhost:8080/"
        },
        "id": "9hnOUHGUUgNh",
        "outputId": "2329d93a-e956-456c-d566-80c7f4d0e80c"
      },
      "outputs": [
        {
          "output_type": "stream",
          "name": "stdout",
          "text": [
            "[[0.008350637, 0.007397485, 0.006941463, 0.0065830783, 0.0049006, 0.004516132, 0.0041595628, 0.0041440614, 0.004063852, 0.004038208, 0.0038332418, 0.0038062783, 0.003426539, 0.0031350215, 0.0031331906, 0.0029130662, 0.0029055623, 0.0026874328, 0.0025749619, 0.0025652256, 0.0025554355, 0.0025443295, 0.0025236185, 0.002298591, 0.0022937448, 0.0022016324, 0.002194404, 0.0021291524, 0.0021244825, 0.0021002106, 0.0020945922, 0.0020711545, 0.0020437608, 0.0020324371, 0.0020308578, 0.0020105361, 0.002003498, 0.0020023382, 0.0019649477, 0.0019646515, 0.0019359563, 0.0019309411, 0.0019019216, 0.001898027, 0.001871013, 0.0018475604, 0.0018174546, 0.0017710046, 0.0017300264, 0.0017087219], [0.004720031, 0.0046042735, 0.0045501823, 0.004401547, 0.0040799337, 0.0038040925, 0.0036388119, 0.0036215037, 0.0035789288, 0.0034694197, 0.00331112, 0.0032919012, 0.0031988383, 0.0031890618, 0.003051889, 0.002947789, 0.002916951, 0.0027302834, 0.002703499, 0.0026302882, 0.0026198893, 0.002464489, 0.0024533728, 0.0023817078, 0.0023545262, 0.0023248384, 0.0023154865, 0.0023101654, 0.0022755982, 0.0022111305, 0.0021127583, 0.002077358, 0.0020636085, 0.0020384793, 0.0019934513, 0.0019779042, 0.0019559523, 0.0019432086, 0.001932271, 0.0019089493, 0.0018879641, 0.001856377, 0.0018521433, 0.001830743, 0.0018275012, 0.0016933085, 0.00168871, 0.0016546312, 0.0016373283, 0.001606298], [0.010379708, 0.01024255, 0.01022815, 0.006335118, 0.0048161442, 0.0046633324, 0.0038361708, 0.0037611716, 0.0035633536, 0.0034463282, 0.003384132, 0.0033691695, 0.0033685307, 0.0029087136, 0.0027990267, 0.0027763257, 0.002774767, 0.0027457878, 0.002582587, 0.0025311788, 0.0025073276, 0.0023982576, 0.0023938518, 0.0023897637, 0.0022481056, 0.0022157475, 0.0021781723, 0.0021407912, 0.002137044, 0.002136874, 0.0020700938, 0.0020105608, 0.0019738046, 0.001971744, 0.0019222873, 0.0018535483, 0.0018484385, 0.0018388149, 0.0018223221, 0.0017997306, 0.0017736094, 0.001752168, 0.0017402681, 0.00171564, 0.001715269, 0.0017117106, 0.0016783974, 0.0016732605, 0.0016568439, 0.0016518057], [0.013647125, 0.013625862, 0.010835143, 0.008190733, 0.0050404808, 0.0050088046, 0.0047563515, 0.004664614, 0.00457027, 0.0043451795, 0.004295908, 0.004113164, 0.003950399, 0.0037705756, 0.0037542528, 0.0033591005, 0.0031960951, 0.0031875588, 0.0031321845, 0.002774605, 0.0027169904, 0.0026643693, 0.0024939615, 0.0023628674, 0.0022879757, 0.0022641048, 0.0022497755, 0.0021732228, 0.002142614, 0.0021350076, 0.0020731469, 0.002029326, 0.0020273374, 0.0020146936, 0.0018960873, 0.0018268032, 0.001810432, 0.0017966976, 0.0017402648, 0.0017350847, 0.0016979253, 0.0016297091, 0.0016009606, 0.0015951165, 0.0015573141, 0.0015478653, 0.001452474, 0.0014264805, 0.001412967, 0.0013932593], [0.0071540223, 0.004780012, 0.0042741518, 0.0039119376, 0.0037019884, 0.003685616, 0.0035745662, 0.0033098771, 0.0031256536, 0.0030545723, 0.0028873142, 0.002741644, 0.0025226332, 0.0025092987, 0.0025058198, 0.0024758747, 0.0024090079, 0.0023826975, 0.0023758379, 0.0023733738, 0.002319208, 0.002278853, 0.0022462942, 0.0022407884, 0.0021254504, 0.0019891744, 0.001959417, 0.0019531853, 0.0017954968, 0.0017750089, 0.0017433666, 0.0017398974, 0.0016943085, 0.0016835944, 0.0016822716, 0.0016763808, 0.001660118, 0.0016553233, 0.0016525552, 0.0016472469, 0.001646675, 0.0016417603, 0.0016186406, 0.0015757567, 0.0015738561, 0.0015722237, 0.0015439793, 0.0015419269, 0.0015383431, 0.0015097221], [0.0054650092, 0.004256164, 0.0036209396, 0.0034891535, 0.003452445, 0.0033750415, 0.0031091657, 0.0031069184, 0.002869573, 0.0028384211, 0.0028011256, 0.0027667521, 0.0027243253, 0.0027212221, 0.0026604694, 0.0026046832, 0.0025871464, 0.0024304516, 0.002339283, 0.0022829482, 0.0022140595, 0.0021720445, 0.0021718831, 0.0021475637, 0.0020560867, 0.0020547034, 0.001985007, 0.0019283675, 0.0019250376, 0.0019189416, 0.0019187985, 0.0019185483, 0.0019114546, 0.0019096987, 0.0019034151, 0.0017957217, 0.0017904594, 0.0017803519, 0.001746776, 0.0017230503, 0.0017219953, 0.0016631294, 0.001653287, 0.0016339159, 0.0016322087, 0.0016231587, 0.0016048093, 0.0015850338, 0.0015770639, 0.0015654935], [0.0063656745, 0.0060467264, 0.0055051385, 0.0049580876, 0.004928199, 0.00439853, 0.0038965896, 0.0038204468, 0.003677861, 0.003040766, 0.0030351994, 0.002950009, 0.0028930958, 0.002880874, 0.00287315, 0.002806352, 0.0025690706, 0.002508046, 0.0024495497, 0.0024460228, 0.0023955402, 0.0023803965, 0.0023686246, 0.0022551536, 0.0022412594, 0.0022313222, 0.0022170644, 0.002212703, 0.002144262, 0.002143599, 0.0020909153, 0.0019230206, 0.0018993563, 0.0018047091, 0.001787189, 0.0017567814, 0.0017480052, 0.0017064539, 0.0016975038, 0.0016908351, 0.0016619001, 0.0016600345, 0.0016261627, 0.0015693719, 0.0015445867, 0.0015352626, 0.001509488, 0.0015089661, 0.0015064713, 0.0015041165], [0.013562761, 0.012099842, 0.011208905, 0.010848967, 0.01074089, 0.010294073, 0.009956967, 0.009551058, 0.009095366, 0.008846102, 0.006943981, 0.005340536, 0.0051762653, 0.0047389213, 0.004729091, 0.00468881, 0.004655689, 0.004363154, 0.004178193, 0.0040309858, 0.0038927742, 0.0037652228, 0.0036005003, 0.0034209983, 0.003204978, 0.0031522962, 0.0030298533, 0.0029886756, 0.0029119598, 0.0027659866, 0.0027463415, 0.0027406754, 0.0026089337, 0.0025487584, 0.002476402, 0.0024738302, 0.0024335107, 0.002383494, 0.002358221, 0.0023579265, 0.0023010296, 0.0022112355, 0.0021439807, 0.002141584, 0.0020646867, 0.0020603412, 0.0020465206, 0.0020408737, 0.0020401564, 0.0020131795], [0.005529993, 0.005254418, 0.005011069, 0.0049812603, 0.0045986017, 0.00411266, 0.0038533553, 0.0030253786, 0.0029047474, 0.00282801, 0.0027975983, 0.0027874864, 0.002711567, 0.0026953125, 0.0025385136, 0.0023596901, 0.0023448903, 0.0023341323, 0.002280013, 0.0022744117, 0.002243679, 0.0022373411, 0.0022041493, 0.0021850385, 0.0021591976, 0.0021519535, 0.0021396899, 0.0021384119, 0.0021277303, 0.0021163872, 0.0020811153, 0.0020303791, 0.002013909, 0.0019784255, 0.0019652084, 0.001961571, 0.0019211259, 0.0019162816, 0.0018045382, 0.0017652556, 0.0016926279, 0.0016887891, 0.0016881936, 0.0016732863, 0.001672523, 0.0016640475, 0.0016637467, 0.0016561691, 0.001642022, 0.0016384774], [0.0068101785, 0.0056169424, 0.0045260205, 0.0040549696, 0.0040354193, 0.004003835, 0.003391768, 0.0032700822, 0.0031965938, 0.003011405, 0.0028738852, 0.0028626642, 0.0028439984, 0.0026334028, 0.0025866847, 0.002582847, 0.0025630272, 0.002559568, 0.0025459237, 0.0023067568, 0.0022666766, 0.0022490546, 0.0022298305, 0.0022239606, 0.0021865144, 0.0021793663, 0.002159196, 0.0021511791, 0.0021118505, 0.0020866978, 0.0020490165, 0.0019494505, 0.0019007243, 0.0018874384, 0.001871671, 0.0018453483, 0.0018422826, 0.0018338407, 0.0017902759, 0.0017895786, 0.0017851467, 0.0017677872, 0.0017638981, 0.0017614665, 0.0017480338, 0.0017471691, 0.0017341849, 0.0017311359, 0.0017030016, 0.001685157]]\n"
          ]
        }
      ],
      "source": [
        "# select top 50 words for each of the 20 LDA topics\n",
        "top_words = [[word for _, word in lda_model.show_topic(topicno, topn=50)] for topicno in range(lda_model.num_topics)]\n",
        "print(top_words)"
      ]
    },
    {
      "cell_type": "code",
      "execution_count": null,
      "metadata": {
        "colab": {
          "base_uri": "https://localhost:8080/"
        },
        "id": "WBBVk3W-UnE-",
        "outputId": "10c9fad6-1055-4e6b-ac5c-fc78c18e083e"
      },
      "outputs": [
        {
          "output_type": "stream",
          "name": "stdout",
          "text": [
            "Can you spot the misplaced word in each topic?\n",
            "0 0.008350637 0.007397485 0.006941463 0.0065830783 0.0049006 0.004516132 0.0041595628 0.0041440614 0.0045501823 0.004038208\n",
            "1 0.004720031 0.0046042735 0.0045501823 0.004401547 0.0040799337 0.0038040925 0.0036388119 0.00282801 0.0035789288 0.0034694197\n",
            "2 0.010379708 0.006941463 0.01022815 0.006335118 0.0048161442 0.0046633324 0.0038361708 0.0037611716 0.0035633536 0.0034463282\n",
            "3 0.013647125 0.013625862 0.010835143 0.008190733 0.0050404808 0.0050088046 0.0047563515 0.004664614 0.00457027 0.0024304516\n",
            "4 0.0071540223 0.004780012 0.0042741518 0.0039119376 0.0037019884 0.003685616 0.0035745662 0.0033098771 0.0031256536 0.0017638981\n",
            "5 0.0054650092 0.004256164 0.0023579265 0.0034891535 0.003452445 0.0033750415 0.0031091657 0.0031069184 0.002869573 0.0028384211\n",
            "6 0.0016881936 0.0060467264 0.0055051385 0.0049580876 0.004928199 0.00439853 0.0038965896 0.0038204468 0.003677861 0.003040766\n",
            "7 0.013562761 0.0019019216 0.011208905 0.010848967 0.01074089 0.010294073 0.009956967 0.009551058 0.009095366 0.008846102\n",
            "8 0.005529993 0.005254418 0.005011069 0.002144262 0.0045986017 0.00411266 0.0038533553 0.0030253786 0.0029047474 0.00282801\n",
            "9 0.0017219953 0.0056169424 0.0045260205 0.0040549696 0.0040354193 0.004003835 0.003391768 0.0032700822 0.0031965938 0.003011405\n"
          ]
        }
      ],
      "source": [
        "# get all top 50 words in all 20 topics, as one large set\n",
        "all_words = set(itertools.chain.from_iterable(top_words))\n",
        "\n",
        "print(\"Can you spot the misplaced word in each topic?\")\n",
        "\n",
        "# for each topic, replace a word at a different index, to make it more interesting\n",
        "replace_index = np.random.randint(0, 10, lda_model.num_topics)\n",
        "\n",
        "replacements = []\n",
        "for topicno, words in enumerate(top_words):\n",
        "    other_words = all_words.difference(words)\n",
        "    replacement = np.random.choice(list(other_words))\n",
        "    replacements.append((words[replace_index[topicno]], replacement))\n",
        "    words[replace_index[topicno]] = replacement\n",
        "    print (topicno, ' '.join([str(w) for w in words[:10]]))\n",
        "    # print(\"%i: %s\" % (topicno, ' '.join(words[:10])))"
      ]
    },
    {
      "cell_type": "code",
      "execution_count": null,
      "metadata": {
        "colab": {
          "base_uri": "https://localhost:8080/"
        },
        "id": "HLgEex1tUwK1",
        "outputId": "b8533aad-4838-4d3d-8aa4-824f3a2cfa82"
      },
      "outputs": [
        {
          "output_type": "stream",
          "name": "stdout",
          "text": [
            "Actual replacements were:\n",
            "[(0, (0.004063852, 0.0045501823)), (1, (0.0036215037, 0.00282801)), (2, (0.01024255, 0.006941463)), (3, (0.0043451795, 0.0024304516)), (4, (0.0030545723, 0.0017638981)), (5, (0.0036209396, 0.0023579265)), (6, (0.0063656745, 0.0016881936)), (7, (0.012099842, 0.0019019216)), (8, (0.0049812603, 0.002144262)), (9, (0.0068101785, 0.0017219953))]\n"
          ]
        }
      ],
      "source": [
        "print(\"Actual replacements were:\")\n",
        "print(list(enumerate(replacements)))"
      ]
    },
    {
      "cell_type": "code",
      "execution_count": null,
      "metadata": {
        "id": "bBlGBL5xU02d"
      },
      "outputs": [],
      "source": [
        "# evaluate on 1k documents **not** used in LDA training\n",
        "doc_stream = (tokens for _, tokens in iter_wiki(wiki_file))  # generator\n",
        "test_docs = list(itertools.islice(doc_stream, 8000, 9000))"
      ]
    },
    {
      "cell_type": "code",
      "execution_count": null,
      "metadata": {
        "id": "H8we2ffzVPyh"
      },
      "outputs": [],
      "source": [
        "def intra_inter(model, test_docs, num_pairs=10000):\n",
        "    # split each test document into two halves and compute topics for each half\n",
        "    half = int(len(test_docs)/2)\n",
        "    part1 = [model[id2word_wiki.doc2bow(tokens[: half])] for tokens in test_docs]\n",
        "    part2 = [model[id2word_wiki.doc2bow(tokens[half :])] for tokens in test_docs]\n",
        "\n",
        "    # print computed similarities (uses cossim)\n",
        "    print(\"average cosine similarity between corresponding parts (higher is better):\")\n",
        "    print(np.mean([gensim.matutils.cossim(p1, p2) for p1, p2 in zip(part1, part2)]))\n",
        "\n",
        "    random_pairs = np.random.randint(0, len(test_docs), size=(num_pairs, 2))\n",
        "    print(\"average cosine similarity between 10,000 random parts (lower is better):\")\n",
        "    print(np.mean([gensim.matutils.cossim(part1[i[0]], part2[i[1]]) for i in random_pairs]))"
      ]
    },
    {
      "cell_type": "code",
      "execution_count": null,
      "metadata": {
        "colab": {
          "base_uri": "https://localhost:8080/"
        },
        "id": "pUS3wj1mVXKS",
        "outputId": "5e909e87-b8aa-4478-d966-1f7f3b8df5e8"
      },
      "outputs": [
        {
          "output_type": "stream",
          "name": "stdout",
          "text": [
            "LDA results:\n",
            "average cosine similarity between corresponding parts (higher is better):\n",
            "0.5163370637185376\n",
            "average cosine similarity between 10,000 random parts (lower is better):\n",
            "0.46533279287134977\n"
          ]
        }
      ],
      "source": [
        "print(\"LDA results:\")\n",
        "intra_inter(lda_model, test_docs)"
      ]
    },
    {
      "cell_type": "code",
      "execution_count": null,
      "metadata": {
        "colab": {
          "base_uri": "https://localhost:8080/"
        },
        "id": "5qIfitLMVkrg",
        "outputId": "bfd6dc1a-8be1-4f30-d65f-928d7febb561"
      },
      "outputs": [
        {
          "output_type": "stream",
          "name": "stdout",
          "text": [
            "LSI results:\n",
            "average cosine similarity between corresponding parts (higher is better):\n",
            "0.06461499295266829\n",
            "average cosine similarity between 10,000 random parts (lower is better):\n",
            "0.008616671789049894\n"
          ]
        }
      ],
      "source": [
        "print(\"LSI results:\")\n",
        "intra_inter(lsi_model, test_docs)"
      ]
    },
    {
      "cell_type": "code",
      "execution_count": null,
      "metadata": {
        "colab": {
          "base_uri": "https://localhost:8080/"
        },
        "id": "2skCjSKyk1et",
        "outputId": "87a00928-dbc0-4864-ef64-35b75b6bc5cd"
      },
      "outputs": [
        {
          "output_type": "stream",
          "name": "stdout",
          "text": [
            "Ended at 2024-04-10 04:15:39.087591\n"
          ]
        }
      ],
      "source": [
        "now = datetime.now()\n",
        "\n",
        "print(\"Ended at\", now)"
      ]
    }
  ],
  "metadata": {
    "colab": {
      "provenance": []
    },
    "kernelspec": {
      "display_name": "Python 3",
      "language": "python",
      "name": "python3"
    },
    "language_info": {
      "codemirror_mode": {
        "name": "ipython",
        "version": 3
      },
      "file_extension": ".py",
      "mimetype": "text/x-python",
      "name": "python",
      "nbconvert_exporter": "python",
      "pygments_lexer": "ipython3",
      "version": "3.6.4"
    }
  },
  "nbformat": 4,
  "nbformat_minor": 0
}